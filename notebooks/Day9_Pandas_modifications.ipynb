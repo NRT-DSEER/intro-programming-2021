{
 "cells": [
  {
   "cell_type": "markdown",
   "id": "9a524a03",
   "metadata": {},
   "source": [
    "# Previous Lesson Review: Day 8 Pandas_Intro\n",
    "\n",
    "In the previous lesson you learned how to:\n",
    "\n",
    "1. Create a dataframe from scratch\n",
    "2. Read in tabular data into a dataframe\n",
    "3. View and access data in the dataframe\n",
    "4. Save and export a dataframe"
   ]
  },
  {
   "cell_type": "markdown",
   "id": "877d0f6b",
   "metadata": {},
   "source": [
    "# Day 9: Pandas_Modifications\n",
    "In the previous lesson we learned about dataframes, in this lesson we will learn how to modify dataframes."
   ]
  },
  {
   "cell_type": "markdown",
   "id": "5ef752c0",
   "metadata": {},
   "source": [
    "# Goals:\n",
    "\n",
    "Students will be able to :\n",
    "\n",
    "1. Modify dataframe\n",
    "2. Modify values\n",
    "3. Clean data and make a function to import data\n",
    "4. Merge, concat, append\n",
    "5. Automation \n",
    "\n",
    "Here is a picture of panda not letting go of the zookeeper. Sometimes trying to get your data in the format you want feels like you are battling a panda."
   ]
  },
  {
   "attachments": {
    "pd_test.jpeg": {
     "image/jpeg": "[encoded data removed]"
    }
   },
   "cell_type": "markdown",
   "id": "4b455167",
   "metadata": {},
   "source": [
    "![pd_test.jpeg](attachment:pd_test.jpeg)"
   ]
  },
  {
   "cell_type": "markdown",
   "id": "1c23f838",
   "metadata": {},
   "source": [
    "# System version when preparing this notebook\n",
    "- python 3.8.11\n",
    "- padas 1.1.3\n",
    "- numpy 1.20.3\n",
    "\n",
    "This lesson was prepared by Maria D Hernadez Limon for NRT Environemnt Science Bootcamps 2021. "
   ]
  },
  {
   "cell_type": "markdown",
   "id": "e757fe85",
   "metadata": {},
   "source": [
    "# Set-Up working Space"
   ]
  },
  {
   "cell_type": "code",
   "execution_count": null,
   "id": "308e8c70",
   "metadata": {},
   "outputs": [],
   "source": [
    "import pandas as pd\n",
    "import numpy as np\n",
    "\n",
    "import matplotlib.pyplot as plt\n",
    "%matplotlib inline"
   ]
  },
  {
   "cell_type": "code",
   "execution_count": null,
   "id": "c1ff8113",
   "metadata": {},
   "outputs": [],
   "source": [
    "#sanity check my versions\n",
    "print (pd.__version__)"
   ]
  },
  {
   "cell_type": "code",
   "execution_count": null,
   "id": "f45cc013",
   "metadata": {},
   "outputs": [],
   "source": [
    "#this is the specific directory where the data we want to use is stored\n",
    "datadirectory = '../data/'\n",
    "\n",
    "#this is the directory where we want to store the data we finish analyzing\n",
    "data_out_directory='../output/'"
   ]
  },
  {
   "cell_type": "markdown",
   "id": "6e78f3d8",
   "metadata": {},
   "source": [
    "# 8. Modifying dataframes"
   ]
  },
  {
   "cell_type": "markdown",
   "id": "6d33d4ca",
   "metadata": {},
   "source": [
    "First let's open or pokemon dataset. We will be working with this data for the rest of section 8."
   ]
  },
  {
   "cell_type": "code",
   "execution_count": null,
   "id": "81b9de2e",
   "metadata": {},
   "outputs": [],
   "source": [
    "pokemon_df=pd.read_csv(datadirectory+'pokemon.csv')\n",
    "pokemon_df.head()"
   ]
  },
  {
   "cell_type": "markdown",
   "id": "06299696",
   "metadata": {},
   "source": [
    "### 8.1 Adding new columns\n",
    "Same logic as when we created new dataframes in section 2.3"
   ]
  },
  {
   "cell_type": "markdown",
   "id": "9a723091",
   "metadata": {},
   "source": [
    "#### - Initialize a new column with some value"
   ]
  },
  {
   "cell_type": "code",
   "execution_count": null,
   "id": "dcedee90",
   "metadata": {},
   "outputs": [],
   "source": [
    "#start a new series with values from 0 to the size of this table (we get this value from shape)\n",
    "pokemon_df['Test']=np.arange(0,pokemon_df.shape[0])\n",
    "pokemon_df"
   ]
  },
  {
   "cell_type": "markdown",
   "id": "3eb704a2",
   "metadata": {},
   "source": [
    "#### - Use conditions to create values for your new column"
   ]
  },
  {
   "cell_type": "code",
   "execution_count": null,
   "id": "b5113770",
   "metadata": {},
   "outputs": [],
   "source": [
    "#we can use where from numpy to get conditional values in our new row\n",
    "pokemon_df['Boss']=np.where(pokemon_df['Attack']>150,'strong','weak')\n",
    "pokemon_df"
   ]
  },
  {
   "cell_type": "code",
   "execution_count": null,
   "id": "54527887",
   "metadata": {},
   "outputs": [],
   "source": [
    "#we can select data with loc and specify a new colum name and a value for the rows that meet our condition\n",
    "pokemon_df.loc[pokemon_df['Type 1']=='Grass','Color']='Green'\n",
    "pokemon_df"
   ]
  },
  {
   "cell_type": "markdown",
   "id": "90b19b8b",
   "metadata": {},
   "source": [
    "#### - Add Numeric columns"
   ]
  },
  {
   "cell_type": "code",
   "execution_count": null,
   "id": "138ce133",
   "metadata": {},
   "outputs": [],
   "source": [
    "pokemon_df['Strength']=pokemon_df['Attack']*pokemon_df['Speed']\n",
    "pokemon_df.head()"
   ]
  },
  {
   "cell_type": "markdown",
   "id": "cf460e69",
   "metadata": {},
   "source": [
    "#### - Add String columns"
   ]
  },
  {
   "cell_type": "code",
   "execution_count": null,
   "id": "5694c98e",
   "metadata": {},
   "outputs": [],
   "source": [
    "pokemon_df['full_type']=pokemon_df['Type 1']+'_'+pokemon_df['Type 2']\n",
    "pokemon_df"
   ]
  },
  {
   "cell_type": "markdown",
   "id": "dd23464a",
   "metadata": {},
   "source": [
    "### 8.2 removing columns/rows\n",
    "https://pandas.pydata.org/docs/reference/api/pandas.DataFrame.drop.html"
   ]
  },
  {
   "cell_type": "markdown",
   "id": "b120d1a1",
   "metadata": {},
   "source": [
    "#### - columns"
   ]
  },
  {
   "cell_type": "code",
   "execution_count": null,
   "id": "e5c6edad",
   "metadata": {},
   "outputs": [],
   "source": [
    "#we specify axis=1 to drop columns, if we want this change in the original table we use inplace=True\n",
    "pokemon_drop=pokemon_df.drop(columns=['Test','Boss','full_type'], axis=1)\n",
    "pokemon_drop.head()"
   ]
  },
  {
   "cell_type": "markdown",
   "id": "cf9c810b",
   "metadata": {},
   "source": [
    "#### - rows"
   ]
  },
  {
   "cell_type": "code",
   "execution_count": null,
   "id": "0d1b7771",
   "metadata": {},
   "outputs": [],
   "source": [
    "#we specify axis=0 to drop rows, if we want this change in the original table we use inplace=True\n",
    "pokemon_drop_row=pokemon_df.drop(labels=[0,2,4],axis=0)\n",
    "pokemon_drop_row.head()"
   ]
  },
  {
   "cell_type": "markdown",
   "id": "36a876a3",
   "metadata": {},
   "source": [
    "### -quick plot after droping unwanted columns"
   ]
  },
  {
   "cell_type": "code",
   "execution_count": null,
   "id": "9257f508",
   "metadata": {},
   "outputs": [],
   "source": [
    "pokemon_df.drop(['Number','Strength','Boss','Total','Test','Generation'],axis=1).plot(x='Type 1',kind='box',title=\"Pokemon_df_value_range\")"
   ]
  },
  {
   "cell_type": "markdown",
   "id": "87b31840",
   "metadata": {},
   "source": [
    "### 8.3 remove duplicates\n",
    "\n",
    "We can remove duplicates in our data by selecting a column and which values we want to drop.\n",
    "\n",
    "DataFrame.drop_duplicates(subset=None, keep='first', inplace=False, ignore_index=False)\n",
    "\n",
    "https://pandas.pydata.org/docs/reference/api/pandas.DataFrame.drop_duplicates.html"
   ]
  },
  {
   "cell_type": "code",
   "execution_count": null,
   "id": "e5d7a6a6",
   "metadata": {},
   "outputs": [],
   "source": [
    "pokemon_sans_duplicates=pokemon_df.drop_duplicates(subset=['Type 1'],keep='first')\n",
    "# or inplace=True if you want to make the changes to your main table \n",
    "pokemon_sans_duplicates.head()"
   ]
  },
  {
   "cell_type": "markdown",
   "id": "733638d0",
   "metadata": {},
   "source": [
    "### 8.4 rename columns/index\n",
    "\n",
    "We can rename the labels of the column and the index.\n",
    "\n",
    "DataFrame.rename(mapper=None, index=None, columns=None, axis=None, copy=True, inplace=False, level=None, errors='ignore')\n",
    "\n",
    "https://pandas.pydata.org/docs/reference/api/pandas.DataFrame.rename.html"
   ]
  },
  {
   "cell_type": "markdown",
   "id": "048e7f18",
   "metadata": {},
   "source": [
    "#### - columns"
   ]
  },
  {
   "cell_type": "code",
   "execution_count": null,
   "id": "903adf77",
   "metadata": {},
   "outputs": [],
   "source": [
    "pokemon_df.rename(columns={'Total':'Total_Stats'},inplace=True)\n",
    "pokemon_df.head()"
   ]
  },
  {
   "cell_type": "code",
   "execution_count": null,
   "id": "1d8db778",
   "metadata": {},
   "outputs": [],
   "source": [
    "new_names={'HP':'Hit_Points','Defense':'Def.'}\n",
    "pokemon_df.rename(columns=new_names,inplace=True)\n",
    "pokemon_df.head()"
   ]
  },
  {
   "cell_type": "markdown",
   "id": "b4bc919f",
   "metadata": {},
   "source": [
    "Pass a list of equal length to pokemon_df.columns to replace all values."
   ]
  },
  {
   "cell_type": "code",
   "execution_count": null,
   "id": "8d5226b3",
   "metadata": {},
   "outputs": [],
   "source": [
    "pokemon_df.columns=[np.arange(len(pokemon_df.columns))]\n",
    "pokemon_df"
   ]
  },
  {
   "cell_type": "code",
   "execution_count": null,
   "id": "65afc490",
   "metadata": {},
   "outputs": [],
   "source": [
    "import string\n",
    "alphabet=list(string.ascii_uppercase)\n",
    "\n",
    "pokemon_df.columns=alphabet[:len(pokemon_df.columns)]\n",
    "pokemon_df"
   ]
  },
  {
   "cell_type": "markdown",
   "id": "f5b67fab",
   "metadata": {},
   "source": [
    "#### - rows"
   ]
  },
  {
   "cell_type": "code",
   "execution_count": null,
   "id": "92b64094",
   "metadata": {},
   "outputs": [],
   "source": [
    "pokemon_df.rename(index={0:1000,1:2000},inplace=True)\n",
    "pokemon_df.head()"
   ]
  },
  {
   "cell_type": "code",
   "execution_count": null,
   "id": "f2196a25",
   "metadata": {},
   "outputs": [],
   "source": [
    "new_row_names={1000:0,2000:1}\n",
    "pokemon_df.rename(index=new_row_names,inplace=True)\n",
    "pokemon_df.head()"
   ]
  },
  {
   "cell_type": "markdown",
   "id": "373493dd",
   "metadata": {},
   "source": [
    "## 8.5 Skills Practice\n",
    "Create new column named power. I'll define Power as the sum of Attack and Speed. Then create a new table that has all the rows but only 3 coluns(Name, Type 1 and Power). Then I want you to change the Type 1 name to Type (without the 1). Sort the Pokemon by Power and only keep the top 5. Do this all with one line of code by attaching commands together.\n",
    "\n",
    "First let's read in the dataset again since we made a lot of changes inplace."
   ]
  },
  {
   "cell_type": "code",
   "execution_count": null,
   "id": "3ff7f240",
   "metadata": {},
   "outputs": [],
   "source": [
    "pokemon_df=pd.read_csv(datadirectory+'pokemon.csv')\n",
    "pokemon_df.head()"
   ]
  },
  {
   "cell_type": "code",
   "execution_count": null,
   "id": "8f76d4ed",
   "metadata": {},
   "outputs": [],
   "source": [
    "#first add new column called power to pokemon_df\n",
    "\n",
    "\n",
    "\n",
    "#create new frame with only columns wanted\n",
    "#rename the column Type 1 to Type\n",
    "#sort_values (you want ascending to be True)\n",
    "#keep only the top 5 \n",
    "\n",
    "\n",
    "\n",
    "\n",
    "#show your table                                                                                                            ascending=False).iloc[0:5,]"
   ]
  },
  {
   "cell_type": "markdown",
   "id": "162a5597",
   "metadata": {},
   "source": [
    "# BREAK"
   ]
  },
  {
   "cell_type": "markdown",
   "id": "5d4fc22b",
   "metadata": {},
   "source": [
    "# 9. Modify Values"
   ]
  },
  {
   "cell_type": "markdown",
   "id": "046768ec",
   "metadata": {},
   "source": [
    "### 9.1 fillna with values\n",
    "https://pandas.pydata.org/docs/reference/api/pandas.DataFrame.fillna.html"
   ]
  },
  {
   "cell_type": "code",
   "execution_count": null,
   "id": "1237da25",
   "metadata": {},
   "outputs": [],
   "source": [
    "#select the colum you want then call .fillna\n",
    "pokemon_df['Type 2'].fillna(value='no type',inplace=True)\n",
    "pokemon_df.head()"
   ]
  },
  {
   "cell_type": "markdown",
   "id": "48539479",
   "metadata": {},
   "source": [
    "### 9.4 dropna values\n",
    "DataFrame.dropna(axis=0, how='any', thresh=None, subset=None, inplace=False)\n",
    "https://pandas.pydata.org/docs/reference/api/pandas.DataFrame.dropna.html"
   ]
  },
  {
   "cell_type": "code",
   "execution_count": null,
   "id": "1a98518e",
   "metadata": {},
   "outputs": [],
   "source": [
    "#read table in again because we've done a lot of modifications\n",
    "pokemon_df=pd.read_csv(datadirectory+'pokemon.csv')\n",
    "pokemon_df"
   ]
  },
  {
   "cell_type": "code",
   "execution_count": null,
   "id": "03c6a97e",
   "metadata": {},
   "outputs": [],
   "source": [
    "#If you want the changes in your existing table then use inplace=True instead of initializing a new variable\n",
    "\n",
    "drop_null_df=pokemon_df.dropna(subset=['Type 2'])\n",
    "drop_null_df.head()"
   ]
  },
  {
   "cell_type": "markdown",
   "id": "678002c3",
   "metadata": {},
   "source": [
    "### 9.3 replace values\n",
    "https://pandas.pydata.org/docs/reference/api/pandas.DataFrame.replace.html"
   ]
  },
  {
   "cell_type": "code",
   "execution_count": null,
   "id": "fadac621",
   "metadata": {},
   "outputs": [],
   "source": [
    "pokemon_df['Type 2']=pokemon_df['Type 2'].replace('no_type', 'empty')\n",
    "pokemon_df.head()"
   ]
  },
  {
   "cell_type": "code",
   "execution_count": null,
   "id": "7a4ba7aa",
   "metadata": {},
   "outputs": [],
   "source": [
    "pokemon_df.loc[pokemon_df['Type 2'].isnull(),'Type 2']='no_type'\n",
    "pokemon_df"
   ]
  },
  {
   "cell_type": "markdown",
   "id": "bf97c679",
   "metadata": {},
   "source": [
    "### 9.2 Modify Strings\n",
    "I am only showing you basic examples to introduce you to the options. Here are some resources to learn more:\n",
    "https://pandas.pydata.org/pandas-docs/stable/user_guide/text.html\n",
    "\n",
    "All the string operations you learned on Day 2 on how to modify strings can be used on columns of dataframes.\n"
   ]
  },
  {
   "cell_type": "code",
   "execution_count": null,
   "id": "c4e4289d",
   "metadata": {},
   "outputs": [],
   "source": [
    "#select all mega pokemon\n",
    "pokemon_df['clean_Mega']=[i.replace('Mega',' M*') for i in pokemon_df['Name']]\n",
    "pokemon_df"
   ]
  },
  {
   "cell_type": "code",
   "execution_count": null,
   "id": "be7ed072",
   "metadata": {},
   "outputs": [],
   "source": [
    "pokemon_df['Name']=[i.upper() for i in pokemon_df['Name']]\n",
    "pokemon_df"
   ]
  },
  {
   "cell_type": "code",
   "execution_count": null,
   "id": "8c0c97aa",
   "metadata": {},
   "outputs": [],
   "source": [
    "pokemon_df_2=pokemon_df.add_prefix('{}_'.format(\"x\"))\n",
    "pokemon_df_2"
   ]
  },
  {
   "cell_type": "code",
   "execution_count": null,
   "id": "1d664115",
   "metadata": {},
   "outputs": [],
   "source": [
    "pokemon_df_3=pokemon_df_2.add_suffix('{}_'.format(\"y\"))\n",
    "pokemon_df_3"
   ]
  },
  {
   "cell_type": "markdown",
   "id": "7135be67",
   "metadata": {},
   "source": [
    "# Break"
   ]
  },
  {
   "cell_type": "markdown",
   "id": "e77b7862",
   "metadata": {},
   "source": [
    "# 10. Example of cleaning data and making a function"
   ]
  },
  {
   "cell_type": "markdown",
   "id": "4ab08ad5",
   "metadata": {},
   "source": [
    "In this section we are going to clean up the Great Lakes Ice data we imported in the last lesson. I'll show you a workflow on how to get started building functions to help read in multiple files with the same formatting. Keep in mind this is a simple example to get you started and your data will require you to learn how to process your own files."
   ]
  },
  {
   "cell_type": "code",
   "execution_count": null,
   "id": "f1334d8b",
   "metadata": {},
   "outputs": [],
   "source": [
    "## import the data\n",
    "ice=pd.read_table(datadirectory+'gl_2019_2020_ice.csv')\n",
    "ice"
   ]
  },
  {
   "cell_type": "markdown",
   "id": "612fd368",
   "metadata": {},
   "source": [
    "This table doesn't look good, I'll have to skip 5 rows when reading to actually get to my data. But for now let's grab the second row(python counting) since this row has the column names we will need. I'll do some string manipulation to ge the names in a useful format."
   ]
  },
  {
   "cell_type": "code",
   "execution_count": null,
   "id": "f3c3dec5",
   "metadata": {},
   "outputs": [],
   "source": [
    "ice_names=ice.iloc[2,].str.split(\" +\", n = 8, expand = True)\n",
    "ice_names"
   ]
  },
  {
   "cell_type": "markdown",
   "id": "12558d42",
   "metadata": {},
   "source": [
    "Now that I have a nice table I'll use the column names and the first row values to make a dictionary of names for my columns."
   ]
  },
  {
   "cell_type": "code",
   "execution_count": null,
   "id": "726e9690",
   "metadata": {},
   "outputs": [],
   "source": [
    "ice_names_dict=dict(zip(ice_names.keys(),ice_names.iloc[0,]))\n",
    "ice_names_dict"
   ]
  },
  {
   "cell_type": "markdown",
   "id": "e49e4a55",
   "metadata": {},
   "source": [
    "Let's go back to the data and import again but skip the first 5 rows that don't have data, tell pandas we don't have a header since the formatting is bad. I also need to find the right delimiter since _csv didn't work."
   ]
  },
  {
   "cell_type": "code",
   "execution_count": null,
   "id": "33575f31",
   "metadata": {},
   "outputs": [],
   "source": [
    "ice_clean=pd.read_csv(datadirectory+'gl_2018_2019_ice.csv',skiprows=5,header=None,delimiter='\\t')\n",
    "ice_clean"
   ]
  },
  {
   "cell_type": "markdown",
   "id": "9e5badbe",
   "metadata": {},
   "source": [
    "That didn't work."
   ]
  },
  {
   "cell_type": "code",
   "execution_count": null,
   "id": "0cc7bfc8",
   "metadata": {},
   "outputs": [],
   "source": [
    "ice_clean=pd.read_csv(datadirectory+'gl_2018_2019_ice.csv',skiprows=5,header=None,delimiter=' ')\n",
    "ice_clean"
   ]
  },
  {
   "cell_type": "markdown",
   "id": "d0133846",
   "metadata": {},
   "source": [
    "Ok so there are multiple spaces as sepeartors (3 of them per column) so I will use a special paramter called delim_whitespace and hope it works."
   ]
  },
  {
   "cell_type": "code",
   "execution_count": null,
   "id": "4ffc07bf",
   "metadata": {},
   "outputs": [],
   "source": [
    "ice_clean=pd.read_csv(datadirectory+'gl_2018_2019_ice.csv',skiprows=5,header=None,delim_whitespace=True)\n",
    "ice_clean"
   ]
  },
  {
   "cell_type": "markdown",
   "id": "ec5dbd00",
   "metadata": {},
   "source": [
    "Let's change the column names with the dictionary we made."
   ]
  },
  {
   "cell_type": "code",
   "execution_count": null,
   "id": "3b3e9af7",
   "metadata": {},
   "outputs": [],
   "source": [
    "ice_clean.rename(columns=ice_names_dict,inplace=True)\n",
    "ice_clean"
   ]
  },
  {
   "cell_type": "markdown",
   "id": "659cf577",
   "metadata": {},
   "source": [
    "I don't like the long names, let's change them to initials."
   ]
  },
  {
   "cell_type": "code",
   "execution_count": null,
   "id": "d1d52d62",
   "metadata": {},
   "outputs": [],
   "source": [
    "lake_initials={'Sup.':'SU','Mich.':'MI','Huron':'HU','Erie':'ER','Ont.':'ON'}\n",
    "\n",
    "ice_clean.rename(columns=lake_initials,inplace=True)\n",
    "ice_clean"
   ]
  },
  {
   "cell_type": "markdown",
   "id": "51beab75",
   "metadata": {},
   "source": [
    "Let's drop the info for St. Claire lake and the total."
   ]
  },
  {
   "cell_type": "code",
   "execution_count": null,
   "id": "4cce7f7f",
   "metadata": {},
   "outputs": [],
   "source": [
    "ice_clean.drop(['St.Clr','GL Total'],axis=1,inplace=True)\n",
    "ice_clean"
   ]
  },
  {
   "cell_type": "markdown",
   "id": "4e17a1d0",
   "metadata": {},
   "source": [
    "At this point I am getting curious about which lake freezes first and the most. So I am going to make a quick line plot."
   ]
  },
  {
   "cell_type": "code",
   "execution_count": null,
   "id": "767d7b41",
   "metadata": {},
   "outputs": [],
   "source": [
    "ice_clean.plot(y=ice_clean.keys()[2:],kind='line',ylabel='ice_con%',xlabel='winter 2018-2019')"
   ]
  },
  {
   "cell_type": "markdown",
   "id": "259a8eae",
   "metadata": {},
   "source": [
    "# Automation - Functions"
   ]
  },
  {
   "cell_type": "markdown",
   "id": "0b69c5f0",
   "metadata": {},
   "source": [
    "Now, we did all of this for one file but the reality is that I need multiple years of this data. Let's make a function so I don't have to repeat these steps everytime I want the ice data. The following function will work with any year but I've only given you data from 2015-2019 so if you run other years it will not work."
   ]
  },
  {
   "cell_type": "code",
   "execution_count": null,
   "id": "587367d8",
   "metadata": {},
   "outputs": [],
   "source": [
    "def get_ice_data(year):\n",
    "    #read in data but only first 5 rows since we know we need to chage the reading parameters\n",
    "    #use f_format to change the values in the string \n",
    "    read_in_data=pd.read_table(datadirectory+f'gl_{year}_{year+1}_ice.csv',nrows=5)\n",
    "    \n",
    "    #get column names\n",
    "    ice_names=read_in_data.iloc[2].str.split(\" +\", n = 8, expand = True)\n",
    "    ice_names_dict=dict(zip(ice_names.keys(),ice_names.iloc[0,]))\n",
    "    \n",
    "    #make a clean table\n",
    "    ice_clean=pd.read_csv(datadirectory+f'gl_{year}_{year+1}_ice.csv',skiprows=5,header=None,delim_whitespace=True)\n",
    "    ice_clean.rename(columns=ice_names_dict,inplace=True)\n",
    "    lake_initials={'Sup.':'SU','Mich.':'MI','Huron':'HU','Erie':'ER','Ont.':'ON'}\n",
    "    ice_clean.rename(columns=lake_initials,inplace=True)\n",
    "    ice_clean.drop(['St.Clr','GL Total'],axis=1,inplace=True)\n",
    "    \n",
    "    #return the clean table\n",
    "    return ice_clean"
   ]
  },
  {
   "cell_type": "code",
   "execution_count": null,
   "id": "e497e2ec",
   "metadata": {},
   "outputs": [],
   "source": [
    "#we only have data from 2015-2019\n",
    "get_ice_data(2017)"
   ]
  },
  {
   "cell_type": "markdown",
   "id": "86067843",
   "metadata": {},
   "source": [
    "# BREAK"
   ]
  },
  {
   "cell_type": "markdown",
   "id": "9673e0c0",
   "metadata": {},
   "source": [
    "# 11. Combining tables\n"
   ]
  },
  {
   "cell_type": "markdown",
   "id": "22374d5f",
   "metadata": {},
   "source": [
    "## 11.1 Merge\n",
    "Merge allows you to combine tables that have a column with the same values. If teh column you are using as your key has the same name in all of your tables then you can use on=['name of column'] if not then you need to specify which column to use for each of your tables.\n",
    "\n",
    "\n",
    "Full function:\n",
    "\n",
    "\n",
    "DataFrame.merge(right, how='inner', on=None, left_on=None, right_on=None, left_index=False, right_index=False, sort=False, suffixes=('_x', '_y'), copy=True, indicator=False, validate=None)\n",
    "\n",
    "\n",
    "https://pandas.pydata.org/pandas-docs/stable/reference/api/pandas.merge.html"
   ]
  },
  {
   "cell_type": "markdown",
   "id": "745388d8",
   "metadata": {},
   "source": [
    "### - same name for key"
   ]
  },
  {
   "cell_type": "code",
   "execution_count": null,
   "id": "aab2c918",
   "metadata": {},
   "outputs": [],
   "source": [
    "ice_2015_16_MI_HU=get_ice_data(2015).iloc[:,[0,1,2,3,4]]\n",
    "ice_2015_16_ON_ER=get_ice_data(2015).iloc[:,[0,1,5,6]]\n",
    "\n",
    "Merge_ice=pd.merge(ice_2015_16_MI_HU,ice_2015_16_ON_ER,on=['Year','Day'])\n",
    "Merge_ice"
   ]
  },
  {
   "cell_type": "markdown",
   "id": "3a8c4a90",
   "metadata": {},
   "source": [
    "### - different name for key"
   ]
  },
  {
   "cell_type": "code",
   "execution_count": null,
   "id": "04c2d7ea",
   "metadata": {},
   "outputs": [],
   "source": [
    "ice_2015_16_MI_HU=get_ice_data(2015).iloc[:,[0,1,3,4]].rename(columns={'Year':'_year'})\n",
    "ice_2015_16_ON_ER=get_ice_data(2015).iloc[:,[0,1,5,6]]\n",
    "\n",
    "Merge_ice=pd.merge(ice_2015_16_MI_HU,ice_2015_16_ON_ER,left_on=['_year','Day'],right_on=['Year','Day'])\n",
    "Merge_ice"
   ]
  },
  {
   "cell_type": "markdown",
   "id": "b4cdd6a8",
   "metadata": {},
   "source": [
    "The tables merged but we ended up with two columns for year because the names are different. We can drop the column we don't want later."
   ]
  },
  {
   "cell_type": "markdown",
   "id": "f59b1083",
   "metadata": {},
   "source": [
    "### - Multiple commands"
   ]
  },
  {
   "cell_type": "code",
   "execution_count": null,
   "id": "d36f2a9d",
   "metadata": {},
   "outputs": [],
   "source": [
    "ice_2015_16_MI_HU=get_ice_data(2015).iloc[:,[0,1,3,4]]\n",
    "ice_2015_16_ON_ER=get_ice_data(2015).iloc[:,[0,1,2,5,6]]\n",
    "\n",
    "master=ice_2015_16_MI_HU.merge(ice_2015_16_ON_ER, on=['Day','Year'])\n",
    "master"
   ]
  },
  {
   "cell_type": "markdown",
   "id": "fef21b48",
   "metadata": {},
   "source": [
    "### - Merging with >2 tables"
   ]
  },
  {
   "cell_type": "code",
   "execution_count": null,
   "id": "5a66a77a",
   "metadata": {},
   "outputs": [],
   "source": [
    "#import this cool library that allows you to reduce dataframes to list and combine them\n",
    "from functools import reduce\n",
    "\n",
    "#make your tables- here each table holds 1 lake\n",
    "ice_2015_16_SU=get_ice_data(2015).iloc[:,[0,1,2]].copy()\n",
    "ice_2015_16_MI=get_ice_data(2015).iloc[:,[0,1,3]].copy()\n",
    "ice_2015_16_HU=get_ice_data(2015).iloc[:,[0,1,4]].copy()\n",
    "ice_2015_16_ER=get_ice_data(2015).iloc[:,[0,1,5]].copy()\n",
    "ice_2015_16_ON=get_ice_data(2015).iloc[:,[0,1,6]].copy()\n",
    "\n",
    "# create a list of the tables you want to combine \n",
    "my_dataframes=[ice_2015_16_SU, ice_2015_16_MI, ice_2015_16_HU, ice_2015_16_ER, ice_2015_16_ON]\n",
    "\n",
    "#initialiaze a variable that will hold the new combined dataframe\n",
    "#reduce(lambda df_left,df_right: pd.merge(df_left,df_right), on=[on what column to mege], the list of the columns to merge)\n",
    "combined_frame=reduce(lambda df_left,df_right: pd.merge(df_left, df_right, on=['Year','Day']), my_dataframes)\n",
    "combined_frame.head()"
   ]
  },
  {
   "cell_type": "markdown",
   "id": "829145c5",
   "metadata": {},
   "source": [
    "## 11.2 Concat\n",
    "Concatenate allows you to combine tables that don't have data in common.\n",
    "\n",
    "\n",
    "https://pandas.pydata.org/pandas-docs/stable/reference/api/pandas.concat.html"
   ]
  },
  {
   "cell_type": "code",
   "execution_count": null,
   "id": "022a2078",
   "metadata": {},
   "outputs": [],
   "source": [
    "ice_2015_16=get_ice_data(2015)\n",
    "frames_hold=[ice_2015_16,pokemon_df]\n",
    "\n",
    "concat_example=pd.concat(frames_hold,axis=0)\n",
    "concat_example"
   ]
  },
  {
   "cell_type": "markdown",
   "id": "9985633e",
   "metadata": {},
   "source": [
    "More commonly we use to combine tables with similar data that is split across different tables.\n",
    "\n",
    "#### - on rows"
   ]
  },
  {
   "cell_type": "code",
   "execution_count": null,
   "id": "a771e5e1",
   "metadata": {},
   "outputs": [],
   "source": [
    "ice_2015_16=get_ice_data(2015)\n",
    "ice_2016_17=get_ice_data(2016)\n",
    "ice_2017_18=get_ice_data(2017)\n",
    "\n",
    "frames_rows=[ice_2015_16,ice_2016_17,ice_2017_18]\n",
    "\n",
    "Master_ice_concat_rows=pd.concat(frames_rows,axis=0)\n",
    "\n",
    "Master_ice_concat_rows"
   ]
  },
  {
   "cell_type": "markdown",
   "id": "87dc1842",
   "metadata": {},
   "source": [
    "#### - on columns"
   ]
  },
  {
   "cell_type": "code",
   "execution_count": null,
   "id": "7a6df34a",
   "metadata": {},
   "outputs": [],
   "source": [
    "ice_2015_16_MI_HU=get_ice_data(2015).iloc[:,[0,1,3,4]]\n",
    "ice_2015_16_ON_ER=get_ice_data(2015).iloc[:,[5,6]]\n",
    "\n",
    "frames_cols=[ice_2015_16_MI_HU,ice_2015_16_ON_ER]\n",
    "\n",
    "Master_ice_concat_cols=pd.concat(frames_cols,axis=1)\n",
    "\n",
    "Master_ice_concat_cols"
   ]
  },
  {
   "cell_type": "markdown",
   "id": "f4e55749",
   "metadata": {},
   "source": [
    "## 11.3 Append\n",
    "Append adds values to the end of a list. In the case of dataframes it adds to the end of the table. It works very similarly to concat except that with append you can start with an empty dataframe and concat needs an existing frame to add on to. https://pandas.pydata.org/docs/reference/api/pandas.DataFrame.append.html"
   ]
  },
  {
   "cell_type": "markdown",
   "id": "d13ea1fe",
   "metadata": {},
   "source": [
    "#### - with empty frame"
   ]
  },
  {
   "cell_type": "code",
   "execution_count": null,
   "id": "47a172fa",
   "metadata": {},
   "outputs": [],
   "source": [
    "empty_frame=pd.DataFrame()\n",
    "Working_ice_df=get_ice_data(2015)\n",
    "\n",
    "combine_frames=empty_frame.append(Working_ice_df)\n",
    "combine_frames"
   ]
  },
  {
   "cell_type": "markdown",
   "id": "2ff9643a",
   "metadata": {},
   "source": [
    "#### - with existing frame"
   ]
  },
  {
   "cell_type": "code",
   "execution_count": null,
   "id": "5e89edd6",
   "metadata": {},
   "outputs": [],
   "source": [
    "Working_ice_df=get_ice_data(2015)\n",
    "new_ice=get_ice_data(2016)\n",
    "\n",
    "combine_years=Working_ice_df.append(new_ice)\n",
    "combine_years"
   ]
  },
  {
   "cell_type": "markdown",
   "id": "450143bb",
   "metadata": {},
   "source": [
    "# 11.4 Skill check\n",
    "Combine these dataframes using the Merge method."
   ]
  },
  {
   "cell_type": "code",
   "execution_count": null,
   "id": "86e912c8",
   "metadata": {},
   "outputs": [],
   "source": [
    "my_df1=pd.DataFrame({'names':['Gohan','Naruto','Luffy'],'color':['blue','orange','red']})\n",
    "my_df2=pd.DataFrame({'names':['Gohan','Naruto','Luffy'],'power':[9000,8000,7000]})\n",
    "my_df3=pd.DataFrame({'power':[9000,8000,7000],'enemy':['Cell','Sasuke','Kaido']})"
   ]
  },
  {
   "cell_type": "code",
   "execution_count": null,
   "id": "841058f7",
   "metadata": {},
   "outputs": [],
   "source": [
    "\n",
    "\n",
    "\n"
   ]
  },
  {
   "cell_type": "markdown",
   "id": "22f9a8d7",
   "metadata": {},
   "source": [
    "# 12. Change the layout of the dataframe"
   ]
  },
  {
   "cell_type": "code",
   "execution_count": null,
   "id": "928a329d",
   "metadata": {},
   "outputs": [],
   "source": [
    "#for reference\n",
    "ice_clean"
   ]
  },
  {
   "cell_type": "markdown",
   "id": "36d5ddf7",
   "metadata": {},
   "source": [
    "## - Melt\n",
    "Change the table form wide to long format.\n",
    "https://pandas.pydata.org/docs/reference/api/pandas.melt.html\n",
    "\n",
    "pandas.melt(frame, id_vars=None, value_vars=None, var_name=None, value_name='value', col_level=None, ignore_index=True)\n",
    "\n",
    "There is also a command called wide_to_long, but I use melt more often.\n",
    "https://pandas.pydata.org/docs/reference/api/pandas.wide_to_long.html#pandas.wide_to_long"
   ]
  },
  {
   "cell_type": "code",
   "execution_count": null,
   "id": "a20e4d2d",
   "metadata": {},
   "outputs": [],
   "source": [
    "melt_ice_clean=pd.melt(ice_clean,id_vars=['Year','Day'],value_vars=['SU', 'MI','ON','HU','ER'],var_name='Lake', value_name='ice_concentration%')\n",
    "melt_ice_clean"
   ]
  },
  {
   "cell_type": "code",
   "execution_count": null,
   "id": "d43c4380",
   "metadata": {},
   "outputs": [],
   "source": [
    "melt_ice_clean=pd.melt(ice_clean,id_vars=['Year','Day'],value_vars=ice_clean.keys()[2:],var_name='Lake', value_name='ice_concentration%')\n",
    "melt_ice_clean"
   ]
  },
  {
   "cell_type": "code",
   "execution_count": null,
   "id": "935860a2",
   "metadata": {},
   "outputs": [],
   "source": [
    "melt_ice_clean=pd.melt(ice_clean,id_vars=['Year','Day'],var_name='Lake', value_name='ice_concentration%')\n",
    "melt_ice_clean"
   ]
  },
  {
   "cell_type": "markdown",
   "id": "043783b7",
   "metadata": {},
   "source": [
    "## - Pivot tables aka unmelt\n",
    "If you have a table in long format and you want wide we need to 'unmelt' it, to do this we use pivot tables.\n",
    "https://pandas.pydata.org/docs/reference/api/pandas.pivot_table.html\n",
    "\n",
    "More on pivot tables in the Day10 lecture."
   ]
  },
  {
   "cell_type": "code",
   "execution_count": null,
   "id": "1afd1799",
   "metadata": {},
   "outputs": [],
   "source": [
    "melt_ice_clean.pivot(index=['Year','Day'], columns='Lake', values='ice_concentration')"
   ]
  },
  {
   "cell_type": "code",
   "execution_count": null,
   "id": "f90547bb",
   "metadata": {},
   "outputs": [],
   "source": [
    "melt_ice_clean.pivot(index=['Year','Day'], columns='Lake', values='ice_concentration').reset_index()"
   ]
  },
  {
   "cell_type": "markdown",
   "id": "0624ce83",
   "metadata": {},
   "source": [
    "# 13. Automation - Loops"
   ]
  },
  {
   "cell_type": "code",
   "execution_count": null,
   "id": "88009e9f",
   "metadata": {},
   "outputs": [],
   "source": [
    "Master_ice=pd.DataFrame()\n",
    "\n",
    "for i in range(2015,2019):\n",
    "    #this variable will hold the output of our function\n",
    "    ice_data=get_ice_data(i)\n",
    "    #here we append the output of our function to our master table\n",
    "    Master_ice=Master_ice.append(ice_data)\n",
    "\n",
    "#outside the for loop and last line to see our full table\n",
    "Master_ice    "
   ]
  },
  {
   "cell_type": "markdown",
   "id": "262e9a58",
   "metadata": {},
   "source": [
    "In this exmaple I'll show you how to populate a dataframe with a for loop, yes for this data there is much faster way to get this dataframe but I want to show you the mechanics."
   ]
  },
  {
   "cell_type": "code",
   "execution_count": null,
   "id": "a2e93a52",
   "metadata": {},
   "outputs": [],
   "source": [
    "names=['Amanda','Katie','Maria']\n",
    "program=['Physics','Bio','Geo']\n",
    "field=['space','bugs','water']\n",
    "\n",
    "#dictionary with name and program \n",
    "name_program_dict=dict(zip(names,program))\n",
    "\n",
    "#new table with range of three and three column names too \n",
    "new_frame=pd.DataFrame(index=range(3),columns=['names','program','color','field'])\n",
    "\n",
    "#Regular Expressions library\n",
    "#https://docs.python.org/3/library/re.html\n",
    "import re\n",
    "\n",
    "for k,i in enumerate(names):\n",
    "    #select the row with enumerate and the column with a value\n",
    "    new_frame.iloc[k,0]=i\n",
    "    #the second column will have the dictionary value for a name\n",
    "    new_frame.iloc[k,1]=name_program_dict.get(i)\n",
    "    \n",
    "    #the third column will be populated by this statement \n",
    "    if re.search('r',i):\n",
    "        j=f'{i} likes green'\n",
    "    else:\n",
    "        j=f'{i} likes purple'\n",
    "    new_frame.iloc[k,2]=j  \n",
    "    \n",
    "    #the fourth colum will get populated by this statemnt\n",
    "    new_frame.iloc[k,3]=f'{i} studies {field[k]}' \n",
    "\n",
    "#remeber to call the table in the last line of the cell so we can see it   \n",
    "new_frame"
   ]
  },
  {
   "cell_type": "markdown",
   "id": "43688fc9",
   "metadata": {},
   "source": [
    "# 13. Skill Check\n",
    "Create a new table using the methods I showed above. The table should have 4 columns- one for cities you have visited (aim for 4, you can make them up), another for your favorite food in that city, a third for the person you were with, and a fourth with the number of letters in the food you had. I've given you pseudocode to get you started."
   ]
  },
  {
   "cell_type": "code",
   "execution_count": null,
   "id": "65e5d192",
   "metadata": {},
   "outputs": [],
   "source": [
    "#make your lists\n",
    "city=[]\n",
    "food=[]\n",
    "company=[]\n",
    "\n",
    "#dictionary with city and food\n",
    "name_food_dict=\n",
    "\n",
    "#new table with range of three and three column names too \n",
    "new_frame=pd.DataFrame(index=range(4),columns=['city','food','company','letters in food'])\n",
    "\n",
    "for k,i in enumerate(city):\n",
    "    #this line should add values to the 0 row in new_frame -city\n",
    "    \n",
    "    \n",
    "    #this line should add values to the 1 row in new_frame- food- you will need your dict \n",
    "    \n",
    "    \n",
    "    #this line should add values to the 2 row in new_frame- company\n",
    "      \n",
    "    \n",
    "    #this line should add values to the 3 row in new_frame- letters in food- you will need len and your dict\n",
    "    \n",
    "\n",
    "#remeber to call the table in the last line of the cell so we can see it   \n",
    "new_frame\n"
   ]
  },
  {
   "cell_type": "markdown",
   "id": "acaf06c0",
   "metadata": {},
   "source": [
    "# Summary\n",
    "Today I showed you the following:\n",
    "\n",
    "1. Modify different parts of the dataframe\n",
    "2. Cleaning and making function \n",
    "3. Combining tables\n",
    "4. Automation (functions and for loops)\n",
    "\n",
    "I only showed you the basics to get you started, we will come back to these concepts in the following lessons."
   ]
  },
  {
   "cell_type": "markdown",
   "id": "fdf9b7df",
   "metadata": {},
   "source": [
    "# Homework\n",
    "\n",
    "1. Using the tools I've showed you so far try to explore some data that you have. If you don't have your own data then I challenge you to explore the pokemon data.\n",
    "\n",
    "2. In the data file I've given you two files with whole lake average daily surface water temp temperature, one from 2010-2015 and the other from 2016-2020. The files have data for all the lakes. Crate a function that allows you to open the files, combine them to have 2010-2020 in one table, and return the subset of the data that belongs to a lake of interest. You'll notice the column names are in lower case, change the names so that the first letter is uppercase. Your function should take one argument - the initials of the lake we want, and return a table with data from 2010-2015 for that lake. We will do some math on this temperature data in the next lesson.\n",
    "[Yes you could do this manually in excel but practice your coding]\n",
    "\n",
    "3. Review the concepts you have learned up to now.\n",
    "\n",
    "Great Lakes Surface Environmental Analysis (GLSEA)- [Average surface water temp\n",
    "NOAA polar-orbiting satellite imagery](https://coastwatch.glerl.noaa.gov/statistic/statistic.html)\n",
    "\n",
    "Disclaimer and comparison of satellite and buoy data. https://ams.confex.com/ams/pdfpapers/63048.pdf"
   ]
  },
  {
   "cell_type": "code",
   "execution_count": null,
   "id": "ad15cd17",
   "metadata": {},
   "outputs": [],
   "source": []
  },
  {
   "cell_type": "code",
   "execution_count": null,
   "id": "d0cce925",
   "metadata": {},
   "outputs": [],
   "source": []
  },
  {
   "cell_type": "code",
   "execution_count": null,
   "id": "32312cc3",
   "metadata": {},
   "outputs": [],
   "source": []
  },
  {
   "cell_type": "markdown",
   "id": "ed38d0b5",
   "metadata": {},
   "source": [
    "# Answers"
   ]
  },
  {
   "cell_type": "markdown",
   "id": "44280dbf",
   "metadata": {},
   "source": [
    "## Skill checks"
   ]
  },
  {
   "cell_type": "code",
   "execution_count": null,
   "id": "45884106",
   "metadata": {},
   "outputs": [],
   "source": [
    "#8.5\n",
    "pokemon_df['Power']=pokemon_df['Attack']+pokemon_df['Attack']\n",
    "new_subset=pokemon_df.loc[:,('Name','Type 1','Power')].copy().rename(columns={'Type 1':'Type'}).sort_values(by='Power',\n",
    "                                                                                                           ascending=False).iloc[0:5,]\n",
    "new_subset\n",
    "\n",
    "\n",
    "#11.4\n",
    "my_combined_df=pd.merge(my_df1,my_df2,on='names')\n",
    "my_combined_df_out=pd.merge(my_combined_df,my_df3,on=['power'])\n",
    "my_combined_df_out\n",
    "\n",
    "#or in one line\n",
    "my_combined_df=my_df1.merge(my_df2,on='names').merge(my_df3,on='power')\n",
    "my_combined_df\n",
    "\n",
    "\n",
    "#12\n",
    "city=['Seoul','Bankok','Monteverde','San Diego']\n",
    "food=['tteokbokki ','pad-thai','casado','Shrimp cocktail']\n",
    "company=['friend','family','alone','friend']\n",
    "\n",
    "#dictionary with city and food\n",
    "name_food_dict=dict(zip(city,food))\n",
    "\n",
    "#new table with range of four and four column names too \n",
    "new_frame=pd.DataFrame(index=range(4),columns=['city','food','company','letters in food'])\n",
    "\n",
    "for k,i in enumerate(city):\n",
    "    #select the row with enumerate and the column with a value\n",
    "    new_frame.iloc[k,0]=i\n",
    "    #the second column will have the dictionary value for a name\n",
    "    new_frame.iloc[k,1]=name_food_dict.get(i)\n",
    "    \n",
    "    #the third column will be populated by this statement \n",
    "    new_frame.iloc[k,2]=company[k]  \n",
    "    \n",
    "    #the fourth column will ve populted by this statement\n",
    "    new_frame.iloc[k,3]=len(name_food_dict.get(i))\n",
    "\n",
    "#remeber to call the table in the last line of the cell so we can see it   \n",
    "new_frame"
   ]
  },
  {
   "cell_type": "markdown",
   "id": "b7cc21ca",
   "metadata": {},
   "source": [
    "## Homework"
   ]
  },
  {
   "cell_type": "markdown",
   "id": "83e0bc8e",
   "metadata": {},
   "source": [
    "# 2"
   ]
  },
  {
   "cell_type": "code",
   "execution_count": null,
   "id": "722418eb",
   "metadata": {},
   "outputs": [],
   "source": [
    "def get_lake_wanted(lake):\n",
    "    #read_data_in\n",
    "    temp_data_2010_2015=pd.read_csv(datadirectory+'gl_average_lake_temp_2010-2015.csv')\n",
    "    temp_data_2016_2020=pd.read_csv(datadirectory+'gl_average_lake_temp_2016-2020.csv')\n",
    "    \n",
    "    frames=[temp_data_2010_2015,temp_data_2016_2020]\n",
    "    full_temp=pd.concat(frames,axis=0)\n",
    "    lake_wanted=full_temp.loc[full_temp['lake']==lake,].copy()\n",
    "    lake_wanted.rename(columns={'day':'Day','year':'Year','temp':'Temp','lake':'Lake'},inplace=True)\n",
    "    \n",
    "    return lake_wanted\n",
    "\n",
    "get_lake_wanted('MI')"
   ]
  }
 ],
 "metadata": {
  "kernelspec": {
   "display_name": "Python [conda env:root] *",
   "language": "python3.8",
   "name": "conda-root-py"
  },
  "language_info": {
   "codemirror_mode": {
    "name": "ipython",
    "version": 3
   },
   "file_extension": ".py",
   "mimetype": "text/x-python",
   "name": "python",
   "nbconvert_exporter": "python",
   "pygments_lexer": "ipython3",
   "version": "3.8.11"
  }
 },
 "nbformat": 4,
 "nbformat_minor": 5
}
