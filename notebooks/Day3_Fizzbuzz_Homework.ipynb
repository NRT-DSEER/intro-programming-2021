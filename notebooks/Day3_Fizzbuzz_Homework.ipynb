{
 "cells": [
  {
   "cell_type": "markdown",
   "metadata": {},
   "source": [
    "## Day 3's Homework: Fizzbuzz\n",
    "\n",
    "Perhaps you are familiar with the game fizzbuzz -- count integers, but say \"fizz\" instead of multiples of three, \"buzz\" rather than multiples of 5, and \"fizzbuzz\" for multiples of three and five; i.e., \"1 2 fizz 4 buzz fizz 7 8 fizz buzz ...\".\n",
    "\n",
    "Write a program that given a starting integer m and ending integer n, prints the 'fizzbuzz' sequence between them. however, rather than multiples of 3 and 5, your program should also accept integers a and b to serve as fizz and buzz. assume that the inputs are always valid.\n",
    "\n",
    "A useful operator may be `%` which is the \"modulo\" orperator. Learn more about it in the first two coding cells under this section before starting the lesson."
   ]
  },
  {
   "cell_type": "markdown",
   "metadata": {},
   "source": [
    "## Try it out here!"
   ]
  },
  {
   "cell_type": "code",
   "execution_count": null,
   "metadata": {},
   "outputs": [],
   "source": []
  }
 ],
 "metadata": {
  "kernelspec": {
   "display_name": "Python 3",
   "language": "python",
   "name": "python3"
  },
  "language_info": {
   "codemirror_mode": {
    "name": "ipython",
    "version": 3
   },
   "file_extension": ".py",
   "mimetype": "text/x-python",
   "name": "python",
   "nbconvert_exporter": "python",
   "pygments_lexer": "ipython3",
   "version": "3.7.1"
  }
 },
 "nbformat": 4,
 "nbformat_minor": 2
}
