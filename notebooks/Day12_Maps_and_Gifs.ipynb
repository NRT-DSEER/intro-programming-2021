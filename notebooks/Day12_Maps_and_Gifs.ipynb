{
 "cells": [
  {
   "cell_type": "markdown",
   "id": "93e62885",
   "metadata": {},
   "source": [
    "# Previous Lesson Overview - Day 11 Seaborn_some_SciPy\n",
    "\n",
    "In the previous lesson you learned about seaborn and scipy, how to:\n",
    "\n",
    "1. Explore data with the seaborn plotting library\n",
    "2. Write functions to make figures from daframes\n",
    "3. Make figures with FacetGrid and save figures\n",
    "4. Reference SciPy for stats"
   ]
  },
  {
   "cell_type": "markdown",
   "id": "1998c6a3",
   "metadata": {},
   "source": [
    "# Day 11: MAPS\n",
    "We will learn how to create maps, gifs, and a brief intro to .py/.sh"
   ]
  },
  {
   "cell_type": "markdown",
   "id": "db198f35",
   "metadata": {},
   "source": [
    "# Goals:\n",
    "\n",
    "Students will be able to :\n",
    "\n",
    "1. Create a map with cartopy\n",
    "2. Add points to maps\n",
    "3. Save maps\n",
    "3. Use xarray to open .nc files\n",
    "3. Make gifs\n",
    "4. know where to start with .py/.sh scripts"
   ]
  },
  {
   "attachments": {
    "download.png": {
     "image/png": "[encoded data removed]"
    }
   },
   "cell_type": "markdown",
   "id": "6861d24d",
   "metadata": {},
   "source": [
    "![download.png](attachment:download.png)"
   ]
  },
  {
   "cell_type": "markdown",
   "id": "368c9b69",
   "metadata": {},
   "source": [
    "# System version when preparing this notebook\n",
    "- python 3.8.11\n",
    "- padas 1.1.3\n",
    "- numpy 1.20.3\n",
    "- Seaborn 0.11.1\n",
    "- netCDF 1.5.3\n",
    "- xarray 0.19.0\n",
    "- cartopy 0.18.0\n",
    "\n",
    "This lesson was prepared by Maria D Hernandez Limon for NRT Environment Science Bootcamps 2021."
   ]
  },
  {
   "cell_type": "markdown",
   "id": "744172ae",
   "metadata": {},
   "source": [
    "# Set-up working space\n",
    "If when you load the libraries you get a message saying you don't have something follow these steps.\n",
    "\n",
    "1. Open a new terminal - don't close the one with this notebook\n",
    "under new -where you add notebooks, open a terminal - continue\n",
    "\n",
    "\n",
    "2. load libraries with conda by typing each of the following commands to the terminal (one by one) and following the command prompts you get\n",
    "\n",
    "\n",
    "3. commands:\n",
    "- conda install -c anaconda netcdf4\n",
    "- conda install -c conda-forge xarray \n",
    "- conda install -c conda-forge cartopy \n",
    "\n",
    "4.once installation is complete, restart this notebook. Kernel>Restart then try importing libraries again."
   ]
  },
  {
   "cell_type": "code",
   "execution_count": null,
   "id": "b19c2ada",
   "metadata": {},
   "outputs": [],
   "source": [
    "#Set-up working space\n",
    "import pandas as pd\n",
    "import numpy as np\n",
    "\n",
    "import datetime\n",
    "\n",
    "import matplotlib.pyplot as plt\n",
    "%matplotlib inline\n",
    "\n",
    "#seaborn - more advanced plotting options\n",
    "import seaborn as sns"
   ]
  },
  {
   "cell_type": "code",
   "execution_count": null,
   "id": "fb4a2a27",
   "metadata": {},
   "outputs": [],
   "source": [
    "import netCDF4 as nc\n",
    "import xarray as xr\n",
    "import cartopy"
   ]
  },
  {
   "cell_type": "code",
   "execution_count": null,
   "id": "53b38f67",
   "metadata": {},
   "outputs": [],
   "source": [
    "#sanity check my versions\n",
    "print (xr.__version__)"
   ]
  },
  {
   "cell_type": "code",
   "execution_count": null,
   "id": "298c653c",
   "metadata": {},
   "outputs": [],
   "source": [
    "#this is the specific directory where the data we want to use is stored\n",
    "datadirectory = '../data/'\n",
    "\n",
    "#this is the directory where we want to store the data we finish analyzing\n",
    "data_out_directory='../output/'"
   ]
  },
  {
   "cell_type": "markdown",
   "id": "8dadd34d",
   "metadata": {},
   "source": [
    "# 19. MAPS\n",
    "\n",
    "### [Cartopy](https://scitools.org.uk/cartopy/docs/latest/) Python library for maps.\n",
    "\n",
    "### [Good Cartopy Intro](https://rabernat.github.io/research_computing_2018/maps-with-cartopy.html)\n",
    "### [Good Tutorial](https://coderzcolumn.com/tutorials/data-science/cartopy-basic-maps-scatter-map-bubble-map-and-connection-map)"
   ]
  },
  {
   "cell_type": "code",
   "execution_count": null,
   "id": "85f6b3c9",
   "metadata": {},
   "outputs": [],
   "source": [
    "import cartopy.crs as crs\n",
    "import cartopy.feature as cfeature"
   ]
  },
  {
   "cell_type": "code",
   "execution_count": null,
   "id": "b70b12de",
   "metadata": {},
   "outputs": [],
   "source": [
    "#create a new figure and add on via ax\n",
    "plt.figure(figsize=(8,6))\n",
    "\n",
    "#we will add a projection of the map to ax then add to it\n",
    "ax = plt.axes(projection=crs.PlateCarree())\n",
    "\n",
    "plt.show()"
   ]
  },
  {
   "cell_type": "code",
   "execution_count": null,
   "id": "34f7c66d",
   "metadata": {},
   "outputs": [],
   "source": [
    "?crs.PlateCarree"
   ]
  },
  {
   "cell_type": "markdown",
   "id": "41d9ccab",
   "metadata": {},
   "source": [
    "## 19.1 [List of Cartopy Projections](https://scitools.org.uk/cartopy/docs/latest/crs/projections.html)"
   ]
  },
  {
   "cell_type": "code",
   "execution_count": null,
   "id": "bc21addf",
   "metadata": {},
   "outputs": [],
   "source": [
    "plt.figure(figsize=(8,6))\n",
    "\n",
    "#flat projection\n",
    "ax = plt.axes(projection=crs.PlateCarree())\n",
    "\n",
    "#add coastline\n",
    "ax.coastlines()\n",
    "#add countries\n",
    "ax.add_feature(cfeature.BORDERS, linestyle=\"-\")\n",
    "#add lakes\n",
    "ax.add_feature(cfeature.LAKES, color=\"blue\")\n",
    "\n",
    "plt.show()"
   ]
  },
  {
   "cell_type": "code",
   "execution_count": null,
   "id": "5eb2d33b",
   "metadata": {},
   "outputs": [],
   "source": [
    "plt.figure(figsize=(8,6))\n",
    "\n",
    "#more realistic spherical projection\n",
    "ax = plt.axes(projection=crs.Orthographic())\n",
    "\n",
    "#add coastline\n",
    "ax.coastlines()\n",
    "#add ocean\n",
    "ax.add_feature(cartopy.feature.OCEAN,color='blue')\n",
    "\n",
    "#add countries\n",
    "ax.add_feature(cfeature.BORDERS,color='white')\n",
    "#add land\n",
    "ax.add_feature(cartopy.feature.LAND,color='green')\n",
    "\n",
    "\n",
    "plt.show()"
   ]
  },
  {
   "cell_type": "markdown",
   "id": "eaaa21da",
   "metadata": {},
   "source": [
    "## 19.2 Slecting a region"
   ]
  },
  {
   "cell_type": "code",
   "execution_count": null,
   "id": "5b247cd4",
   "metadata": {},
   "outputs": [],
   "source": [
    "#the center point for the map\n",
    "central_lat = 37.5\n",
    "central_lon = -96\n",
    "#extent is the [west_pont,east_pont,south_point,north_point]\n",
    "extent = [-120, -70, 24, 50.5]\n",
    "\n",
    "#create figure\n",
    "plt.figure(figsize=(12, 6))\n",
    "ax = plt.axes(projection=crs.Orthographic(central_lon, central_lat))\n",
    "\n",
    "#set_extend limits the size of our region for a better view\n",
    "ax.set_extent(extent)\n",
    "\n",
    "#add land\n",
    "ax.add_feature(cartopy.feature.LAND, edgecolor='black')\n",
    "\n",
    "#add the globe gridlines\n",
    "ax.gridlines()\n",
    "\n",
    "plt.show()"
   ]
  },
  {
   "cell_type": "code",
   "execution_count": null,
   "id": "3bc7a0ef",
   "metadata": {},
   "outputs": [],
   "source": [
    "central_lat = 37.5\n",
    "central_lon = -96\n",
    "#extent is the [west_point,east_point,south_point,north_point]\n",
    "extent = [-120, -70, 24, 50.5]\n",
    "\n",
    "plt.figure(figsize=(12, 6))\n",
    "ax = plt.axes(projection=crs.Orthographic(central_lon, central_lat))\n",
    "ax.set_extent(extent)\n",
    "\n",
    "#add more features -- se hyperlinks above for more info\n",
    "ax.add_feature(cartopy.feature.OCEAN,color='lightblue')\n",
    "ax.add_feature(cartopy.feature.LAND, edgecolor='black',color='brown')\n",
    "ax.add_feature(cartopy.feature.LAKES, edgecolor='black',color='lightblue')\n",
    "ax.add_feature(cartopy.feature.RIVERS)\n",
    "ax.gridlines()\n",
    "\n",
    "##add points\n",
    "## the tranform here, tranforms the data to match the map layout\n",
    "plt.scatter(x=-96, y=37.5,color=\"yellow\",s=30,alpha=1,transform=crs.Orthographic())\n",
    "\n",
    "plt.show()"
   ]
  },
  {
   "cell_type": "markdown",
   "id": "c4ffa8ca",
   "metadata": {},
   "source": [
    "## 19.3 add points from a frame you make"
   ]
  },
  {
   "cell_type": "code",
   "execution_count": null,
   "id": "37543404",
   "metadata": {},
   "outputs": [],
   "source": [
    "#make quick dataframe with info\n",
    "my_df=pd.DataFrame({'City':['PVD','NYC','CHI'],\n",
    "                   'Lat':[41.8,40.8,41.7],\n",
    "                   'Lon':[-71,-73,-87.6]})\n",
    "\n",
    "my_df"
   ]
  },
  {
   "cell_type": "code",
   "execution_count": null,
   "id": "6afc45ea",
   "metadata": {},
   "outputs": [],
   "source": [
    "#location of some central point in your map\n",
    "central_lat = 37.5\n",
    "central_lon = -96\n",
    "#extent is the [west_point,east_point,south_point,north_point]\n",
    "extent = [-120, -70, 24, 50.5]\n",
    "\n",
    "#the map\n",
    "plt.figure(figsize=(12, 6))\n",
    "ax = plt.axes(projection=crs.Orthographic(central_lon, central_lat))\n",
    "ax.set_extent(extent)\n",
    "\n",
    "#the features\n",
    "ax.add_feature(cartopy.feature.OCEAN)\n",
    "ax.add_feature(cartopy.feature.LAND, edgecolor='black')\n",
    "ax.add_feature(cartopy.feature.LAKES, edgecolor='black')\n",
    "ax.add_feature(cartopy.feature.RIVERS)\n",
    "ax.gridlines()\n",
    "\n",
    "##add multiple points -- to add multiple points we use scatteplot but we must pass crs.PlateCarree() in transform,\n",
    "#maybe there are other ways but this is teh only way it works for me\n",
    "ax.scatter(x=my_df.Lon, y=my_df.Lat,color=\"red\",s=40,transform=crs.PlateCarree())\n",
    "\n",
    "plt.show()"
   ]
  },
  {
   "cell_type": "markdown",
   "id": "8c51bfc6",
   "metadata": {},
   "source": [
    "## 19.4 add points from a table"
   ]
  },
  {
   "cell_type": "code",
   "execution_count": null,
   "id": "7ed059cc",
   "metadata": {},
   "outputs": [],
   "source": [
    "gl_stations=pd.read_csv(datadirectory+'gl_stations.csv')\n",
    "gl_stations"
   ]
  },
  {
   "cell_type": "markdown",
   "id": "35dbbd0a",
   "metadata": {},
   "source": [
    "#### Note: Z-order example"
   ]
  },
  {
   "cell_type": "code",
   "execution_count": null,
   "id": "88546bbe",
   "metadata": {},
   "outputs": [],
   "source": [
    "central_lat = gl_stations['LATITUDE'].mean()\n",
    "central_lon = gl_stations['LONGITUDE'].mean()\n",
    "#extent is the [west_point,east_point,south_point,north_point]\n",
    "extent = [gl_stations['LONGITUDE'].min()-2, gl_stations['LONGITUDE'].max()+2, gl_stations['LATITUDE'].min()-2, gl_stations['LATITUDE'].max()+2]\n",
    "\n",
    "plt.figure(figsize=(12, 6))\n",
    "ax = plt.axes(projection=crs.Orthographic(central_lon, central_lat))\n",
    "ax.set_extent(extent)\n",
    "\n",
    "ax.add_feature(cartopy.feature.LAKES,edgecolor='black')\n",
    "ax.add_feature(cartopy.feature.RIVERS)\n",
    "#setting labels to true will give me labels on x and y axis\n",
    "ax.gridlines(draw_labels=True)\n",
    "\n",
    "##add multiple points -- to add multiple points we use scatteplot but we must pass crs.PlateCarree() in transform,\n",
    "#maybe there are other ways but this is teh only way it works for me\n",
    "ax.scatter(x=gl_stations.LONGITUDE, y=gl_stations.LATITUDE,color=\"red\",\n",
    "            s=30,alpha=0.8,transform=crs.PlateCarree(),zorder=2)\n",
    "\n",
    "#add labels\n",
    "ax.set_title('LAURENTIAN GREAT LAKES: EPA SAMPLING STATIONS')\n",
    "\n",
    "##### THE Z-ORDER is the order in which layers are shown where 0 is first and the higher is on top, I called zorder to 2 so I could see my points \n",
    "\n",
    "#I save most of my figures as .pdf until I'm ready to make manuscript figures\n",
    "#you can save your plots whiever way you prefer, same commands as other plots \n",
    "plt.savefig(data_out_directory+'gl_map.pdf')\n",
    "plt.show()"
   ]
  },
  {
   "cell_type": "markdown",
   "id": "306f765b",
   "metadata": {},
   "source": [
    "# 19.5 points across the world\n",
    "\n",
    "Start by selecting a flat projection like PlateCarree."
   ]
  },
  {
   "cell_type": "code",
   "execution_count": null,
   "id": "83716623",
   "metadata": {},
   "outputs": [],
   "source": [
    "my_df=pd.DataFrame({'City':['MEX','Mali','Shiyan'],\n",
    "                   'Lat':[18,19,32],\n",
    "                   'Lon':[-102,-2,110]})\n",
    "\n",
    "plt.figure(figsize=(12, 6))\n",
    "\n",
    "ax = plt.axes(projection=crs.PlateCarree())\n",
    "\n",
    "#add more to the map\n",
    "ax.coastlines()\n",
    "ax.add_feature(cartopy.feature.OCEAN,color='lightblue')\n",
    "ax.add_feature(cartopy.feature.LAND,color='green')\n",
    "\n",
    "#gloabl will give us the whole view and not just the region near our points --add this line after you've added\n",
    "#mofified the map \n",
    "ax.set_global()\n",
    "\n",
    "#add my points\n",
    "ax.scatter(x=my_df.Lon, y=my_df.Lat,color=\"red\",s=60,marker='x',transform=crs.PlateCarree())\n",
    "\n",
    "plt.show()"
   ]
  },
  {
   "cell_type": "markdown",
   "id": "ade7da0c",
   "metadata": {},
   "source": [
    "# 19. Skill Check\n",
    "Modify the code below to plot some points. Head over to google maps to find coordinates. \n",
    "\n",
    "There is no answer key, everyone will have a different map. Refer to my previous examples for help.\n",
    "\n",
    "I suggest: city where you were born, went to college, vacation spot?\n",
    "\n",
    "If you finish early then try making another map where you use ax.set_extent() and plot a smaller region."
   ]
  },
  {
   "cell_type": "code",
   "execution_count": null,
   "id": "c74fd64a",
   "metadata": {},
   "outputs": [],
   "source": [
    "##add your points here\n",
    "my_df=pd.DataFrame({'City':['PVD','NYC','CHI'],\n",
    "                   'Lat':[41.8,40.8,41.7],\n",
    "                   'Lon':[-71,-73,-87.6]})\n",
    "\n",
    "\n",
    "plt.figure(figsize=(12, 6))\n",
    "\n",
    "ax = plt.axes(projection=crs.PlateCarree())\n",
    "\n",
    "####add more to the map\n",
    "ax.coastlines()\n",
    "\n",
    "###add a title\n",
    "\n",
    "\n",
    "#gloabl will give us the whole view and not just the region near our points --add this line after you've added\n",
    "#mofified the map \n",
    "ax.set_global()\n",
    "\n",
    "####change the view of your points\n",
    "ax.scatter(x=my_df.Lon, y=my_df.Lat,color=\"red\",s=60,marker='x',transform=crs.PlateCarree())\n",
    "\n",
    "#save your map-uncomment line and change file name\n",
    "#plt.savefig(data_out_directory+'map_name.pdf')\n",
    "\n",
    "#then show, if you run show before save you will not save anything \n",
    "plt.show()"
   ]
  },
  {
   "cell_type": "markdown",
   "id": "99b134dd",
   "metadata": {},
   "source": [
    "# BREAK 5mins"
   ]
  },
  {
   "cell_type": "markdown",
   "id": "95e6ac2e",
   "metadata": {},
   "source": [
    "# 20. GIFS (from .nc)"
   ]
  },
  {
   "cell_type": "markdown",
   "id": "e915276c",
   "metadata": {},
   "source": [
    "For this examples I will use sea surface temperature for 2020.\n",
    "\n",
    "NOAA High Resolution SST data provided by the NOAA/OAR/ESRL PSL, Boulder, Colorado, USA, from their [Web site](https://psl.noaa.gov/data/gridded/data.noaa.oisst.v2.highres.html)"
   ]
  },
  {
   "cell_type": "markdown",
   "id": "8ebafa25",
   "metadata": {},
   "source": [
    "To read in the .nc file for sst I am going to use xarray. Xarray is very powerful and user friendly but I don't have time to go over time, here is a good resource.\n",
    "\n",
    "### [xarray](https://www.earthdatascience.org/courses/use-data-open-source-python/hierarchical-data-formats-hdf/use-netcdf-in-python-xarray/)  "
   ]
  },
  {
   "cell_type": "code",
   "execution_count": null,
   "id": "8a118333",
   "metadata": {},
   "outputs": [],
   "source": [
    "temp_2020=xr.open_dataset(datadirectory+'sst.day.mean.2020.nc')\n",
    "temp_2020"
   ]
  },
  {
   "cell_type": "markdown",
   "id": "bc5082a6",
   "metadata": {},
   "source": [
    "Let's select the sst variable, as we would slect a column from a pd.Dataframe"
   ]
  },
  {
   "cell_type": "code",
   "execution_count": null,
   "id": "22ffc877",
   "metadata": {},
   "outputs": [],
   "source": [
    "temp_2020['sst']"
   ]
  },
  {
   "cell_type": "markdown",
   "id": "3acae993",
   "metadata": {},
   "source": [
    "We can see that sst holds 366 values for each time, to grab one day we will index as we would a list."
   ]
  },
  {
   "cell_type": "code",
   "execution_count": null,
   "id": "73664f43",
   "metadata": {},
   "outputs": [],
   "source": [
    "temp_2020['sst'][0]"
   ]
  },
  {
   "cell_type": "markdown",
   "id": "7a73d879",
   "metadata": {},
   "source": [
    "Now we only have data for 2020-01-01. Let's plot this day using imshow.\n",
    "\n",
    "More in [imshow](https://matplotlib.org/stable/api/_as_gen/matplotlib.pyplot.imshow.html)- Simply it allows us to quickly display image data (with many points). We are not making a plot to save."
   ]
  },
  {
   "cell_type": "code",
   "execution_count": null,
   "id": "04d21557",
   "metadata": {},
   "outputs": [],
   "source": [
    "plt.imshow(temp_2020['sst'][0],origin='lower')"
   ]
  },
  {
   "cell_type": "markdown",
   "id": "95a3d351",
   "metadata": {},
   "source": [
    "Let's subset the data so we finish our movie faster."
   ]
  },
  {
   "cell_type": "code",
   "execution_count": null,
   "id": "cb6ee4b9",
   "metadata": {},
   "outputs": [],
   "source": [
    "temp_subset=temp_2020.sel(time=slice('2020-05', '2020-11'))\n",
    "temp_subset"
   ]
  },
  {
   "cell_type": "markdown",
   "id": "33df77d7",
   "metadata": {},
   "source": [
    "Let's make a pretty plot and then make many copies of it to make our gif frames."
   ]
  },
  {
   "cell_type": "code",
   "execution_count": null,
   "id": "bd78e472",
   "metadata": {},
   "outputs": [],
   "source": [
    "fig, ax=plt.subplots()\n",
    "fig.set_size_inches(10,5)\n",
    "\n",
    "#set my data- I need all the lat, lon but only 1 time\n",
    "lat=temp_subset['lat']\n",
    "lon=temp_subset['lon']\n",
    "sst=temp_2020['sst'][0]\n",
    "\n",
    "#draw map\n",
    "ax.pcolormesh(lon,lat,sst,shading='auto')\n",
    "#add title from the date\n",
    "ax.set_title(f'SST on {temp_subset.time.dt.date[0].values}')\n",
    "\n",
    "# add colorbar\n",
    "fig.colorbar(ax.pcolormesh(lon,lat,sst,vmax=35,vmin=0,shading='auto'))\n",
    "\n",
    "plt.show()"
   ]
  },
  {
   "cell_type": "markdown",
   "id": "427c6c0e",
   "metadata": {},
   "source": [
    "Now let's make a movie by printing frames for different times. This will take a while to run."
   ]
  },
  {
   "cell_type": "code",
   "execution_count": null,
   "id": "e4fd9313",
   "metadata": {},
   "outputs": [],
   "source": [
    "for i in range(0,200):\n",
    "    fig, ax=plt.subplots()\n",
    "    fig.set_size_inches(10,5)\n",
    "\n",
    "    lat=temp_subset['lat']\n",
    "    lon=temp_subset['lon']\n",
    "    sst=temp_2020['sst'][i]\n",
    "\n",
    "    #draw map\n",
    "    ax.pcolormesh(lon,lat,sst,shading='auto')\n",
    "    #add title from the date\n",
    "    ax.set_title(f'SST on {temp_subset.time.dt.date[i].values}')\n",
    "\n",
    "    # add colorbar\n",
    "    fig.colorbar(ax.pcolormesh(lon,lat,sst,vmax=35,vmin=0,shading='auto'))\n",
    "    \n",
    "    #save figure\n",
    "    plt.savefig(data_out_directory+f'for_gif/map_{i}.jpg')\n",
    "    plt.close()\n",
    "    #for a sanity check that the loop is working, and if it breaks we can see where it brekas\n",
    "    print (i)\n",
    "    \n",
    "print ('Done')"
   ]
  },
  {
   "cell_type": "markdown",
   "id": "3678c63e",
   "metadata": {},
   "source": [
    "Now let's combine all those images/frames togthere and make a movie."
   ]
  },
  {
   "cell_type": "markdown",
   "id": "a109e178",
   "metadata": {},
   "source": [
    "## BREAK WHILE THE FRAMES ARE MADE"
   ]
  },
  {
   "cell_type": "markdown",
   "id": "e044ca34",
   "metadata": {},
   "source": [
    "# 20.1 Actual code needed to make a gif"
   ]
  },
  {
   "cell_type": "markdown",
   "id": "c99e1c2f",
   "metadata": {},
   "source": [
    "Infor on [glob](https://docs.python.org/3/library/glob.html)\n",
    "\n",
    "Info on Pillow ([PIL](https://pillow.readthedocs.io/en/stable/handbook/image-file-formats.html#gif))"
   ]
  },
  {
   "cell_type": "code",
   "execution_count": null,
   "id": "edf098af",
   "metadata": {},
   "outputs": [],
   "source": [
    "#glob allows us to read multiple files with the same extension quickly\n",
    "import glob\n",
    "#PIL allows us to make a movie\n",
    "from PIL import Image\n",
    "\n",
    "# filepaths\n",
    "fp_in = data_out_directory+\"/for_gif/map_*.jpg\"\n",
    "fp_out = data_out_directory+\"map_movie.gif\"\n",
    "\n",
    "#open all of our files using glob\n",
    "img, *imgs = [Image.open(f) for f in sorted(glob.glob(fp_in))]\n",
    "#save the files as an img with the parameters specified below, you can play around with the settings \n",
    "img.save(fp=fp_out, format='GIF', append_images=imgs,\n",
    "         save_all=True, duration=120, loop=1)"
   ]
  },
  {
   "cell_type": "markdown",
   "id": "0d8ba494",
   "metadata": {},
   "source": [
    "This quick code was to show you how to make gifs from nc files but the mechanics for any movie are the same:\n",
    "    \n",
    "1. Make multiple iterations of your figure and save each one - this becomes are our frames\n",
    "2. Pass all the frames into img with the help of glob and you are done.\n",
    "3. Open your movie and enjoy. "
   ]
  },
  {
   "cell_type": "markdown",
   "id": "fe5af573",
   "metadata": {},
   "source": [
    "# 21. Automation and large scale\n"
   ]
  },
  {
   "cell_type": "markdown",
   "id": "51b7180f",
   "metadata": {},
   "source": [
    "## 21.1 Writing .py"
   ]
  },
  {
   "cell_type": "markdown",
   "id": "877f779b",
   "metadata": {},
   "source": [
    "### [This](http://stanford.edu/~jainr/basics.py) site has a great explanation of .py. \n",
    "In general there are two ways I use .py scripts.\n",
    "\n",
    "**1. Save functions you have written in some application like jupyter for future use**\n",
    "\n",
    "**2. Write .py scripts to run on your computer's terminal (or a super computer)**\n",
    "\n",
    "**How to write a .py script:**\n",
    "\n",
    "To create a .py script you open any text editor, add your code and save the file with a .py at the end.\n",
    "Your code would be the lines we have written here. See `lake_wanted_timeseries.py` for an example.\n",
    "\n",
    "**NOTE: Change the datadirectory in lake_wanted_timeseries.py**\n",
    "\n",
    "\n",
    "There are a few parts that your script will need:\n",
    "\n",
    "1. add shebang line `#!/usr/bin/env python3` this tells your computer what language your script is in\n",
    "2. import libraries\n",
    "3. your code - including directories for your input/output\n",
    "4. To run a .py we must first make it executable by navigating to where our script is and typing `chmod +x our_script.py`\n",
    "5. Then to run we use `python3 ./our_script.py anyargumentsforourscripthere`"
   ]
  },
  {
   "cell_type": "markdown",
   "id": "e7ecc496",
   "metadata": {},
   "source": [
    "## 21.12 How to import functions from a .py?\n",
    "You can read functions you have in .py scripts without making your script executable. Still need the shebang line so your computer knows what language the code is in.\n",
    "\n",
    "Note: if your functions don't use any python library then you can import them from a .py file without a shebang.\n",
    "\n",
    "See `func_home.py` for examples."
   ]
  },
  {
   "cell_type": "code",
   "execution_count": null,
   "id": "ffdea471",
   "metadata": {},
   "outputs": [],
   "source": [
    "from func_home import print_name\n",
    "print_name('maria')\n",
    "\n",
    "\n",
    "from func_home import print_max_num\n",
    "print(print_max_num('maria'))"
   ]
  },
  {
   "cell_type": "markdown",
   "id": "f903983c",
   "metadata": {},
   "source": [
    "## 21.13 How to run a .py?"
   ]
  },
  {
   "cell_type": "markdown",
   "id": "316a0756",
   "metadata": {},
   "source": [
    "After you make your .py executable you run by navigating to the location of your script and running the following command:\n",
    "\n",
    "`python3 ./our_script.py anyargumentsforourscripthere`\n",
    "\n",
    "in the example below lake_wanted_timeseries.py is my script and it take a lake initial as input so I am typing SU for superior."
   ]
  },
  {
   "cell_type": "code",
   "execution_count": null,
   "id": "b516a008",
   "metadata": {},
   "outputs": [],
   "source": [
    "import os\n",
    "#os is a library that open a new subterminal and runs the commands I pass to os.system, the commands must be written as strings \n",
    "\n",
    "os.system('chmod +x lake_wanted_timeseries.py')\n",
    "os.system('python3 ./lake_wanted_timeseries.py \"SU\"')"
   ]
  },
  {
   "cell_type": "markdown",
   "id": "72824be5",
   "metadata": {},
   "source": [
    "For the shell’s purposes, a command which exits with a **zero exit status has succeeded**. A non-zero exit status indicates failure. --https://www.gnu.org/software/bash/manual/html_node/Exit-Status.html\n",
    "\n",
    "I can leverage the functionality of fstrings and do the following, instead of writing each line 5 times (one per lake). And it also leaves a record of the commands I ran in the terminal in my jupyter notebook."
   ]
  },
  {
   "cell_type": "code",
   "execution_count": null,
   "id": "fd6ef83f",
   "metadata": {},
   "outputs": [],
   "source": [
    "for i in ['SU','ER','MI','ON','ER']:\n",
    "    os.system('python3 ./lake_wanted_timeseries.py {}'.format(i))"
   ]
  },
  {
   "cell_type": "markdown",
   "id": "4cfca37c",
   "metadata": {},
   "source": [
    "### More on OS --- interacting with terminal via jupyter\n",
    "\n",
    "\"os.system() method execute the command (a string) in a subshell\" -os description link\n",
    "\n",
    "OS description: https://www.geeksforgeeks.org/python-os-system-method/\n",
    "\n",
    "OS information: https://thomas-cokelaer.info/tutorials/python/module_os.html"
   ]
  },
  {
   "cell_type": "markdown",
   "id": "0488bf85",
   "metadata": {},
   "source": [
    "## 21.2 Writing .sh to run/submit .py\n",
    "\n",
    "-.sh known as shell scripts are written in bash which is the language we use to pass commands to the terminal --like cd and ls [Shell_scripts](https://www.shellscript.sh/)\n",
    "\n",
    "-If you have multiple .py scripts that need to be run sequentially or maybe a .py and a .R script we could house them both on a .sh and run the .sh script. \n",
    "\n",
    "-If you find yourself typing many commands on the command line you can also write them in a .sh script and run that instead of writing every command on the command line repeatedly "
   ]
  },
  {
   "cell_type": "markdown",
   "id": "69dc408e",
   "metadata": {},
   "source": [
    "- all shell scripts start with a shebang too `#!/usr/bin/env bash` but the infor on the shebang gets more complicated if you are running on a super computer vs your local computer. \n",
    "See `lakes_wanted_local_example.sh` and `lakes_wanted_rcc_example.sh` for very simple examples.\n",
    "\n",
    "-we also use `chmod +x myscript.sh` to make shell scripts executable (regardless of weather you are on your computer or a super computer)"
   ]
  },
  {
   "cell_type": "markdown",
   "id": "e83fba33",
   "metadata": {},
   "source": [
    "### use to run .sh locally"
   ]
  },
  {
   "cell_type": "code",
   "execution_count": null,
   "id": "ec64360f",
   "metadata": {},
   "outputs": [],
   "source": [
    "os.system('chmod +x lakes_wanted_local_example.sh')\n",
    "os.system('./lakes_wanted_local_example.sh')"
   ]
  },
  {
   "cell_type": "markdown",
   "id": "a5ac1667",
   "metadata": {},
   "source": [
    "### to submit sh to super computer\n",
    "You must be on a super computer cluster first and your .sh script and scripts inside this script should be executable and on the super computer too. Then:\n",
    "\n",
    "Navigate to your script, after you've changed the info on the .sh shebang type the following on the terminal.\n",
    "\n",
    "`sbatch ./lakes_wanted_rcc_example.sh`\n",
    "\n",
    "Your job will then be added to a queue and executed when it becomes your turn."
   ]
  },
  {
   "cell_type": "markdown",
   "id": "b5be7a91",
   "metadata": {},
   "source": [
    "# 22. Working on Midway \n",
    "\n",
    "The Day 5 lecture from the advanced coding class covered Midway and running jupyter notebooks on midway, please consult the video for their lesson. \n",
    "\n",
    "### [Uchicago Midway](https://rcc.uchicago.edu/docs/using-midway/index.html)"
   ]
  },
  {
   "cell_type": "markdown",
   "id": "03acff23",
   "metadata": {},
   "source": [
    "# Summary\n",
    "Today I showed you the following:\n",
    "\n",
    "1. Create a map with cartopy\n",
    "2. Add points to maps\n",
    "3. Save maps\n",
    "3. Use xarray to open .nc files\n",
    "3. Make gifs\n",
    "4. know where to start with .py/.sh scripts"
   ]
  },
  {
   "cell_type": "markdown",
   "id": "e03ca1dd",
   "metadata": {},
   "source": [
    "# Homework"
   ]
  },
  {
   "cell_type": "markdown",
   "id": "58c7c5de",
   "metadata": {},
   "source": [
    "1. Play around with maps.\n",
    "2. Practice making/running your own .py and .sh\n",
    "3. Please complete the survey you will receive at the end of class on Tomorrow."
   ]
  },
  {
   "cell_type": "code",
   "execution_count": null,
   "id": "fc5dfb97",
   "metadata": {},
   "outputs": [],
   "source": []
  }
 ],
 "metadata": {
  "kernelspec": {
   "display_name": "Python [conda env:root] *",
   "language": "python3.8",
   "name": "conda-root-py"
  },
  "language_info": {
   "codemirror_mode": {
    "name": "ipython",
    "version": 3
   },
   "file_extension": ".py",
   "mimetype": "text/x-python",
   "name": "python",
   "nbconvert_exporter": "python",
   "pygments_lexer": "ipython3",
   "version": "3.8.11"
  }
 },
 "nbformat": 4,
 "nbformat_minor": 5
}
