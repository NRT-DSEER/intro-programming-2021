{
 "cells": [
  {
   "cell_type": "markdown",
   "metadata": {
    "id": "yw1fj5jsNeHV"
   },
   "source": [
    "# Day 3: Introduction to loops and if statements in Python\n",
    "\n",
    "Yesterday, went over variables, different data types and strings. We learned about indexing with lists and using keys to call information from a dictionary. These are the important basics for coding languages, and we will be building off of them today.\n",
    "\n",
    "Today, we will be going over these tools that make automating your research easier. These tools are similar across coding languages as well. The first thing we will go through is for loops, which allow you to perform a process many times very quickly. \n",
    "The next thing we will be going through is if statements. These allow you to check conditions of interest, and then perform actions depending on whether they are true or false.\n",
    "\n",
    "Goals for the day\n",
    "* Go over an introduction to for loops\n",
    "* Begin using if/else statements\n",
    "* Learn elif statements\n",
    "* Nesting if statements in a for loop"
   ]
  },
  {
   "cell_type": "markdown",
   "metadata": {
    "id": "oDK0BDqDfYLq"
   },
   "source": [
    "## 1 For loops in python\n",
    "\n",
    "You'll often want to run through all entries in a list and perform the same action on all of them. Useful examples are if you want to perform the same math operation or print them all out.\n",
    "\n",
    "The mechanism of a for loop is that you give it a list to run through, and then it will step through each element of that list once until the actions are finished. \n",
    "\n",
    "The indentation on the second line is key, and tells Python what you want to do for each iteration. In this example, we create a list of fruits labelled `fruits`. We can then step through each of these elements in the list by momentarily assigning it to an oject `item`, starting with the first element of the list."
   ]
  },
  {
   "cell_type": "code",
   "execution_count": 3,
   "metadata": {
    "colab": {
     "base_uri": "https://localhost:8080/"
    },
    "executionInfo": {
     "elapsed": 113,
     "status": "ok",
     "timestamp": 1625078857262,
     "user": {
      "displayName": "Jess Senger",
      "photoUrl": "",
      "userId": "08376289370634799181"
     },
     "user_tz": 300
    },
    "id": "yaWtDfpZeUTL",
    "outputId": "24085fd4-133c-4502-8741-bdfa905acfd7"
   },
   "outputs": [
    {
     "name": "stdout",
     "output_type": "stream",
     "text": [
      "apple\n",
      "banana\n",
      "cherry\n"
     ]
    }
   ],
   "source": [
    "fruits = [\"apple\", \"banana\", \"cherry\"]\n",
    "for item in fruits:\n",
    "  print(item)"
   ]
  },
  {
   "cell_type": "markdown",
   "metadata": {
    "id": "OcWPLwdKhwWX"
   },
   "source": [
    "The mechanics of what is happening here is that each sequential element in `fruits` is being assigned to the indexer `item` and that is being printed out. The colon at the end of the for line tells python where to start the loop, and includes anything that is indented after that line.\n",
    "Now, something a little more complex:"
   ]
  },
  {
   "cell_type": "code",
   "execution_count": 4,
   "metadata": {
    "colab": {
     "base_uri": "https://localhost:8080/"
    },
    "executionInfo": {
     "elapsed": 131,
     "status": "ok",
     "timestamp": 1625215680843,
     "user": {
      "displayName": "Katerina Levi",
      "photoUrl": "",
      "userId": "14790590329608039426"
     },
     "user_tz": 240
    },
    "id": "GIUTN4B0hHFu",
    "outputId": "4ee648c7-5d91-4765-b6f0-58fb1f513e23"
   },
   "outputs": [
    {
     "name": "stdout",
     "output_type": "stream",
     "text": [
      "My favorite fruit is apple\n",
      "My favorite fruit is banana\n",
      "My favorite fruit is cherry\n",
      "I am not in the for loop\n"
     ]
    }
   ],
   "source": [
    "fruits = [\"apple\", \"banana\", \"cherry\"]\n",
    "for item in fruits:\n",
    "  print(\"My favorite fruit is\", item)\n",
    "print('I am not in the for loop')"
   ]
  },
  {
   "cell_type": "markdown",
   "metadata": {},
   "source": [
    "The last thing the for loop assigned to the variable `fruit` will be the last thing in the list. The original list, `fruits`, will be unchanged:"
   ]
  },
  {
   "cell_type": "code",
   "execution_count": 10,
   "metadata": {
    "colab": {
     "base_uri": "https://localhost:8080/",
     "height": 35
    },
    "executionInfo": {
     "elapsed": 141,
     "status": "ok",
     "timestamp": 1625215682634,
     "user": {
      "displayName": "Katerina Levi",
      "photoUrl": "",
      "userId": "14790590329608039426"
     },
     "user_tz": 240
    },
    "id": "s9LVV5mbeqym",
    "outputId": "73f91a67-23d8-4e22-8a27-386756c7a2f1"
   },
   "outputs": [
    {
     "name": "stdout",
     "output_type": "stream",
     "text": [
      "['apple', 'banana', 'cherry']\n",
      "cherry\n"
     ]
    }
   ],
   "source": [
    "print(fruits) # printing our original list\n",
    "print(item) # printing out the variable that is used in the for loop"
   ]
  },
  {
   "cell_type": "markdown",
   "metadata": {
    "id": "ue7knywaE7oA"
   },
   "source": [
    "One of the classic ways that scientists write for loops is to use the index `i` and then a range of values. Range is a built in function in python, that returns a list of sequential values by taking in in a starting point, a stopping point, and the step size. This range is important, because it tells the `for` loop where to start and when to stop. It starts at 1 and then it goes by 1 to 10 and **does not include 10**. First, we will examine what the list range looks like:"
   ]
  },
  {
   "cell_type": "code",
   "execution_count": 9,
   "metadata": {},
   "outputs": [
    {
     "data": {
      "text/plain": [
       "range(1, 10)"
      ]
     },
     "execution_count": 9,
     "metadata": {},
     "output_type": "execute_result"
    }
   ],
   "source": [
    "range(1,10,1) # range from 1 to 9 by index of 1"
   ]
  },
  {
   "cell_type": "code",
   "execution_count": null,
   "metadata": {
    "colab": {
     "base_uri": "https://localhost:8080/"
    },
    "executionInfo": {
     "elapsed": 120,
     "status": "ok",
     "timestamp": 1625078901627,
     "user": {
      "displayName": "Jess Senger",
      "photoUrl": "",
      "userId": "08376289370634799181"
     },
     "user_tz": 300
    },
    "id": "tb4dK4iiWxIr",
    "outputId": "492159a2-670a-4a04-92c0-fb7d7b051ed6"
   },
   "outputs": [],
   "source": [
    "for i in range(1,10,1): # from 1 to 10 (not including 10), step by one\n",
    "  print(i)"
   ]
  },
  {
   "cell_type": "markdown",
   "metadata": {
    "id": "kYCWX4R0XZhX"
   },
   "source": [
    "We can change the step size that `range` is using by changing the last input we give to range. We can go from 1 to 100, instead with a step size of 10. So, it starts at 1, then jumps to 11, and so on. It doesn't include 101 because it is outside of the range:"
   ]
  },
  {
   "cell_type": "code",
   "execution_count": null,
   "metadata": {
    "colab": {
     "base_uri": "https://localhost:8080/"
    },
    "executionInfo": {
     "elapsed": 110,
     "status": "ok",
     "timestamp": 1625078921149,
     "user": {
      "displayName": "Jess Senger",
      "photoUrl": "",
      "userId": "08376289370634799181"
     },
     "user_tz": 300
    },
    "id": "O-v0q2JNXPDk",
    "outputId": "9e287e1a-38f7-4892-9df7-0f65f32f7695"
   },
   "outputs": [],
   "source": [
    "for i in range(1,100,10): # for 1 to 100 (not including 100), step by TEN\n",
    "  print(i)"
   ]
  },
  {
   "cell_type": "markdown",
   "metadata": {
    "id": "TwRsi04KWzTy"
   },
   "source": [
    "Now that we can see how the `i` and `range` work `for` loop works, we can use it to build a more complicated for loop. We initialize an empty list `squares`, and add each new value using the function `append`:"
   ]
  },
  {
   "cell_type": "code",
   "execution_count": 11,
   "metadata": {
    "colab": {
     "base_uri": "https://localhost:8080/"
    },
    "executionInfo": {
     "elapsed": 119,
     "status": "ok",
     "timestamp": 1625078939391,
     "user": {
      "displayName": "Jess Senger",
      "photoUrl": "",
      "userId": "08376289370634799181"
     },
     "user_tz": 300
    },
    "id": "BnpBDDbmg5Iw",
    "outputId": "c2f94415-7501-4603-8587-98b77d8178c1"
   },
   "outputs": [
    {
     "name": "stdout",
     "output_type": "stream",
     "text": [
      "[1, 4, 9, 16, 25, 36, 49, 64, 81]\n"
     ]
    }
   ],
   "source": [
    "squares = [] # this initializes an empty list\n",
    "\n",
    "for i in range(1,10,1):\n",
    "  squares.append(i**2)\n",
    "\n",
    "print(squares)"
   ]
  },
  {
   "cell_type": "markdown",
   "metadata": {
    "id": "ixZRt2ClYFmP"
   },
   "source": [
    "What is happening here, is that i is momentarily being assinged a value within range. We can then perform an operation on that value (here an exponent) and then append the value to the empty list we created."
   ]
  },
  {
   "cell_type": "markdown",
   "metadata": {
    "id": "4qvVYJOsIw1M"
   },
   "source": [
    "## 2 Coding check in \n",
    "\n",
    "The post doc in Katie's lab refuses to use Fahrenheit when discussing the temperatures outside in Chicago! She needs help calculating the temperature in Fahrenheit to Celsius for a range of values from -10 to 80! You can do this for every 10 degrees.\n",
    "\n",
    "$C = (F - 32) * (5/9)$\n",
    "\n",
    "[p.s. this is a real story].\n",
    "\n",
    "Note: It also helps to write this out with words first, since Python pretty much works that way.\n",
    "\n",
    "Hint: you will momentarily assign each fahrenheit value to `i`\n"
   ]
  },
  {
   "cell_type": "code",
   "execution_count": null,
   "metadata": {
    "id": "3iJyo7SRVCOW"
   },
   "outputs": [],
   "source": [
    "## This is where you can write your answer!\n",
    "\n",
    "# set up empty list\n",
    "\n",
    "# set up for loop with range (the range will be your fahrenheit values)\n",
    "\n",
    "# print out your new array\n",
    "\n"
   ]
  },
  {
   "cell_type": "markdown",
   "metadata": {
    "id": "pWGN-pfaOYhE"
   },
   "source": [
    "## 3 If/else statements\n",
    "\n",
    "If statements are conditional tests that allow you to interrogate values and then perform actions if they are true or false. These are handy tools for cleaning up data and performing analysis. We will start small and work our way up. \n",
    "\n",
    "First, we will recall back to yesterdays exercise when we checked if something was true or not using the `==,>`, or `<` sign. There are several different tests we can do. These are including \n",
    "\n",
    "* `==` if something is equal to\n",
    "* `>` greater than\n",
    "* `>=` greater than or equal to\n",
    "* `<` less than\n",
    "* `<=` less than or equal to\n",
    "* `!=` not equal to\n"
   ]
  },
  {
   "cell_type": "code",
   "execution_count": null,
   "metadata": {
    "colab": {
     "base_uri": "https://localhost:8080/"
    },
    "executionInfo": {
     "elapsed": 119,
     "status": "ok",
     "timestamp": 1625079028964,
     "user": {
      "displayName": "Jess Senger",
      "photoUrl": "",
      "userId": "08376289370634799181"
     },
     "user_tz": 300
    },
    "id": "tesdaB3HPVof",
    "outputId": "2152b72e-bd94-4082-d1fc-8076f100b5c7"
   },
   "outputs": [],
   "source": [
    "my_age = 28 # defining my age\n",
    "\n",
    "my_age >= 18 # asking if this is greater than or equal to 18"
   ]
  },
  {
   "cell_type": "markdown",
   "metadata": {
    "id": "5qP5peYjPg9r"
   },
   "source": [
    "So we set our age to be some value, and then we asked Python if that value was greater than or equal to 18, and it returned either `True` or `False`. We utilize an if statement to then perform some action.\n",
    "\n",
    "So now, we can write a if statement that will print out a statement that we can vote if we are older than 18, and we cannot vote if we are younger than 18. "
   ]
  },
  {
   "cell_type": "code",
   "execution_count": null,
   "metadata": {
    "colab": {
     "base_uri": "https://localhost:8080/"
    },
    "executionInfo": {
     "elapsed": 121,
     "status": "ok",
     "timestamp": 1625079041863,
     "user": {
      "displayName": "Jess Senger",
      "photoUrl": "",
      "userId": "08376289370634799181"
     },
     "user_tz": 300
    },
    "id": "ijVVbmS6Pga7",
    "outputId": "a098c888-347f-4380-e7e4-11754ea31f97"
   },
   "outputs": [],
   "source": [
    "my_age = 10\n",
    "\n",
    "if my_age >= 18: # if my_age is greater than equal to 18\n",
    "  print(\"You can vote!\")\n",
    "else:\n",
    "  print(\"Maybe next year!\")"
   ]
  },
  {
   "cell_type": "markdown",
   "metadata": {
    "id": "YUHHPdHuVOdy"
   },
   "source": [
    "### 3.1 Using `and` and `or`\n",
    "\n",
    "You may also want to check multiple conditions, which can be done using the `and` and `or` conditions. In the case of `and`, both conditions must be true to pass. In the case of `or`, only one of them needs to be true to pass."
   ]
  },
  {
   "cell_type": "code",
   "execution_count": null,
   "metadata": {
    "colab": {
     "base_uri": "https://localhost:8080/"
    },
    "executionInfo": {
     "elapsed": 231,
     "status": "ok",
     "timestamp": 1625216684143,
     "user": {
      "displayName": "Katerina Levi",
      "photoUrl": "",
      "userId": "14790590329608039426"
     },
     "user_tz": 240
    },
    "id": "v-U5cRBnWY4B",
    "outputId": "9629a3c9-8572-4807-e5cf-15b782c80c83"
   },
   "outputs": [],
   "source": [
    "my_animal = 'shark'\n",
    "your_animal = 'shark'\n",
    "\n",
    "if (my_animal == 'shark') and (your_animal == 'shark'):\n",
    "  print(\"We both like sharks\")\n",
    "else:\n",
    "  print(\"At least one of us does not like sharks\")"
   ]
  },
  {
   "cell_type": "markdown",
   "metadata": {},
   "source": [
    "We can also use `or` when testing conditions if only one of the things need to be true! For example, if I always keep a tally of the pastas in my pantry, I can check to see if I am ready to make pasta!"
   ]
  },
  {
   "cell_type": "code",
   "execution_count": null,
   "metadata": {},
   "outputs": [],
   "source": [
    "gnocci = True\n",
    "spaghetti = True\n",
    "penne = False\n",
    "\n",
    "\n",
    "if (gnocci == True) or (spaghetti == True) or (penne == True):\n",
    "  print(\"We are ready to make pasta\")\n",
    "else:\n",
    "  print(\"We have to go to the store to get some pasta\")"
   ]
  },
  {
   "cell_type": "markdown",
   "metadata": {
    "id": "yrlNfG9VhAeL"
   },
   "source": [
    "### 3.2 Coding Check in\n",
    "\n",
    "It's the end of the fourth quarter the Tampa Bay Buccaneers are down 28-30 against the Cleveland Browns. They are too far away for a field goal, so Tom Brady (quarterback) is going to attemp a Hail Mary to Rob Gronkowski (Tight End). \n",
    "\n",
    "In order to get the touch down, Tom Brady needs to throw the ball at least 60 yards `and` Rob Gronkowski needs to be open. Write an `if` statement that tests whether Gronk can make the catch and prints out who wins. \n",
    "\n",
    "First, define your variables `brady_throw` to be some number, and `gronk_open` to be `True` or `False`. Then, test those conditions using your `if` statement.\n",
    "\n",
    "Note: It helps to write this out in words first!\n"
   ]
  },
  {
   "cell_type": "code",
   "execution_count": null,
   "metadata": {
    "id": "WDPSRUIfm4q7"
   },
   "outputs": [],
   "source": [
    "### Write your code for the coding check in here\n",
    "\n",
    "\n",
    "\n",
    "\n",
    "\n",
    "\n",
    "\n"
   ]
  },
  {
   "cell_type": "markdown",
   "metadata": {
    "id": "6lFEPpb5ZcVr"
   },
   "source": [
    "## 4 `elif` statements\n",
    "\n",
    "Sometimes, there will be multiple situations you want to test at the same time. In this case, we use an `elif` statement, which tests another condition.\n",
    "\n",
    "A key note here is that Python will only go on to the next `elif` statement if it fails the test, so the ordering of the statments is **very important**. This is similar to making a decision tree.\n",
    "\n",
    "This situation might arise if you are an Illinois resident and you want to visit the Field Museum and get the all access pass so you can go to a 3D movie. There are different prices based on your age, so we need to have more than one test. We start at the youngest age and then work our way up. The last statement we have is the `else` statement, which gives all the people who didn't pass the other requirements their ticket price:\n",
    "\n",
    "The order of events\n",
    "* Ask if age is less than 3, admission is **free** if it is\n",
    "* Ask if age is less than 11 (but older than 3 because it failed that test), admission is $\\$27$ if it is\n",
    "* Ask if age is older than 65 (but older than 11 because it failed that test), admission is $\\$35$ if it is\n",
    "* Everyone not fitting these categories, admission is $\\$38$ for the rest"
   ]
  },
  {
   "cell_type": "code",
   "execution_count": null,
   "metadata": {
    "colab": {
     "base_uri": "https://localhost:8080/",
     "height": 35
    },
    "executionInfo": {
     "elapsed": 435,
     "status": "ok",
     "timestamp": 1599064496526,
     "user": {
      "displayName": "Katherine Dixon",
      "photoUrl": "",
      "userId": "15494218692838460261"
     },
     "user_tz": 300
    },
    "id": "ftrUli4AcQuY",
    "outputId": "0fd18c4b-30e0-4804-c771-5cf386cc450b"
   },
   "outputs": [],
   "source": [
    "age = 28\n",
    "\n",
    "if age < 3:\n",
    "  print(\"Your admission is free\") # take that baby to the Field!\n",
    "elif age <= 11:\n",
    "  print(\"Your admission is $27\")\n",
    "elif age >= 65: \n",
    "  print(\"Your admission is $35\")\n",
    "else: \n",
    "  print(\"Your Admission is $38\")"
   ]
  },
  {
   "cell_type": "markdown",
   "metadata": {
    "id": "ddWy-J9AtHb6"
   },
   "source": [
    "### 4.1 Dictionaries and `f strings` in the `elif` statement.\n",
    "\n",
    "This code is a little clunky and you have to hard code all the prices in the `if` statement. Recalling from our dictionaries from yesterday, we can instead use a dictionary and something called an `f string` to print it out specific prices in our `if` statement. You can think of f as for format when thinking about the mechanics of this, it is trying to format the new string with a variable.\n",
    "\n",
    "So we will first set up our dictionary named `field_dictionary`:\n",
    "\n"
   ]
  },
  {
   "cell_type": "code",
   "execution_count": null,
   "metadata": {
    "colab": {
     "base_uri": "https://localhost:8080/"
    },
    "executionInfo": {
     "elapsed": 123,
     "status": "ok",
     "timestamp": 1625080546764,
     "user": {
      "displayName": "Jess Senger",
      "photoUrl": "",
      "userId": "08376289370634799181"
     },
     "user_tz": 300
    },
    "id": "upqnmnNTtMut",
    "outputId": "cb754e95-a9b0-40dd-af5c-9feb57346ecf"
   },
   "outputs": [],
   "source": [
    "life_stages = [\"baby\", \"child\", \"adult\", \"senior\"]\n",
    "admission = [0, 27, 38, 35]\n",
    "\n",
    "field_dictionary = dict(zip(life_stages, admission))\n",
    "print(field_dictionary)"
   ]
  },
  {
   "cell_type": "markdown",
   "metadata": {
    "id": "9EHz0Ljjce7A"
   },
   "source": [
    "We can use the function `get` and the key `child` to call up the price of admission for a child:"
   ]
  },
  {
   "cell_type": "code",
   "execution_count": null,
   "metadata": {
    "colab": {
     "base_uri": "https://localhost:8080/"
    },
    "executionInfo": {
     "elapsed": 119,
     "status": "ok",
     "timestamp": 1625080782541,
     "user": {
      "displayName": "Jess Senger",
      "photoUrl": "",
      "userId": "08376289370634799181"
     },
     "user_tz": 300
    },
    "id": "08TXZsIk17Il",
    "outputId": "85b3010a-a104-45c2-874f-9ca99860625a"
   },
   "outputs": [],
   "source": [
    "field_dictionary.get('child')"
   ]
  },
  {
   "cell_type": "markdown",
   "metadata": {
    "id": "DxVCnuNtcq4K"
   },
   "source": [
    "We can now use an `f string` to print these values together by setting the `admission_price` using the dictionary and then calling that inside curly brackets in the `f string`. "
   ]
  },
  {
   "cell_type": "code",
   "execution_count": null,
   "metadata": {
    "colab": {
     "base_uri": "https://localhost:8080/"
    },
    "executionInfo": {
     "elapsed": 121,
     "status": "ok",
     "timestamp": 1625080790209,
     "user": {
      "displayName": "Jess Senger",
      "photoUrl": "",
      "userId": "08376289370634799181"
     },
     "user_tz": 300
    },
    "id": "yZ17FvjDgmH7",
    "outputId": "938e2724-037d-4485-912d-6c67c493d009"
   },
   "outputs": [],
   "source": [
    "admission_price = field_dictionary.get('adult') # use the key to get the admission price value\n",
    "\n",
    "print(f\"The cost of admission is ${admission_price}\") # print out the correct admission price for each life stage"
   ]
  },
  {
   "cell_type": "markdown",
   "metadata": {
    "id": "TniR04g0lxCb"
   },
   "source": [
    "You can even save this to a variable called `new_string` that will `print` out the string with the correct admission price. "
   ]
  },
  {
   "cell_type": "code",
   "execution_count": null,
   "metadata": {
    "colab": {
     "base_uri": "https://localhost:8080/"
    },
    "executionInfo": {
     "elapsed": 121,
     "status": "ok",
     "timestamp": 1625080796881,
     "user": {
      "displayName": "Jess Senger",
      "photoUrl": "",
      "userId": "08376289370634799181"
     },
     "user_tz": 300
    },
    "id": "9fxrS0dxkYwn",
    "outputId": "e1b848fa-202c-44e2-d326-840c14016c4e"
   },
   "outputs": [],
   "source": [
    "admission_price = field_dictionary.get('adult') # use the key to get the admission price value\n",
    "\n",
    "new_string= f\"The cost of admission is ${admission_price}\"\n",
    "\n",
    "print(new_string)"
   ]
  },
  {
   "cell_type": "markdown",
   "metadata": {
    "id": "OSK6t80jdQla"
   },
   "source": [
    "So we can include this back in our original `if` statement:"
   ]
  },
  {
   "cell_type": "code",
   "execution_count": null,
   "metadata": {
    "colab": {
     "base_uri": "https://localhost:8080/"
    },
    "executionInfo": {
     "elapsed": 172,
     "status": "ok",
     "timestamp": 1625080803693,
     "user": {
      "displayName": "Jess Senger",
      "photoUrl": "",
      "userId": "08376289370634799181"
     },
     "user_tz": 300
    },
    "id": "YK5mZua_dUBw",
    "outputId": "5ff47e84-db3e-4a0f-ff09-cdd834a33847"
   },
   "outputs": [],
   "source": [
    "# create a dictionary for life stages and admission price\n",
    "life_stages = [\"baby\", \"child\", \"adult\", \"senior\"]\n",
    "admission = [0, 27, 38, 35]\n",
    "field_dictionary = dict(zip(life_stages, admission))\n",
    "\n",
    "# set our age we want to test\n",
    "age = 90\n",
    "\n",
    "# use our elif statements to tell us our price of admission\n",
    "if age < 3:\n",
    "  admission_price = field_dictionary.get('baby')\n",
    "  print(f\"The cost of admission for a baby is ${admission_price}\")\n",
    "elif age <= 11:\n",
    "  admission_price = field_dictionary.get('child')\n",
    "  print(f\"The cost of admission for a child is ${admission_price}\")\n",
    "elif age >= 65: \n",
    "  admission_price = field_dictionary.get('senior')\n",
    "  print(f\"The cost of admission for a senior is ${admission_price}\")\n",
    "else: \n",
    "  admission_price = field_dictionary.get('adult')\n",
    "  print(f\"The cost of admission for an adult is ${admission_price}\")"
   ]
  },
  {
   "cell_type": "markdown",
   "metadata": {
    "id": "gDc8OpmEf8Zy"
   },
   "source": [
    "### 4.2 Coding check in!\n",
    "\n",
    "You're running a pet grooming salon and you take in cats, dogs, and elephants but nothing else. Set a fair price for each of these animals using a dictionary. Set up a series of `if` and `elif` statements that tell the customer how much it will be to wash their pet. Make sure to tell them that if it's not a cat, dog, or elephant, you can't groom their animal!\n",
    "\n"
   ]
  },
  {
   "cell_type": "code",
   "execution_count": null,
   "metadata": {
    "id": "g250-3xng979"
   },
   "outputs": [],
   "source": [
    "### space to put your code here!\n",
    "\n",
    "\n",
    "## dictionary of animals and prices\n",
    "\n",
    "\n",
    "\n",
    "# define your pet\n",
    "\n",
    "\n",
    "\n",
    "# elif statements"
   ]
  },
  {
   "cell_type": "markdown",
   "metadata": {
    "id": "57rss4jWddee"
   },
   "source": [
    "## 5 Using `in` to test if a value is in a list\n",
    "\n",
    "We can also use the test `in` to see if a value or string is in a list. We must go through the list by using a `for` loop, and then test the conditions of that using an if statements. This is an example of nesting an `if` statement within a `for` loop.\n",
    "\n",
    "Imagine you are at an ice cream sundae shop and you're requesting flavors. We want to loop through out requested toppings to see if they are available at the shop. \n",
    "\n",
    "We first define the toppings available, then the toppings requested. Then we use a for loop to go through each of the toppings requested. If the topping in `toppings_requested` is in `toppings_available` it will print that it's adding the topping. If it is not available, it says we don't have that topping."
   ]
  },
  {
   "cell_type": "code",
   "execution_count": null,
   "metadata": {
    "colab": {
     "base_uri": "https://localhost:8080/",
     "height": 69
    },
    "executionInfo": {
     "elapsed": 571,
     "status": "ok",
     "timestamp": 1599066175339,
     "user": {
      "displayName": "Katherine Dixon",
      "photoUrl": "",
      "userId": "15494218692838460261"
     },
     "user_tz": 300
    },
    "id": "pjA4ruoPdU-5",
    "outputId": "29be7e40-5a9b-41e8-bf7b-a2a79e9295e3"
   },
   "outputs": [],
   "source": [
    "toppings_available = ['sprinkles', 'fudge', 'whipped cream', 'bananas'] # the toppings available at the shop\n",
    "toppings_requested = ['sprinkles', 'fudge', 'cherries'] # the toppings someone orders\n",
    "\n",
    "for topping in toppings_requested: # for loop going through each of the requested toppings\n",
    "  if topping in toppings_available: # checking to see if each topping is available\n",
    "    print(f\"Adding {topping}!\")\n",
    "  else: # if it is not available\n",
    "    print(f\"We don't have {topping}!\")\n"
   ]
  },
  {
   "cell_type": "markdown",
   "metadata": {
    "id": "0wRRMG1UzNzr"
   },
   "source": [
    "## 6 Coding check in\n",
    "\n",
    "Imagine you're at a local boutique and you want to buy a vase for a friend. Your friend is very picky about their colors, and you need to ask the store manager if she has any specific colors available.\n",
    "\n",
    "Create a list of three colors that the store manager has (`colors_available`), and another list of three colors your friend might like (`colors_want`). Have the store manager respond with whether or not they have that color available for all the colors your friend might like.\n"
   ]
  },
  {
   "cell_type": "code",
   "execution_count": null,
   "metadata": {
    "id": "rReS_nZvh2Z5"
   },
   "outputs": [],
   "source": [
    "### coding check in here\n",
    "\n",
    "# lists of colors available and colors you want\n",
    "\n",
    "\n",
    "# for loop and if statement\n",
    "\n"
   ]
  },
  {
   "cell_type": "markdown",
   "metadata": {},
   "source": [
    "# Answers to the coding check ins"
   ]
  },
  {
   "cell_type": "markdown",
   "metadata": {
    "id": "BuXbGl5VVGBN"
   },
   "source": [
    "\n",
    "### 2.1 Answer"
   ]
  },
  {
   "cell_type": "code",
   "execution_count": null,
   "metadata": {
    "colab": {
     "base_uri": "https://localhost:8080/"
    },
    "executionInfo": {
     "elapsed": 162,
     "status": "ok",
     "timestamp": 1625216030154,
     "user": {
      "displayName": "Katerina Levi",
      "photoUrl": "",
      "userId": "14790590329608039426"
     },
     "user_tz": 240
    },
    "id": "foJi3D_WKg_L",
    "outputId": "c7a4551f-8cae-46cc-cbda-0803d881b1f6"
   },
   "outputs": [],
   "source": [
    "# set up empty array\n",
    "celcius = []\n",
    "\n",
    "\n",
    "# set up for loop with range\n",
    "for i in range(-10,81,10):\n",
    "  celcius.append((i -32) * (5/9))\n",
    "\n",
    "\n",
    "# print out your new array\n",
    "print(celcius)"
   ]
  },
  {
   "cell_type": "markdown",
   "metadata": {
    "id": "jUjzh5FwoeJI"
   },
   "source": [
    "### 3.2 Answer"
   ]
  },
  {
   "cell_type": "code",
   "execution_count": null,
   "metadata": {
    "colab": {
     "base_uri": "https://localhost:8080/"
    },
    "executionInfo": {
     "elapsed": 151,
     "status": "ok",
     "timestamp": 1625216288359,
     "user": {
      "displayName": "Katerina Levi",
      "photoUrl": "",
      "userId": "14790590329608039426"
     },
     "user_tz": 240
    },
    "id": "sT-YsWAscFtj",
    "outputId": "a7c15e04-aabf-4618-fdbc-70696f1935ff"
   },
   "outputs": [],
   "source": [
    "brady_throw = 70\n",
    "gronk_open = False\n",
    "\n",
    "if (brady_throw >= 60) and (gronk_open == True):\n",
    "  print(\"They make the catch, Buccs win!\")\n",
    "else:\n",
    "  print(\"They fail! Browns win!!!!\")\n",
    "\n"
   ]
  },
  {
   "cell_type": "code",
   "execution_count": null,
   "metadata": {
    "colab": {
     "base_uri": "https://localhost:8080/"
    },
    "executionInfo": {
     "elapsed": 107,
     "status": "ok",
     "timestamp": 1625079157601,
     "user": {
      "displayName": "Jess Senger",
      "photoUrl": "",
      "userId": "08376289370634799181"
     },
     "user_tz": 300
    },
    "id": "dTHbaGSenTII",
    "outputId": "2ba095bf-cf9a-4db2-c61d-cfe6a552011f"
   },
   "outputs": [],
   "source": [
    "brady_throw = 55\n",
    "gronk_open = True\n",
    "\n",
    "if (brady_throw >= 60) and (gronk_open == True):\n",
    "  print(\"Brady passes to Gronk for the Touch Down, Buccs win!!\")\n",
    "else:\n",
    "  print(\"Brady and Gronk fail to make the pass, the Browns win the game!!\")\n",
    "\n",
    "# Let's go Brownies!\n",
    "# there are several ways this could be written and be more complicated"
   ]
  },
  {
   "cell_type": "markdown",
   "metadata": {
    "id": "RXK4rcKvhAB-"
   },
   "source": [
    "### 4.2 Answer to coding check in!"
   ]
  },
  {
   "cell_type": "code",
   "execution_count": null,
   "metadata": {
    "colab": {
     "base_uri": "https://localhost:8080/"
    },
    "executionInfo": {
     "elapsed": 153,
     "status": "ok",
     "timestamp": 1625216595123,
     "user": {
      "displayName": "Katerina Levi",
      "photoUrl": "",
      "userId": "14790590329608039426"
     },
     "user_tz": 240
    },
    "id": "_JzovXpreKcL",
    "outputId": "89189098-26c6-4727-e796-c6ec3e9fa400"
   },
   "outputs": [],
   "source": [
    "animals = [\"cat\", \"dog\", \"elephant\"]\n",
    "price = [25, 50, 1000]\n",
    "\n",
    "pet_grooming_dict = dict(zip(animals,price))\n",
    "\n",
    "\n",
    "pet = \"elephant\"\n",
    "\n",
    "if pet == \"cat\":\n",
    "  wash_price = pet_grooming_dict.get(\"cat\")\n",
    "  print(f\"The cost to wash your cat is ${wash_price}\")\n",
    "elif pet == \"dog\":\n",
    "  wash_price = pet_grooming_dict.get(\"dog\")\n",
    "  print(f\"The cost to wash your dog is ${wash_price}\")\n",
    "elif pet == \"elephant\":\n",
    "  wash_price = pet_grooming_dict.get(\"elephant\")\n",
    "  print(f\"The cost to wash your elephant is ${wash_price}\")\n",
    "else:\n",
    "  print(\"We don't wash that species here\")\n"
   ]
  },
  {
   "cell_type": "markdown",
   "metadata": {
    "id": "mIS9yYDeh_-h"
   },
   "source": [
    "### 6.1 Coding check in answer"
   ]
  },
  {
   "cell_type": "code",
   "execution_count": null,
   "metadata": {
    "colab": {
     "base_uri": "https://localhost:8080/"
    },
    "executionInfo": {
     "elapsed": 127,
     "status": "ok",
     "timestamp": 1625081202678,
     "user": {
      "displayName": "Jess Senger",
      "photoUrl": "",
      "userId": "08376289370634799181"
     },
     "user_tz": 300
    },
    "id": "7O10j-oieWyf",
    "outputId": "35c86732-985f-4940-90ae-7f3151fcb87a"
   },
   "outputs": [],
   "source": [
    "colors_available = ['red', 'blue', 'violet'] # the colors available from the store\n",
    "colors_want = ['violet', 'pink', 'blue'] # the colors your friend might like\n",
    "\n",
    "for color in colors_want: # for loop going through each of the requested toppings\n",
    "  if color in colors_available: # checking to see if each topping is available\n",
    "    print(f\"We have a vase in {color}!\")\n",
    "  else: # if it is not available\n",
    "    print(f\"We don't have a vase in {color}!\")"
   ]
  },
  {
   "cell_type": "markdown",
   "metadata": {
    "id": "niiH7QBS_yzk"
   },
   "source": [
    "# Mini-lesson: Floating Point"
   ]
  },
  {
   "cell_type": "markdown",
   "metadata": {
    "id": "_49_zLyRAU5s"
   },
   "source": [
    "## 1.0 Different \"types\" of numbers\n",
    "\n",
    "There are two main python types for numbers: `int` and `float`\n",
    "\n",
    "Type `int` are integers, such as 0, 1, 2, ..., 10, ...\n",
    "\n",
    "Type `float` are numbers in their decimal form, such as 0.1, 1.1, 55.000000001, ...\n",
    "\n",
    "`int` can be cast in `float` and vice versa.\n",
    "\n",
    "Examples of both types are below:"
   ]
  },
  {
   "cell_type": "code",
   "execution_count": null,
   "metadata": {
    "colab": {
     "base_uri": "https://localhost:8080/"
    },
    "executionInfo": {
     "elapsed": 121,
     "status": "ok",
     "timestamp": 1625081365500,
     "user": {
      "displayName": "Jess Senger",
      "photoUrl": "",
      "userId": "08376289370634799181"
     },
     "user_tz": 300
    },
    "id": "Svl-S5g2APcC",
    "outputId": "ddc359ab-30d0-4f48-f872-2967257d9329"
   },
   "outputs": [],
   "source": [
    "x = 1\n",
    "\n",
    "# As a sanity check, we print the type for the variable x:\n",
    "print(type(x))\n",
    "print(\"x = {}\".format(x))"
   ]
  },
  {
   "cell_type": "code",
   "execution_count": null,
   "metadata": {
    "colab": {
     "base_uri": "https://localhost:8080/"
    },
    "executionInfo": {
     "elapsed": 121,
     "status": "ok",
     "timestamp": 1625081810124,
     "user": {
      "displayName": "Jess Senger",
      "photoUrl": "",
      "userId": "08376289370634799181"
     },
     "user_tz": 300
    },
    "id": "CGNlbzDjCnGJ",
    "outputId": "db51a0c9-f845-4473-af13-5176d63142cb"
   },
   "outputs": [],
   "source": [
    "# We cast the integer stored in x to a float. \n",
    "x = float(x) # After running this line, the variable x now represents a floating point value and not an integer.\n",
    "\n",
    "# Sanity check:\n",
    "print(type(x))\n",
    "print(\"x = {}\".format(x))"
   ]
  },
  {
   "cell_type": "code",
   "execution_count": null,
   "metadata": {
    "colab": {
     "base_uri": "https://localhost:8080/"
    },
    "executionInfo": {
     "elapsed": 131,
     "status": "ok",
     "timestamp": 1625081815194,
     "user": {
      "displayName": "Jess Senger",
      "photoUrl": "",
      "userId": "08376289370634799181"
     },
     "user_tz": 300
    },
    "id": "2Y1y8RG4FST4",
    "outputId": "2c755072-0bbc-4ef5-e59f-a429388c5185"
   },
   "outputs": [],
   "source": [
    "# When casting from float to int, the number gets truncated such that the decimal part is removed\n",
    "print(int(3.2))\n",
    "print(int(3.5))\n",
    "print(int(3.8))"
   ]
  },
  {
   "cell_type": "markdown",
   "metadata": {
    "id": "dzhnv4lABmml"
   },
   "source": [
    "## 1.1 Floating point issues and limitations\n",
    "\n",
    "There are times when the result of a calculation with floating points seems to defy what we've traditionally learned...\n",
    "\n",
    "For example, what is the sum of 1.1 and 2.2?\n",
    "\n",
    "\n",
    "Let's see what Python thinks..."
   ]
  },
  {
   "cell_type": "code",
   "execution_count": null,
   "metadata": {
    "colab": {
     "base_uri": "https://localhost:8080/"
    },
    "executionInfo": {
     "elapsed": 124,
     "status": "ok",
     "timestamp": 1625081819568,
     "user": {
      "displayName": "Jess Senger",
      "photoUrl": "",
      "userId": "08376289370634799181"
     },
     "user_tz": 300
    },
    "id": "J0F1wO8iEbjS",
    "outputId": "835c9458-252b-40f0-eb50-74941652a2e8"
   },
   "outputs": [],
   "source": [
    "print(\"Does 1.1 + 2.2 = 3.3?\")\n",
    "print(1.1 + 2.2 == 3.3)"
   ]
  },
  {
   "cell_type": "code",
   "execution_count": null,
   "metadata": {
    "colab": {
     "base_uri": "https://localhost:8080/"
    },
    "executionInfo": {
     "elapsed": 121,
     "status": "ok",
     "timestamp": 1625081822152,
     "user": {
      "displayName": "Jess Senger",
      "photoUrl": "",
      "userId": "08376289370634799181"
     },
     "user_tz": 300
    },
    "id": "1rgMdQ06UOTg",
    "outputId": "f7004deb-fdc6-4af9-dd53-dcb7214bdf30"
   },
   "outputs": [],
   "source": [
    "print(1.1+2.2)"
   ]
  },
  {
   "cell_type": "markdown",
   "metadata": {
    "id": "-ZfuzDmyIUeP"
   },
   "source": [
    "The above is a very classic floating point error, similar to the one we saw yesterday. \n",
    "\n",
    "What happened?\n",
    "\n",
    "Floating-point numbers are implemented in computer hardware as binary fractions. Thus, most decimal fractions cannot be accurately stored.\n",
    "\n",
    "\n",
    "\n",
    "As a default, python uses double-precision floating point. This means that 53 bits are used, so the otherwise infinite representation is rounded to 53 significant bits.\n",
    "\n",
    "\n",
    "In your computer, `0.1` is stored as the following rounded **binary value**:\n",
    "`0.0001100110011001100110011001100110011001100110011001101`. \n",
    "\n",
    "This binary value is then converted to the following **decimal value** when printed to the console: `0.1000000000000000055511151231257827021181583404541015625`, which is slightly greater than 0.1. \n"
   ]
  },
  {
   "cell_type": "code",
   "execution_count": null,
   "metadata": {
    "colab": {
     "base_uri": "https://localhost:8080/"
    },
    "executionInfo": {
     "elapsed": 111,
     "status": "ok",
     "timestamp": 1625081852867,
     "user": {
      "displayName": "Jess Senger",
      "photoUrl": "",
      "userId": "08376289370634799181"
     },
     "user_tz": 300
    },
    "id": "mJQtpnaZORed",
    "outputId": "2122d6c5-cf7b-4193-fac8-5d6499c9684b"
   },
   "outputs": [],
   "source": [
    "print(\"0.1 to the 60th decimal place: {:.60f}\".format(0.1))\n",
    "print(\"0.1 to the 19th decimal place: {:.19f}\".format(0.1))\n",
    "print(\"0.1 to the 17th decimal place: {:.17f}\".format(0.1))\n"
   ]
  },
  {
   "cell_type": "markdown",
   "metadata": {
    "id": "ceRYbBjiXn0Q"
   },
   "source": [
    "The following is an example from yesterday:"
   ]
  },
  {
   "cell_type": "code",
   "execution_count": null,
   "metadata": {
    "colab": {
     "base_uri": "https://localhost:8080/"
    },
    "executionInfo": {
     "elapsed": 112,
     "status": "ok",
     "timestamp": 1625081865012,
     "user": {
      "displayName": "Jess Senger",
      "photoUrl": "",
      "userId": "08376289370634799181"
     },
     "user_tz": 300
    },
    "id": "-7epL1QzEr99",
    "outputId": "b6e2d64a-b360-49de-d12b-bb553dd30ed7"
   },
   "outputs": [],
   "source": [
    "weight_kg = 25\n",
    "conversion = 2.2\n",
    "\n",
    "weight_lbs = weight_kg * conversion\n",
    "print(weight_lbs)"
   ]
  },
  {
   "cell_type": "code",
   "execution_count": null,
   "metadata": {
    "colab": {
     "base_uri": "https://localhost:8080/",
     "height": 35
    },
    "executionInfo": {
     "elapsed": 117,
     "status": "ok",
     "timestamp": 1625081867676,
     "user": {
      "displayName": "Jess Senger",
      "photoUrl": "",
      "userId": "08376289370634799181"
     },
     "user_tz": 300
    },
    "id": "UZ16D1ABEyND",
    "outputId": "0dd9cde1-4b64-4512-f499-c6567106be07"
   },
   "outputs": [],
   "source": [
    "\"55 to the 60th decimal place: {:.60f}\".format(2.2*25)"
   ]
  }
 ],
 "metadata": {
  "colab": {
   "collapsed_sections": [],
   "name": "Day3_Loops_and_if_Statements.ipynb",
   "provenance": [
    {
     "file_id": "1nghQHVEfV4ScLEpVL0dw375gid26cuet",
     "timestamp": 1618585936844
    }
   ]
  },
  "kernelspec": {
   "display_name": "Python 3",
   "language": "python",
   "name": "python3"
  },
  "language_info": {
   "codemirror_mode": {
    "name": "ipython",
    "version": 3
   },
   "file_extension": ".py",
   "mimetype": "text/x-python",
   "name": "python",
   "nbconvert_exporter": "python",
   "pygments_lexer": "ipython3",
   "version": "3.7.1"
  }
 },
 "nbformat": 4,
 "nbformat_minor": 1
}
