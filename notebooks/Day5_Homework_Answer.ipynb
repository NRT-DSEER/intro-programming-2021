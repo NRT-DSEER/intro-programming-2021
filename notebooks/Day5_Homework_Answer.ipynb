{
 "cells": [
  {
   "cell_type": "markdown",
   "metadata": {},
   "source": [
    "## 5. Homework: Slicing and Dicing\n",
    "\n",
    "1. load in `'GBM_sensitivity.csv'`, located under `loaddir` and save it as a numpy array. This dataset contains the sensitivity of a satellite to the brightness of faraway stars exploding as a function of the distance to those explosions \n",
    "2. print last 10 items (slice the array)\n",
    "3. This dataset just has the sensitivities, but these sensitivites are a function of distance to the explosion. Pretend you know that each sensitivity measurement was taken at evenly spaced intervals between 50 Mpc and 47800 Mpc (Megaparcecs are confusing measurements of distance that astrophysicists use a lot - you dont need to know what a Mpc is to do this problem). Make a 1d numpy array called `distances` that is the same length as your dataset and contains evenly spaced numbers between 50 and 47800. \n",
    "3. print the elements of the your dataset with distances between `1e4` and `1e5` using Boolean indexing\n",
    "4. find the mean distance of points with sensitivity greater than `5e50` with Boolean indexing and `np.mean()`\n",
    "\n",
    "\n",
    "Remember - if you can't think of the numpy function for something, just google it!"
   ]
  },
  {
   "cell_type": "code",
   "execution_count": null,
   "metadata": {},
   "outputs": [],
   "source": [
    "## answer to the homework here\n",
    "\n",
    "\n",
    "\n",
    "\n",
    "\n",
    "\n",
    "\n",
    "\n",
    "\n",
    "\n"
   ]
  }
 ],
 "metadata": {
  "kernelspec": {
   "display_name": "Python 3",
   "language": "python",
   "name": "python3"
  },
  "language_info": {
   "codemirror_mode": {
    "name": "ipython",
    "version": 3
   },
   "file_extension": ".py",
   "mimetype": "text/x-python",
   "name": "python",
   "nbconvert_exporter": "python",
   "pygments_lexer": "ipython3",
   "version": "3.7.1"
  }
 },
 "nbformat": 4,
 "nbformat_minor": 2
}
