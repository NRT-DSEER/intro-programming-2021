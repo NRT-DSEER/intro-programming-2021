{
 "cells": [
  {
   "cell_type": "markdown",
   "metadata": {},
   "source": [
    "## 14 Plotting homework assignment\n",
    "\n",
    "The most basic set of differential euqations used by disease ecologists (aka Katie) are SIR (susceptible, infected, recovered) equations. Most of the population starts out susceptible to infection, and can move to the infected class by interacting with an infected person. The infected class then recovers at some rate, and moves to the recovered class. In this case, there is no disease or population mortality. \n",
    "\n",
    "The discrete set of equations are as follows, where $\\beta$ is the transmission rate, and $\\gamma$ is the recovery rate:\n",
    "\n",
    "$$S_{t} = S_{t-1} - \\beta S_{t-1} I_{t-1}$$\n",
    "$$I_{t} = I_{t-1} + \\beta S_{t-1} I_{t-1} - \\gamma I_{t-1}$$\n",
    "$$R_{t} = R_{t-1} + \\gamma I_{t-1}$$\n",
    "\n",
    "In a simliar fashion to the Lotka-Volterra function above, simulate an epidemicusing the SIR equations and then plot the output of that function. I will write down the equations for you to get you started, since this is the first way to run into trouble. \n",
    "\n",
    "Initial conditions:\n",
    "* S_init = 0.99\n",
    "* I_init = 0.01\n",
    "* R_init = 0\n",
    "\n",
    "Parameters:\n",
    "* beta = 0.5\n",
    "* gamma = 0.2\n",
    "* MaxTime = 100\n",
    "\n",
    "*Advanced*: Try it out by writing the equations by yourself, if you can't figure it out they are at the end!\n"
   ]
  },
  {
   "cell_type": "code",
   "execution_count": null,
   "metadata": {},
   "outputs": [],
   "source": [
    "import matplotlib.pyplot as plt\n",
    "import numpy as np"
   ]
  },
  {
   "cell_type": "code",
   "execution_count": null,
   "metadata": {},
   "outputs": [],
   "source": [
    "def plot_SIR(Init_S, Init_I, Init_R, beta, gamma, MaxTime):\n",
    "\n",
    "    S = [0]*MaxTime # initialize a vector that is 200 elements long of zeros\n",
    "    I = [0]*MaxTime\n",
    "    R = [0]*MaxTime\n",
    "\n",
    "    S[0] = Init_S # setting the first value to the initial conditions\n",
    "    I[0] = Init_I\n",
    "    R[0] = Init_R\n",
    "\n",
    "    for i in range(1,MaxTime,1): \n",
    "        S[i] = S[i-1] - beta*S[i-1]*I[i-1] # susceptible equation\n",
    "        I[i] = I[i-1] + beta*S[i-1]*I[i-1] - gamma*I[i-1] # infected equation\n",
    "        R[i] = R[i-1] + gamma*I[i-1]\n",
    "\n",
    "    fig, ax = plt.subplots()\n",
    "    ax.plot(S, label = \"Susceptible\")\n",
    "    ax.plot(I, label = \"Infected\")\n",
    "    ax.plot(R, label = \"Recovered\")\n",
    "\n",
    "    ax.set_xlabel(\"Time\", fontsize = 15)\n",
    "    ax.set_ylabel(\"Proportion of population\", fontsize = 15)\n",
    "    ax.legend()\n",
    "\n",
    "    plt.show()"
   ]
  },
  {
   "cell_type": "code",
   "execution_count": null,
   "metadata": {},
   "outputs": [],
   "source": [
    "\n",
    "params_set1 = {\"Init_S\": 0.99, \"Init_I\": 0.01, \"Init_R\":0, \"beta\":0.8, \"gamma\":0.1, \"MaxTime\":100}\n",
    "plot_SIR(**params_set1)"
   ]
  },
  {
   "cell_type": "code",
   "execution_count": null,
   "metadata": {},
   "outputs": [],
   "source": []
  }
 ],
 "metadata": {
  "kernelspec": {
   "display_name": "Python 3",
   "language": "python",
   "name": "python3"
  },
  "language_info": {
   "codemirror_mode": {
    "name": "ipython",
    "version": 3
   },
   "file_extension": ".py",
   "mimetype": "text/x-python",
   "name": "python",
   "nbconvert_exporter": "python",
   "pygments_lexer": "ipython3",
   "version": "3.7.1"
  }
 },
 "nbformat": 4,
 "nbformat_minor": 2
}
