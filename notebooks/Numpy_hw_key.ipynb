{
 "cells": [
  {
   "cell_type": "code",
   "execution_count": 1,
   "id": "14f286ba",
   "metadata": {},
   "outputs": [],
   "source": [
    "import numpy as np"
   ]
  },
  {
   "cell_type": "code",
   "execution_count": 3,
   "id": "5f3b0f31",
   "metadata": {},
   "outputs": [],
   "source": [
    "loaddir = '../data/' #Make sure the paths end in '/'\n",
    "savedir = '../output/'  "
   ]
  },
  {
   "cell_type": "code",
   "execution_count": 11,
   "id": "3d5d696c",
   "metadata": {},
   "outputs": [
    {
     "name": "stdout",
     "output_type": "stream",
     "text": [
      "last 10 elements: \n",
      "\n",
      "[1.08322750e+47 1.65510738e+47 2.52912654e+47 3.60148034e+47\n",
      " 4.94981922e+47 7.83606507e+47 9.68699713e+47 1.37930964e+48\n",
      " 1.89586736e+48 2.34358194e+48 3.33711894e+48 5.09980959e+48\n",
      " 7.13496370e+48 1.14977017e+49 1.75724049e+49 2.68566207e+49\n",
      " 3.82488771e+49 5.64327714e+49 8.62635494e+49 1.27285198e+50\n",
      " 1.74999880e+50 2.49297971e+50 3.81145212e+50 5.62541694e+50\n",
      " 8.60430685e+50 1.22605669e+51 1.74750684e+51 2.32038851e+51\n",
      " 3.30784246e+51 4.09292510e+51 5.43517471e+51 6.49224669e+51\n",
      " 8.03451699e+51 9.94402994e+51 1.23062911e+52 1.47074042e+52\n",
      " 1.75693390e+52 2.02595339e+52]\n",
      "\n",
      "\n",
      "distances:  [   50.          1065.95744681  2081.91489362  3097.87234043\n",
      "  4113.82978723  5129.78723404  6145.74468085  7161.70212766\n",
      "  8177.65957447  9193.61702128 10209.57446809 11225.53191489\n",
      " 12241.4893617  13257.44680851 14273.40425532 15289.36170213\n",
      " 16305.31914894 17321.27659574 18337.23404255 19353.19148936\n",
      " 20369.14893617 21385.10638298 22401.06382979 23417.0212766\n",
      " 24432.9787234  25448.93617021 26464.89361702 27480.85106383\n",
      " 28496.80851064 29512.76595745 30528.72340426 31544.68085106\n",
      " 32560.63829787 33576.59574468 34592.55319149 35608.5106383\n",
      " 36624.46808511 37640.42553191 38656.38297872 39672.34042553\n",
      " 40688.29787234 41704.25531915 42720.21276596 43736.17021277\n",
      " 44752.12765957 45768.08510638 46784.04255319 47800.        ]\n",
      "\n",
      "\n",
      "distance between 1e4 and 1e5: \n",
      "[3.33711894e+48 5.09980959e+48 7.13496370e+48 1.14977017e+49\n",
      " 1.75724049e+49 2.68566207e+49 3.82488771e+49 5.64327714e+49\n",
      " 8.62635494e+49 1.27285198e+50 1.74999880e+50 2.49297971e+50\n",
      " 3.81145212e+50 5.62541694e+50 8.60430685e+50 1.22605669e+51\n",
      " 1.74750684e+51 2.32038851e+51 3.30784246e+51 4.09292510e+51\n",
      " 5.43517471e+51 6.49224669e+51 8.03451699e+51 9.94402994e+51\n",
      " 1.23062911e+52 1.47074042e+52 1.75693390e+52 2.02595339e+52\n",
      " 2.42018656e+52 2.79198013e+52 3.21948460e+52 3.71406782e+52\n",
      " 3.99055341e+52 4.76832877e+52 5.30802238e+52 5.70316641e+52\n",
      " 6.57700183e+52 6.82425654e+52]\n",
      "\n",
      "\n",
      "mean distance of points with sensitivity greater than 5e50: \n",
      "35608.51063829787  Mpc\n"
     ]
    }
   ],
   "source": [
    "sens_curve  = np.loadtxt(loaddir+'GBM_sensitivity.csv',delimiter=',')\n",
    "\n",
    "#'\\n will create a new blank line- so I am adding this to separate the output from the print commands'\n",
    "print('last 10 elements: \\n')\n",
    "print(sens_curve[:-10])\n",
    "print ('\\n')\n",
    "\n",
    "#create distances\n",
    "distances = np.linspace(50,47800,num=len(sens_curve))\n",
    "print('distances: ',distances)\n",
    "print('\\n')\n",
    "\n",
    "print('distance between 1e4 and 1e5: ')\n",
    "print(sens_curve[np.logical_and(distances>1e4,distances<1e5)])\n",
    "print ('\\n')\n",
    "\n",
    "print('mean distance of points with sensitivity greater than 5e50: ')\n",
    "print(np.mean(distances[sens_curve>5e50],axis=0), \" Mpc\")"
   ]
  }
 ],
 "metadata": {
  "kernelspec": {
   "display_name": "Python [conda env:root] *",
   "language": "python3.8",
   "name": "conda-root-py"
  },
  "language_info": {
   "codemirror_mode": {
    "name": "ipython",
    "version": 3
   },
   "file_extension": ".py",
   "mimetype": "text/x-python",
   "name": "python",
   "nbconvert_exporter": "python",
   "pygments_lexer": "ipython3",
   "version": "3.8.11"
  }
 },
 "nbformat": 4,
 "nbformat_minor": 5
}
