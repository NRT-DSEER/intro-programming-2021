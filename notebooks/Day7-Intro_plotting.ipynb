{
 "cells": [
  {
   "cell_type": "markdown",
   "metadata": {
    "id": "M9N4SjSpptom"
   },
   "source": [
    "# Day 7: Introduction to Plotting\n",
    "\n",
    "Yesterday, we went over how to create your own functions! Today, we're going to go over an introduction to plotting in Python (**yay**!). Data visualization is arguably one of the most important components of research and science communication. Always visualize your data early on in your research process because it helps you identify errors in your data!\n",
    "\n",
    "Goals for the day\n",
    "* Get used to plotting basic plots in `Matplotlib`\n",
    "* Make multiple subplots in one figure\n",
    "* Plot multiple lines on one figure\n",
    "* Make scatterplots and histograms\n",
    "* Learn to plot using a function\n",
    "* Go through some extra resources for cool plots\n"
   ]
  },
  {
   "cell_type": "markdown",
   "metadata": {
    "id": "HpOJpjLBVJqh"
   },
   "source": [
    "# Set Directory"
   ]
  },
  {
   "cell_type": "code",
   "execution_count": null,
   "metadata": {
    "id": "_ugWGL7qViZx"
   },
   "outputs": [],
   "source": [
    "#this is the specific directory where the data we want to use is stored\n",
    "loaddir = '../data/'\n",
    "\n",
    "#this is the directory where we want to store the data we finish analyzing\n",
    "savedir = '../output/'"
   ]
  },
  {
   "cell_type": "markdown",
   "metadata": {
    "id": "yte8j2S7WAzu"
   },
   "source": [
    "## 1 Matplotlib\n",
    "\n",
    "First, we're going to import an important package `matplotlib`, which is a great base for plotting and is highly customizable. We will give a subsection of `matplotlib.pyplot` a nickname, `plt`, the same as we did for numpy last week.\n",
    "\n",
    "We are importing only a section of `matplotlib`, which is intended for simple and interactive plots. There is a huge amount of customization functions, which can be found [here](https://matplotlib.org/3.3.1/api/_as_gen/matplotlib.pyplot.html). "
   ]
  },
  {
   "cell_type": "code",
   "execution_count": null,
   "metadata": {
    "executionInfo": {
     "elapsed": 7,
     "status": "ok",
     "timestamp": 1625758488819,
     "user": {
      "displayName": "Jess Senger",
      "photoUrl": "",
      "userId": "08376289370634799181"
     },
     "user_tz": 300
    },
    "id": "PlHoz2CgoZck"
   },
   "outputs": [],
   "source": [
    "import matplotlib.pyplot as plt\n",
    "import numpy as np"
   ]
  },
  {
   "cell_type": "markdown",
   "metadata": {
    "id": "HkO59qqlq0vu"
   },
   "source": [
    "### 1.1 Let's do some plots\n",
    "\n",
    "The mechanics of what is happening here is in the first line, we use a common `Matplotlib` convention by calling `subplots`, which allows you to plot multiple plots at once. The variable `fig` represents the entire figure for if you want to make whole figure changes, and the variable `ax` represents a single plot within `fig` and is what we will then be using.\n",
    "\n",
    "Remember that `plt` is our shortcut to access `matplotlib` and we are trying to save ourselves some keystrokes down the line!\n",
    "\n",
    "First, we can set up an empty figure using `subplots`. This is the default that we will then build upon."
   ]
  },
  {
   "cell_type": "code",
   "execution_count": null,
   "metadata": {
    "colab": {
     "base_uri": "https://localhost:8080/",
     "height": 269
    },
    "executionInfo": {
     "elapsed": 644,
     "status": "ok",
     "timestamp": 1599579982783,
     "user": {
      "displayName": "Katherine Dixon",
      "photoUrl": "",
      "userId": "15494218692838460261"
     },
     "user_tz": 300
    },
    "id": "LO1S9bd7LYjm",
    "outputId": "1701fa8f-9440-4e9b-b9ac-266185c21f3d"
   },
   "outputs": [],
   "source": [
    "fig, ax = plt.subplots() # building our figure. \n",
    "\n",
    "plt.show() # use the show function to show the figure we've made"
   ]
  },
  {
   "cell_type": "markdown",
   "metadata": {
    "id": "6qSdF8DzLiLW"
   },
   "source": [
    "We can generate some data using `np.linspace` as we did in the `numpy` lecture. We will create a array of 20 numbers from 0 to 10 as `input_values` and then calculate the square of those values as an array called `squares`.\n",
    "\n",
    "Then we use the function `plot` on our subplot that we called `ax`, which will generate a line plot with `input_values` on our x axis and `squares` on our y axis. Then we use the function `show` to print the plot to the command line.\n",
    "\n",
    "\n"
   ]
  },
  {
   "cell_type": "code",
   "execution_count": null,
   "metadata": {
    "colab": {
     "base_uri": "https://localhost:8080/",
     "height": 265
    },
    "executionInfo": {
     "elapsed": 645,
     "status": "ok",
     "timestamp": 1599580067383,
     "user": {
      "displayName": "Katherine Dixon",
      "photoUrl": "",
      "userId": "15494218692838460261"
     },
     "user_tz": 300
    },
    "id": "5KoBhlvRtMF-",
    "outputId": "73b6022c-3db1-4f63-a2be-0e7899f18864"
   },
   "outputs": [],
   "source": [
    "input_values = x = np.linspace(0,10,20) # array from 0 to 10 with 20 equally spaced values\n",
    "squares = x**2 # squaring the array of y values\n",
    "\n",
    "fig, ax = plt.subplots() # setting up our empty figure space\n",
    "ax.plot(input_values, squares) #ax.plot(x,y)\n",
    "\n",
    "plt.show() # shows our plot for us"
   ]
  },
  {
   "cell_type": "markdown",
   "metadata": {
    "id": "y3x1JT_rvJJk"
   },
   "source": [
    "## 2 Axis labels, types of plots, shapes, and colors\n",
    "\n",
    "The plot is correct, but it's a little boring and not very informative. Also note that Python assumed that I wanted a line plot, when I didn't really tell them what I wanted. If you try to share this information, the first question will be \"What are the axes??\" (My PI would also say \"I'm old, I can't see them!!\")\n",
    "\n",
    "So let's try again and add some information and change the linewidth and color. We will do that by building on our plot variable `ax`.\n",
    "\n",
    "The \n",
    "[documentation](https://matplotlib.org/2.1.1/api/_as_gen/matplotlib.pyplot.plot.html) for `Matplotlib` will show you the different color and symbol options.\n",
    "\n",
    "We will set our title, xlabel, ylabel and make the labels on our axes bigger\n"
   ]
  },
  {
   "cell_type": "code",
   "execution_count": null,
   "metadata": {
    "colab": {
     "base_uri": "https://localhost:8080/",
     "height": 312
    },
    "executionInfo": {
     "elapsed": 891,
     "status": "ok",
     "timestamp": 1599580408252,
     "user": {
      "displayName": "Katherine Dixon",
      "photoUrl": "",
      "userId": "15494218692838460261"
     },
     "user_tz": 300
    },
    "id": "cdlAETlZwzCh",
    "outputId": "9efff54c-4c8f-4f0d-9246-25f52e8ded2c"
   },
   "outputs": [],
   "source": [
    "x = np.linspace(0,10,20) # array from 0 to 10 with 20 equally spaced values\n",
    "squares = x**2 # array of y values\n",
    "\n",
    "# set up our basic plot\n",
    "fig, ax = plt.subplots()\n",
    "ax.plot(input_values, squares,  'blue', linewidth = 3)\n",
    "\n",
    "# set up our axes and title\n",
    "ax.set_title(\"Square numbers\", fontsize = 24) # adds a title\n",
    "ax.set_xlabel(\"Value\", fontsize = 14) # adds x label\n",
    "ax.set_ylabel(\"Square of Value\", fontsize = 14) # adds y label\n",
    "\n",
    "ax.tick_params(axis = \"both\", labelsize = 14) # increases font size for both axes\n",
    "\n",
    "plt.show()"
   ]
  },
  {
   "cell_type": "markdown",
   "metadata": {},
   "source": [
    "## 2.1 Coding check in\n",
    "\n",
    "You may have learned about the concept of logistic growth in some of your biology classes in the past. As an ecologist, it's something we talk about all the time! Essentially, it's that a population will grow over time until it reaches it's carrying capacity, `K`. There is also another parameter `r` that defines how quickly the population reaches carrying capacity. \n",
    "\n",
    "First, I'll go over how to write a function again, and then you'll use that function to create a line and then plot the data"
   ]
  },
  {
   "cell_type": "code",
   "execution_count": null,
   "metadata": {},
   "outputs": [],
   "source": [
    "def get_pop_growth(K, r, MaxTime):\n",
    "    x = np.linspace(0,MaxTime,20) # array from 0 to 10 with 20 equally spaced values\n",
    "    y = K/(1 + r*np.exp(-x)) # array of y values\n",
    "    \n",
    "    return(y)"
   ]
  },
  {
   "cell_type": "code",
   "execution_count": null,
   "metadata": {},
   "outputs": [],
   "source": [
    "# setting our parameters of interest\n",
    "K = 20\n",
    "r = 10\n",
    "MaxTime = 20\n",
    "\n",
    "# using our log_growth function to generate a time series\n",
    "time = np.linspace(0,MaxTime,20) # array from 0 to 10 with 20 equally spaced values\n",
    "log_growth = get_pop_growth(K = K, r = r, MaxTime = MaxTime) # array of y values"
   ]
  },
  {
   "cell_type": "markdown",
   "metadata": {},
   "source": [
    "Now, use the x and y values we just created to plot your data!\n",
    "\n",
    "*Hint:* it can take a long time to write everything out so you can copy from the previous plotting cell. Just make sure to change your x and y inputs and your axes\n"
   ]
  },
  {
   "cell_type": "code",
   "execution_count": null,
   "metadata": {},
   "outputs": [],
   "source": [
    "### create your plot here\n",
    "\n",
    "\n",
    "\n",
    "\n",
    "\n",
    "\n",
    "\n",
    "\n",
    "\n",
    "\n",
    "\n",
    "\n"
   ]
  },
  {
   "cell_type": "markdown",
   "metadata": {
    "id": "SYfnpl3FbNoQ"
   },
   "source": [
    "## 2.2 Changing the axis\n",
    "\n",
    "It comes up a lot that you want to change your axis. The documentation for some of that is found [here](https://matplotlib.org/3.1.1/api/_as_gen/matplotlib.pyplot.axis.html). We can use `set` to manually set our axis labels. There are also other ways to do more specific things, like setting the limits to be equal to each other."
   ]
  },
  {
   "cell_type": "code",
   "execution_count": null,
   "metadata": {
    "colab": {
     "base_uri": "https://localhost:8080/",
     "height": 312
    },
    "executionInfo": {
     "elapsed": 636,
     "status": "ok",
     "timestamp": 1599580498646,
     "user": {
      "displayName": "Katherine Dixon",
      "photoUrl": "",
      "userId": "15494218692838460261"
     },
     "user_tz": 300
    },
    "id": "bENqjFWpbgHB",
    "outputId": "101b357b-8d2a-4d29-f956-58bbc413197d"
   },
   "outputs": [],
   "source": [
    "input_values = x = np.linspace(0,10,20) # array of x values\n",
    "squares = x**2 # array of y values\n",
    "\n",
    "# set up our basic plot\n",
    "fig, ax = plt.subplots()\n",
    "ax.plot(input_values, squares,  'blue', linewidth = 3)\n",
    "\n",
    "# set up our axes and title\n",
    "ax.set_title(\"Square numbers\", fontsize = 24) # adds a title\n",
    "ax.set_xlabel(\"Value\", fontsize = 14) # adds x label\n",
    "ax.set_ylabel(\"Square of Value\", fontsize = 14) # adds y label\n",
    "\n",
    "ax.set(xlim=(0,20), ylim=(0, 200)) # manually setting our axis labels\n",
    "\n",
    "ax.tick_params(axis = \"both\", labelsize = 14) # increases font size for both axes\n",
    "\n",
    "plt.show()"
   ]
  },
  {
   "cell_type": "code",
   "execution_count": null,
   "metadata": {},
   "outputs": [],
   "source": [
    "input_values"
   ]
  },
  {
   "cell_type": "markdown",
   "metadata": {
    "id": "87CUAhZkWU78"
   },
   "source": [
    "## 3 Multiple lines on one plot\n",
    "\n",
    "Sometimes, you need to show multiple lines or points at once. We can do so by building on our `ax` variable with multiple plots.\n",
    "\n",
    "We create different y values for a set of x values by raising x to different polynomials. We then use `ax.plot` multiple times with the new y values and this time we include a `label`. This will allow us to use `ax.legend()` to put a legend on the plot, so we can tell which line is which."
   ]
  },
  {
   "cell_type": "code",
   "execution_count": null,
   "metadata": {
    "colab": {
     "base_uri": "https://localhost:8080/",
     "height": 308
    },
    "executionInfo": {
     "elapsed": 700,
     "status": "ok",
     "timestamp": 1599580623914,
     "user": {
      "displayName": "Katherine Dixon",
      "photoUrl": "",
      "userId": "15494218692838460261"
     },
     "user_tz": 300
    },
    "id": "xhGbhm8xWbqF",
    "outputId": "c929d6bc-e268-4384-d6e7-73e9c32c836f"
   },
   "outputs": [],
   "source": [
    "x = np.linspace(0,10,20)\n",
    "y1 = x**2 # x to the 2nd power\n",
    "y2 = x**3 # x to the 3rd power\n",
    "y3 = x**4 # x to the 4th power\n",
    "\n",
    "# set up our basic plot\n",
    "fig, ax = plt.subplots()\n",
    "ax.plot(x, y1,  'blue', linewidth = 3, label = \"squared\") # first line\n",
    "ax.plot(x, y2,  'red', linewidth = 3, label = \"cubed\") # second line\n",
    "ax.plot(x, y3,  'green', linewidth = 3, label = \"quartic\") # third line\n",
    "\n",
    "# set up our axes and title\n",
    "ax.set_title(\"Comparing polynomials\", fontsize = 20) # adds a title\n",
    "ax.set_xlabel(\"Value\", fontsize = 14) # adds x label\n",
    "ax.set_ylabel(\"Result\", fontsize = 14) # adds y label\n",
    "\n",
    "ax.tick_params(axis = \"both\", labelsize = 14) # increases font size for both axes\n",
    "ax.legend() # adding the legend\n",
    "\n",
    "plt.show()"
   ]
  },
  {
   "cell_type": "markdown",
   "metadata": {
    "id": "UHDqU08oK8HX"
   },
   "source": [
    "## 4 Coding check in\n",
    "\n",
    "Using `np.linspace`, make a list of x values called `x`. Using `np.sin(x)`, make a sine curve of those x values called `y`. Plot these values. Mess around with the color and linewidth to make it however you like, but make sure to add axis labels (with something that might follow a sine curve) and make them readable. \n",
    "\n",
    "*Advanced*: create a second set of of y values (`y2`) using `np.cos(x)` and then plot it on the same graph.\n"
   ]
  },
  {
   "cell_type": "code",
   "execution_count": null,
   "metadata": {
    "id": "DVj7e8VbdD3c"
   },
   "outputs": [],
   "source": [
    "### coding check in here\n",
    "\n",
    "# set your x and y values\n",
    "\n",
    "\n",
    "\n",
    "\n",
    "# set up the base for the plot\n",
    "\n",
    "\n",
    "\n",
    "\n",
    "\n",
    "# set axis labels, tick sizes and add the legend\n",
    "\n",
    "\n",
    "\n",
    "\n",
    "\n",
    "# show the plot\n",
    "\n",
    "\n",
    "\n",
    "\n",
    "\n"
   ]
  },
  {
   "cell_type": "markdown",
   "metadata": {
    "id": "cVci0AMh2HZ3"
   },
   "source": [
    "## 5 Multiple plots in one figure using `subplots`\n",
    "\n",
    "We've done our first informative plot! This is so great, but what if we want to show multiple plots at once? In our research, we commonly show multiple plots at once for different relationships of our regressors. First, we will begin by using `np.linspace` to create an array of values.  \n",
    "\n",
    "Using `subplots`, we set up three subplots in a row. We can then reference each subplot individually by indexing `ax`. \n",
    "\n",
    "The first subplot we will make with red circles, the second with green xs, and the third will be a blue diamond.\n",
    "\n",
    "The third plot will be a `scatter` plot, which makes it easy to plot just one point. Sometimes you'll want to highlight a data point, so this is how.\n",
    "\n",
    "We then set the axis labels and sizes individually for each of the plots."
   ]
  },
  {
   "cell_type": "code",
   "execution_count": null,
   "metadata": {
    "colab": {
     "base_uri": "https://localhost:8080/",
     "height": 288
    },
    "executionInfo": {
     "elapsed": 809,
     "status": "ok",
     "timestamp": 1599581497024,
     "user": {
      "displayName": "Katherine Dixon",
      "photoUrl": "",
      "userId": "15494218692838460261"
     },
     "user_tz": 300
    },
    "id": "Yef_6U8Sg2dj",
    "outputId": "d7b12998-57f0-4e7e-aef3-aa15e8193557"
   },
   "outputs": [],
   "source": [
    "x = np.linspace(0,10,20) \n",
    "y = x**3 # now we are cubing\n",
    "\n",
    "#plt.subplot(nrows,ncols,plot_number)\n",
    "\n",
    "fig, ax = plt.subplots(nrows=1,ncols=3) # setting up our three subplots\n",
    "\n",
    "ax[0].plot(x,y,'ro') # the first subplot\n",
    "ax[1].plot(y,x,'gx') # the second subplot\n",
    "ax[2].scatter(1,1,c = \"blue\", marker = \"D\") # the third subplot\n",
    "\n",
    "ax[0].set_xlabel('Plot 1', fontsize = 15) # xlabel for first subplot\n",
    "ax[1].set_xlabel('Plot 2', fontsize = 15)\n",
    "ax[2].set_xlabel('Plot 3', fontsize = 15)\n",
    "\n",
    "ax[0].tick_params(axis = \"both\", labelsize = 14) # increases font size for both axes\n",
    "ax[1].tick_params(axis = \"both\", labelsize = 14)  \n",
    "ax[2].tick_params(axis = \"both\", labelsize = 14) \n"
   ]
  },
  {
   "cell_type": "markdown",
   "metadata": {
    "id": "lT3Gx38DbeNO"
   },
   "source": [
    "### 5.1 Tight Layout and changing the figure size\n",
    "\n",
    "This figure looks pretty mushed together, so we will change the figure size when setting up the subplots, and we will use the command `tight_layout` to make sure the plots aren't overlapping"
   ]
  },
  {
   "cell_type": "code",
   "execution_count": null,
   "metadata": {
    "colab": {
     "base_uri": "https://localhost:8080/",
     "height": 225
    },
    "executionInfo": {
     "elapsed": 1004,
     "status": "ok",
     "timestamp": 1599581651108,
     "user": {
      "displayName": "Katherine Dixon",
      "photoUrl": "",
      "userId": "15494218692838460261"
     },
     "user_tz": 300
    },
    "id": "yWqALNaTcJkr",
    "outputId": "2c2c0f8f-d429-4916-c9c0-0bc3536e3ac6"
   },
   "outputs": [],
   "source": [
    "x = np.linspace(0,10,20) \n",
    "y = x**3 # now we are cubing\n",
    "\n",
    "#plt.subplot(nrows,ncols,figsize)\n",
    "\n",
    "fig, ax = plt.subplots(nrows=1,ncols=3, figsize = (15,3))\n",
    "\n",
    "ax[0].plot(x,y,'ro') # the first subplot\n",
    "ax[1].plot(y,x,'gx') # the second subplot\n",
    "ax[2].scatter(1,1,c = \"blue\", marker = \"D\") # the third subplot\n",
    "\n",
    "ax[0].set_xlabel('Plot 1', fontsize = 15)\n",
    "ax[1].set_xlabel('Plot 2', fontsize = 15)\n",
    "ax[2].set_xlabel('Plot 3', fontsize = 15)\n",
    "\n",
    "ax[0].tick_params(axis = \"both\", labelsize = 14) # increases font size for both axes\n",
    "ax[1].tick_params(axis = \"both\", labelsize = 14) # increases font size for both axes\n",
    "ax[2].tick_params(axis = \"both\", labelsize = 15) # increases font size for both axes\n",
    "\n",
    "plt.tight_layout()"
   ]
  },
  {
   "cell_type": "markdown",
   "metadata": {
    "id": "i2uw7TBUNrj8"
   },
   "source": [
    "## 6 Saving your figures\n",
    "\n",
    "Outputting your figures is very important to all aspects of science. We can use the function `savefig` with a file path to output our figure. \n",
    "\n",
    "**If you can't find your figure, check on your `savedir` from earlier in the lesson.**"
   ]
  },
  {
   "cell_type": "code",
   "execution_count": null,
   "metadata": {
    "colab": {
     "base_uri": "https://localhost:8080/",
     "height": 225
    },
    "executionInfo": {
     "elapsed": 1129,
     "status": "ok",
     "timestamp": 1599581710462,
     "user": {
      "displayName": "Katherine Dixon",
      "photoUrl": "",
      "userId": "15494218692838460261"
     },
     "user_tz": 300
    },
    "id": "zABppqlXNqjl",
    "outputId": "f6fd2d07-7a3b-4cfe-90a4-6fcc87fff6de"
   },
   "outputs": [],
   "source": [
    "x = np.linspace(0,10,20) \n",
    "y = x**3 # now we are cubing\n",
    "\n",
    "#plt.subplot(nrows,ncols,figsize)\n",
    "\n",
    "fig, ax = plt.subplots(nrows=1,ncols=3, figsize = (10,3))\n",
    "\n",
    "ax[0].plot(x,y,'ro') # the first subplot\n",
    "ax[1].plot(y,x,'gx') # the second subplot\n",
    "ax[2].scatter(1,1,c = \"blue\", marker = \"D\") # the third subplot\n",
    "\n",
    "ax[0].set_xlabel('Plot 1', fontsize = 15)\n",
    "ax[1].set_xlabel('Plot 2', fontsize = 15)\n",
    "ax[2].set_xlabel('Plot 3', fontsize = 15)\n",
    "\n",
    "ax[0].tick_params(axis = \"both\", labelsize = 14) # increases font size for both axes\n",
    "ax[1].tick_params(axis = \"both\", labelsize = 14) # increases font size for both axes\n",
    "ax[2].tick_params(axis = \"both\", labelsize = 15) # increases font size for both axes\n",
    "\n",
    "plt.tight_layout()\n",
    "\n",
    "plt.savefig(savedir+'looking_at_cubes.png') # saving our figure"
   ]
  },
  {
   "cell_type": "code",
   "execution_count": null,
   "metadata": {
    "colab": {
     "base_uri": "https://localhost:8080/",
     "height": 34
    },
    "executionInfo": {
     "elapsed": 894,
     "status": "ok",
     "timestamp": 1599581790444,
     "user": {
      "displayName": "Katherine Dixon",
      "photoUrl": "",
      "userId": "15494218692838460261"
     },
     "user_tz": 300
    },
    "id": "AqrEgSZqPFj9",
    "outputId": "abcdbc2e-adf6-4c2f-95a4-c7dcc2c0d3af"
   },
   "outputs": [],
   "source": [
    "print(savedir) # to check to see where the plot is printing"
   ]
  },
  {
   "cell_type": "markdown",
   "metadata": {
    "id": "zrdEyo_AgnOj"
   },
   "source": [
    "## 7 Coding check in \n",
    "\n",
    "Building off our sine and cosine plots from before, create a series of three subplots. On the first subplot, plot the sine function. On the second subplot, plot the cosine function. On the third sine plot, plot both the sine and cosine functions.\n",
    "\n",
    "Make sure to use `tight_layout` and `figsize` to make your plot look nice. If you have time, make sure to add correct legends to each plot."
   ]
  },
  {
   "cell_type": "code",
   "execution_count": null,
   "metadata": {
    "id": "7OB8NNELpofc"
   },
   "outputs": [],
   "source": [
    "### coding check in here\n",
    "\n",
    "# hint is to copy and paste the previous example and work off of that! It's a lot of typing!\n",
    "\n",
    "# generate your lines\n",
    "\n",
    "\n",
    "# create your empty figure\n",
    "\n",
    "\n",
    "\n",
    "# add your data to the plot\n",
    "\n",
    "\n",
    "\n",
    "# set your axis labels\n",
    "\n",
    "\n",
    "\n",
    "# plot your figure\n",
    "\n",
    "\n",
    "\n",
    "# save your figure\n",
    "\n"
   ]
  },
  {
   "cell_type": "markdown",
   "metadata": {
    "id": "4jkjaJcvaT0O"
   },
   "source": [
    "### 7.1 Coding check in answer"
   ]
  },
  {
   "cell_type": "code",
   "execution_count": null,
   "metadata": {
    "colab": {
     "base_uri": "https://localhost:8080/",
     "height": 225
    },
    "executionInfo": {
     "elapsed": 2222,
     "status": "ok",
     "timestamp": 1599582870899,
     "user": {
      "displayName": "Katherine Dixon",
      "photoUrl": "",
      "userId": "15494218692838460261"
     },
     "user_tz": 300
    },
    "id": "NmoU8aARVs-U",
    "outputId": "c731c3b3-209b-47aa-9346-2e833cb06f59"
   },
   "outputs": [],
   "source": [
    "x = np.linspace(0,20,60)\n",
    "y1 = np.sin(x)\n",
    "y2 = np.cos(x)\n",
    "\n",
    "fig, ax = plt.subplots(nrows = 1, ncols = 3, figsize = (10,3))\n",
    "\n",
    "ax[0].plot(x,y1, 'red', linewidth = 3, label = \"sine\") # plotting sin curve on first plot\n",
    "ax[1].plot(x,y2, 'blue', linewidth = 3, label = \"cosine\") # plotting cos curve on second plot\n",
    "\n",
    "ax[2].plot(x,y1, 'red', linewidth = 3, label = \"sine\") # sin curve on third plot\n",
    "ax[2].plot(x,y2, 'blue', linewidth = 3, label = \"cosine\") # cos curve on third plot\n",
    "\n",
    "\n",
    "ax[0].set_xlabel(\"X\", fontsize = 15)\n",
    "ax[0].set_ylabel(\"Y\", fontsize = 15)\n",
    "\n",
    "ax[1].set_xlabel(\"X\", fontsize = 15)\n",
    "ax[1].set_ylabel(\"Y\", fontsize = 15)\n",
    "\n",
    "ax[2].set_xlabel(\"X\", fontsize = 15)\n",
    "ax[2].set_ylabel(\"Y\", fontsize = 15)\n",
    "\n",
    "\n",
    "ax[0].legend(loc = \"upper right\")\n",
    "ax[1].legend()\n",
    "ax[2].legend()\n",
    "\n",
    "plt.tight_layout()\n",
    "\n",
    "plt.savefig(data_out_directory+'sin_and_cos.png') "
   ]
  },
  {
   "cell_type": "markdown",
   "metadata": {
    "id": "HaIQcta2NcW4"
   },
   "source": [
    "## 8 Histograms\n",
    "\n",
    "Histograms are great for when you're trying to look at the distribution of your data. This could be important for what type of statistical test you want to do and it helps you identify outliers in your data.\n",
    "\n",
    "Here, we can generate two sets of a thousand random numbers from a normal distribution using our mean `mu` and standard deviation `sigma`. We will use two different means to compare the distributions. We then set the number of bins we want for our histogram and then call up our figure using `subplots`. \n",
    "\n",
    "On the same graph, we will plot our two distributions. We can adjust the transparency by setting `alpha` to be some value less than 1, greater than 0.\n",
    "\n",
    "We can also set our title to include the values for `mu` in our legend using an `f string`\n",
    "**Your graph will look different than the example!**"
   ]
  },
  {
   "cell_type": "code",
   "execution_count": null,
   "metadata": {
    "colab": {
     "base_uri": "https://localhost:8080/",
     "height": 283
    },
    "executionInfo": {
     "elapsed": 916,
     "status": "ok",
     "timestamp": 1625169183787,
     "user": {
      "displayName": "Jess Senger",
      "photoUrl": "",
      "userId": "08376289370634799181"
     },
     "user_tz": 300
    },
    "id": "woztXofGg2QJ",
    "outputId": "8eefcae6-4917-4e30-ea51-f9032c9b5c9c"
   },
   "outputs": [],
   "source": [
    "mu1, sigma = 0, 0.5 # mean and standard deviation using multiple assignment\n",
    "mu2, sigma = 1, 0.5 # \n",
    "\n",
    "\n",
    "sample_data_1 = np.random.normal(mu1, sigma, 1000) # generating sample data from normal dist\n",
    "sample_data_2 = np.random.normal(mu2, sigma, 1000) \n",
    "\n",
    "num_bins = 100 # setting the number of bins for our histogram\n",
    "\n",
    "fig, ax = plt.subplots()\n",
    "ax.hist(sample_data_1, num_bins, density = True, color = \"pink\", label = f\"mu = {mu1}\", alpha = 0.5) \n",
    "ax.hist(sample_data_2, num_bins, density = True, color = \"blue\", label = f\"mu = {mu2}\", alpha = 0.5) \n",
    "\n",
    "ax.set_xlabel('Value')\n",
    "ax.set_ylabel('Number of occurances')\n",
    "ax.legend()\n",
    "\n",
    "plt.show()"
   ]
  },
  {
   "cell_type": "markdown",
   "metadata": {
    "id": "XmuMsq1DHVw2"
   },
   "source": [
    "## 9 Colors and sizes in scatterplot\n",
    "\n",
    "We can also manipulate the colors and sizes in scatterplots. We will draw random values from a uniform distribution between 0 and 1 using `np.random.rand()` for x and y. We will also draw random values between 0 and 15 for the sizes of the points. \n",
    "\n",
    "For fun, we will color the points based on their y value, so as the points are laid out on the y axis, they will be colored. \n",
    "\n",
    "We are also using `alpha = 0.5` here, which controls the opacity of the points, and can be between 0 and 1. This allows us to see the overlapping points. We can adjust this as well, where lower numbers are more faint and higher numbers are darker."
   ]
  },
  {
   "cell_type": "code",
   "execution_count": null,
   "metadata": {
    "colab": {
     "base_uri": "https://localhost:8080/",
     "height": 265
    },
    "executionInfo": {
     "elapsed": 664,
     "status": "ok",
     "timestamp": 1599583704526,
     "user": {
      "displayName": "Katherine Dixon",
      "photoUrl": "",
      "userId": "15494218692838460261"
     },
     "user_tz": 300
    },
    "id": "_xvRtl-OG0KU",
    "outputId": "b303067a-3e8a-49fe-d4eb-b3a6b029dff1"
   },
   "outputs": [],
   "source": [
    "# Fixing random state for reproducibility\n",
    "# your plot will then look exactly like mine\n",
    "np.random.seed(10)\n",
    "\n",
    "N = 50\n",
    "x = np.random.rand(N)\n",
    "y = np.random.rand(N)\n",
    "area = (30 * np.random.rand(N))**2  # 0 to 15 point radii for the areas\n",
    "\n",
    "plt.scatter(x, y, s = area, c = x, alpha = 0.5) # c is what it will be colored by, s is for the shape\n",
    "plt.colorbar() # adding colorbar to our plots\n",
    "\n",
    "plt.show()\n"
   ]
  },
  {
   "cell_type": "markdown",
   "metadata": {
    "id": "wf8g2SAXMl9K"
   },
   "source": [
    "## 10 Coding check in\n",
    "\n",
    "First, create two arrays of 1000 random values, the x array from a `lognormal` distribution, and y from a `normal` distribution. Here are the setups for those two functions from the `numpy` package.\n",
    "\n",
    "`np.random.lognormal(mean,sigma,size)`\n",
    "\n",
    "`np.random.normal(loc,scale,size)`\n",
    "\n",
    "Next, create four subplots in a two by two setup. Set the top two to be scatterplots of `x` and `y` and vice-versa. The bottom two will be one histrogram of x and one histogram of y.\n",
    "\n",
    "Color all of the values by their position on y and and correctly label all the axis. \n"
   ]
  },
  {
   "cell_type": "code",
   "execution_count": null,
   "metadata": {
    "id": "9GME0pbe12zd"
   },
   "outputs": [],
   "source": [
    "### Space for coding check in code\n",
    "\n",
    "# set x and y values\n",
    "\n",
    "\n",
    "\n",
    "# set up your four subplots\n",
    "\n",
    "\n",
    "\n",
    "\n",
    "\n",
    "# build on your four subplots\n",
    "\n",
    "ax[0,0] # top left plot\n",
    "ax[0,1] # top right plot\n",
    "ax[1,0] # bottom left plot\n",
    "ax[1,1] # bottom right plot\n",
    "\n",
    "\n",
    "\n",
    "\n",
    "# set your x labels\n",
    "\n",
    "\n",
    "\n",
    "\n",
    "\n",
    "# show your plot\n",
    "\n",
    "\n",
    "\n"
   ]
  },
  {
   "cell_type": "markdown",
   "metadata": {
    "id": "SZsqeAoyJPfS"
   },
   "source": [
    "### 10.1 Coding check in answer "
   ]
  },
  {
   "cell_type": "code",
   "execution_count": null,
   "metadata": {
    "colab": {
     "base_uri": "https://localhost:8080/",
     "height": 297
    },
    "executionInfo": {
     "elapsed": 1417,
     "status": "ok",
     "timestamp": 1599584656739,
     "user": {
      "displayName": "Katherine Dixon",
      "photoUrl": "",
      "userId": "15494218692838460261"
     },
     "user_tz": 300
    },
    "id": "DfgpATCcNDdp",
    "outputId": "c89be841-c1f8-4c0f-cfc1-927de658a798"
   },
   "outputs": [],
   "source": [
    "np.random.seed(2)\n",
    "\n",
    "N = 1000\n",
    "\n",
    "x = np.random.lognormal(mean = 1, sigma = 0.5, size = N)\n",
    "y = np.random.normal(loc = 1, scale = 5, size = N)\n",
    "colors = np.random.rand(N)\n",
    "\n",
    "fig, ax = plt.subplots(nrows=2,ncols=2)\n",
    "\n",
    "ax[0,0].scatter(x,y, c = colors, alpha = 0.8)\n",
    "ax[0,1].scatter(y,x, c = colors, alpha = 0.8)\n",
    "\n",
    "ax[1,0].hist(x, 30, color = \"blue\", density=True)\n",
    "ax[1,1].hist(y, 30, color = \"pink\", density=True)\n",
    "\n",
    "\n",
    "ax[0,0].set_xlabel('Lognormal')\n",
    "ax[0,0].set_ylabel('Normal')\n",
    "\n",
    "ax[0,1].set_xlabel('Normal')\n",
    "ax[0,1].set_ylabel('Lognormal')\n",
    "\n",
    "ax[1,0].set_xlabel('Lognormal')\n",
    "ax[1,1].set_xlabel('Normal')\n",
    "\n",
    "plt.tight_layout()\n"
   ]
  },
  {
   "cell_type": "markdown",
   "metadata": {},
   "source": [
    "## Practicing our data analysis skills"
   ]
  },
  {
   "cell_type": "code",
   "execution_count": null,
   "metadata": {},
   "outputs": [],
   "source": [
    "loaddir = '../data/' #Make sure the paths end in '/'\n",
    "filenames = ['juno_june21.txt','austin_june21.txt','seattle_june21.txt', 'philadelphia_june21.txt']\n",
    "\n",
    "juno_data = np.genfromtxt(loaddir+filenames[0])\n",
    "austin_data = np.genfromtxt(loaddir+filenames[1])\n",
    "seattle_data = np.genfromtxt(loaddir+filenames[2])\n",
    "philadelphia_data = np.genfromtxt(loaddir+filenames[3])"
   ]
  },
  {
   "cell_type": "code",
   "execution_count": null,
   "metadata": {},
   "outputs": [],
   "source": [
    "print(juno_data)\n"
   ]
  },
  {
   "cell_type": "markdown",
   "metadata": {},
   "source": [
    "List of available colors is [located here](https://matplotlib.org/stable/gallery/color/named_colors.html)\n",
    " \n",
    "\n",
    "\n"
   ]
  },
  {
   "cell_type": "code",
   "execution_count": null,
   "metadata": {},
   "outputs": [],
   "source": [
    "x = np.arange(1,31)\n",
    "\n",
    "lines = [juno_data[:,0],austin_data[:,0],\n",
    "         philadelphia_data[:,0], seattle_data[:,0]]\n",
    "colors  = ['mediumorchid','seagreen','slateblue','navy']\n",
    "labels  = ['Juno','Austin','Philadelphia','Seattle']\n",
    "\n",
    "for i,c,l in zip(lines,colors,labels):  \n",
    "    plt.plot(x,i,c,label='l')\n",
    "    plt.legend(labels)  \n",
    "    \n",
    "plt.title(\"June 2021 Maximum Temperatures\")    \n",
    "plt.show()"
   ]
  },
  {
   "cell_type": "code",
   "execution_count": null,
   "metadata": {},
   "outputs": [],
   "source": [
    "weather_dat = np.array([juno_data,seattle_data,philadelphia_data,austin_data])"
   ]
  },
  {
   "cell_type": "code",
   "execution_count": null,
   "metadata": {},
   "outputs": [],
   "source": [
    "states_list = [\"Juno\",'Seattle','Philadelphia','Austin']"
   ]
  },
  {
   "cell_type": "code",
   "execution_count": null,
   "metadata": {},
   "outputs": [],
   "source": [
    "weather_dat.shape"
   ]
  },
  {
   "cell_type": "code",
   "execution_count": null,
   "metadata": {},
   "outputs": [],
   "source": [
    "weather_dat[3,:,2]"
   ]
  },
  {
   "cell_type": "code",
   "execution_count": null,
   "metadata": {},
   "outputs": [],
   "source": [
    "x = np.arange(1,31)\n",
    "\n",
    "fig, ax = plt.subplots(nrows = 1, ncols = 4, figsize = (12,4),sharex=True, sharey=True,)\n",
    "\n",
    "for j in range(0,len(states_list)):\n",
    "    lines = [weather_dat[j,:,0],weather_dat[j,:,1],\n",
    "             weather_dat[j,:,2]]\n",
    "    colors  = ['red','black','blue']\n",
    "    labels  = ['High','Avg','Low']\n",
    "\n",
    "    for i,c,l in zip(lines,colors,labels):  \n",
    "        ax[j].plot(x,i,c,label='l')\n",
    "        ax[j].legend(labels)\n",
    "        \n",
    "        ax[j].set_title(states_list[j])\n",
    "    \n",
    "fig.text(0.5, 0.00, 'June (day)', ha='center')\n",
    "fig.text(0.00, 0.5, 'Temperature (F)', va='center', rotation='vertical')\n",
    "\n",
    "plt.tight_layout()\n",
    "\n",
    "plt.savefig(data_out_directory+'june21_weather.png') "
   ]
  },
  {
   "cell_type": "code",
   "execution_count": null,
   "metadata": {},
   "outputs": [],
   "source": [
    "np.random.seed(19680801)\n",
    "med_temps = [weather_dat[0,:,1],weather_dat[1,:,1],\n",
    "             weather_dat[2,:,1],weather_dat[3,:,1]]\n",
    "states_list = [\"Juno\",'Seattle','Philadelphia','Austin']"
   ]
  },
  {
   "cell_type": "code",
   "execution_count": null,
   "metadata": {},
   "outputs": [],
   "source": [
    "all_data = [np.random.normal(0, std, size=100) for std in range(1, 4)]\n",
    "labels = ['x1', 'x2', 'x3']"
   ]
  },
  {
   "cell_type": "code",
   "execution_count": null,
   "metadata": {},
   "outputs": [],
   "source": [
    "med_temps"
   ]
  },
  {
   "cell_type": "code",
   "execution_count": null,
   "metadata": {},
   "outputs": [],
   "source": [
    "fig, ax1 = plt.subplots()\n",
    "\n",
    "# rectangular box plot\n",
    "bplot1 = ax1.boxplot(med_temps,\n",
    "                     vert=True,  # vertical box alignment\n",
    "                     patch_artist=True,  # fill with color\n",
    "                     labels=states_list)  # will be used to label x-ticks\n",
    "\n",
    "colors = ['pink', 'lightblue', 'lightgreen','orange']\n",
    "for patch, color in zip(bplot1['boxes'], colors):\n",
    "    patch.set_facecolor(color)\n",
    "\n",
    "plt.show()"
   ]
  },
  {
   "cell_type": "markdown",
   "metadata": {
    "id": "lQQEW1WZJUZX"
   },
   "source": [
    "## 11 Plotting using a function\n",
    "\n",
    "Very often in science we have to create a lot of plots, we might want to give different inputs, change datasets, or change features about the plot. It could be very helpful to create a function that outputs a plot, which is one of the examples of a plot that doesn't return anything, but prints a plot either in your notebook or as a file.\n"
   ]
  },
  {
   "cell_type": "code",
   "execution_count": null,
   "metadata": {
    "id": "ZvnDUJr4KnY6"
   },
   "outputs": [],
   "source": [
    "# creating a plot that plots a polynomial of our choosing\n",
    "\n",
    "def plot_polynomial(value, color_val): \n",
    "\n",
    "    x = np.linspace(0,10,20)\n",
    "    y = x**value # use the arguement for our function to create y\n",
    "\n",
    "\n",
    "    # set up our basic plot\n",
    "    fig, ax = plt.subplots()\n",
    "    ax.plot(x, y,  color_val, linewidth = 3)\n",
    "\n",
    "    # set up our axes and title\n",
    "    ax.set_title(f\"Polynomial = {value}\", fontsize = 24) # adds a title\n",
    "    ax.set_xlabel(\"Value\", fontsize = 14) # adds x label\n",
    "    ax.set_ylabel(\"Result\", fontsize = 14) # adds y label\n",
    "\n",
    "    ax.tick_params(axis = \"both\", labelsize = 14) # increases font size for both axes\n",
    "\n",
    "    plt.show()"
   ]
  },
  {
   "cell_type": "code",
   "execution_count": null,
   "metadata": {
    "colab": {
     "base_uri": "https://localhost:8080/",
     "height": 312
    },
    "executionInfo": {
     "elapsed": 906,
     "status": "ok",
     "timestamp": 1599585108047,
     "user": {
      "displayName": "Katherine Dixon",
      "photoUrl": "",
      "userId": "15494218692838460261"
     },
     "user_tz": 300
    },
    "id": "QMmgE7NiLGWS",
    "outputId": "aff2ca48-4a84-40d2-e248-87d07cc49ca5"
   },
   "outputs": [],
   "source": [
    "plot_polynomial(value = 3, color_val = \"red\")"
   ]
  },
  {
   "cell_type": "code",
   "execution_count": null,
   "metadata": {
    "colab": {
     "base_uri": "https://localhost:8080/",
     "height": 312
    },
    "executionInfo": {
     "elapsed": 826,
     "status": "ok",
     "timestamp": 1599585138666,
     "user": {
      "displayName": "Katherine Dixon",
      "photoUrl": "",
      "userId": "15494218692838460261"
     },
     "user_tz": 300
    },
    "id": "RT9Au-v6n_QE",
    "outputId": "748c53f9-7739-4e45-bd14-6fad6b4ac1ce"
   },
   "outputs": [],
   "source": [
    "plot_polynomial(0.5, color_val=\"red\")"
   ]
  },
  {
   "cell_type": "markdown",
   "metadata": {
    "id": "ll9D39QeJ5i4"
   },
   "source": [
    "## 12 Lotka Volterra plotting function (real life example) \n",
    "\n",
    "Now I'll show you a real world example of a function to plot that an Ecologist would use. \n",
    "\n",
    "I will be showing you how to plot the output of a classic set of equations showing a predator prey relationship. You may have learned about the Lynx-Hare population cycles in your high school biology class. Essentially, the Lynx will eat the Hare, the Hare's population will decrease and the Lynx population will suffer because there isn't as much food. Then the Hare will rebound because the predators have decreased, and then the Lynx will rebound as well. It's a little more complicated than this, but this is just the basics.\n",
    "\n",
    "This results in a population cycle, where the population size in each year depends on the year before and the Lynx and Hare are intertwined. The discrete equations for the prey (V) and predator (P) are known as the **Lotka Volterra** equations. $V_{t}$ is the time step the year after $V_{t-1}$.\n",
    "\n",
    "$$V_{t} = r V_{t-1}(1 + R - \\frac{R V_{t-1}}{K}) - aV_{t-1} P_{t-1}$$\n",
    "$$ P_{t} = P_{t-1} (1 - d + b V_{t-1}) $$\n",
    "\n",
    "The details of which aren't that important to us right now, but you can read more about them [here](https://en.wikipedia.org/wiki/Lotka%E2%80%93Volterra_equations).\n",
    "\n",
    "* K is the carrying capacity\n",
    "* r is the growth rate of the prety\n",
    "* a is the attack rate of the predators\n",
    "* d is the death rate of the predators\n",
    "\n",
    "Inside the function, we have a lot of components. \n",
    "\n",
    "* Creating an empty array of zeros for as long as we want to simulate (`MaxTime`)\n",
    "* Initializing our prey (V) and predator (P) populations with `Init_V` and `Init_P`\n",
    "* for loop that starts at time 2 and goes through `MaxTime` and simulates the predator and prey populations using the parameters\n",
    "* plot the populations and then format the plot"
   ]
  },
  {
   "cell_type": "code",
   "execution_count": null,
   "metadata": {
    "executionInfo": {
     "elapsed": 180,
     "status": "ok",
     "timestamp": 1625758501997,
     "user": {
      "displayName": "Jess Senger",
      "photoUrl": "",
      "userId": "08376289370634799181"
     },
     "user_tz": 300
    },
    "id": "BKsovkx8JXOi"
   },
   "outputs": [],
   "source": [
    "def plot_lotka_volterra(Init_V, Init_P, R, K, a, b, d, MaxTime):\n",
    "\n",
    "    V_T = [0]*MaxTime # initialize a list that is MaxTime elements long of zeros\n",
    "    P_T = [0]*MaxTime \n",
    "\n",
    "    V_T[0] = Init_V # setting the first value to the initial conditions\n",
    "    P_T[0] = Init_P\n",
    "\n",
    "    for i in range(1,MaxTime,1): \n",
    "    V_T[i] =  V_T[i-1] * (1 + R - (R*V_T[i-1]/K)) - a*V_T[i-1]*P_T[i-1] # prey equation\n",
    "    P_T[i] = P_T[i-1]*(1 - d + b*V_T[i-1]) # predator equation\n",
    "\n",
    "    fig, ax = plt.subplots()\n",
    "    ax.plot(V_T, label = \"Prey\")\n",
    "    ax.plot(P_T, label = \"Predator\")\n",
    "    ax.set_xlabel(\"Time\", fontsize = 15)\n",
    "    ax.set_ylabel(\"Population size\", fontsize = 15)\n",
    "    ax.legend()\n",
    "\n",
    "    plt.show()"
   ]
  },
  {
   "cell_type": "markdown",
   "metadata": {
    "id": "Oxp3mzIT1SIC"
   },
   "source": [
    "Now, we will create a dictionary with the parameters for our function, which include the initial conditions and the parameters."
   ]
  },
  {
   "cell_type": "code",
   "execution_count": null,
   "metadata": {
    "colab": {
     "base_uri": "https://localhost:8080/",
     "height": 284
    },
    "executionInfo": {
     "elapsed": 821,
     "status": "ok",
     "timestamp": 1599585502388,
     "user": {
      "displayName": "Katherine Dixon",
      "photoUrl": "",
      "userId": "15494218692838460261"
     },
     "user_tz": 300
    },
    "id": "fzWpgeO5VU9y",
    "outputId": "9347a7bd-aaa5-44ca-e55a-9e74efe41659"
   },
   "outputs": [],
   "source": [
    "params_set1 = {\"Init_V\": 1, \"Init_P\": 2, \"R\":0.1, \"K\":100, \"a\":0.1, \"b\":0.1, \"d\" :0.1, \"MaxTime\": 200}\n",
    "\n",
    "plot_lotka_volterra(**params_set1)\n"
   ]
  },
  {
   "cell_type": "code",
   "execution_count": null,
   "metadata": {
    "colab": {
     "base_uri": "https://localhost:8080/",
     "height": 288
    },
    "executionInfo": {
     "elapsed": 821,
     "status": "ok",
     "timestamp": 1599585566229,
     "user": {
      "displayName": "Katherine Dixon",
      "photoUrl": "",
      "userId": "15494218692838460261"
     },
     "user_tz": 300
    },
    "id": "n1BN5CxIWrIl",
    "outputId": "9cae1534-beea-4fa4-aabf-66d797072b50"
   },
   "outputs": [],
   "source": [
    "# we can then test different parameter sets to see our output\n",
    "# try changing some values in the dictionary\n",
    "# as long as they are positive, it should give a reasonable outcome (there are some other limitations)\n",
    "\n",
    "params_set2 = {\"Init_V\": 1, \"Init_P\": 1, \"R\":0.1, \"K\":100, \"a\":0.3, \"b\":0.2, \"d\" :0.1, \"MaxTime\": 200}\n",
    "plot_lotka_volterra(**params_set2)\n"
   ]
  },
  {
   "cell_type": "markdown",
   "metadata": {
    "id": "kQKmU0BsZlKj"
   },
   "source": [
    "## 13 Extra coding check in\n",
    "\n",
    "The most basic set of differential euqations used by disease ecologists (aka Katie) are SIR (susceptible, infected, recovered) equations. Most of the population starts out susceptible to infection, and can move to the infected class by interacting with an infected person. The infected class then recovers at some rate, and moves to the recovered class. In this case, there is no disease or population mortality. \n",
    "\n",
    "The discrete set of equations are as follows, where $\\beta$ is the transmission rate, and $\\gamma$ is the recovery rate:\n",
    "\n",
    "$$S_{t} = S_{t-1} - \\beta S_{t-1} I_{t-1}$$\n",
    "$$I_{t} = I_{t-1} + \\beta S_{t-1} I_{t-1} - \\gamma I_{t-1}$$\n",
    "$$I_{t} = R_{t-1} + \\gamma I_{t-1}$$\n",
    "\n",
    "In a simliar fashion to the Lotka-Volterra function above, simulate an epidemicusing the SIR equations and then plot the output of that function. I will write down the equations for you to get you started, since this is the first way to run into trouble. \n",
    "\n",
    "Initial conditions:\n",
    "* S_init = 0.99\n",
    "* I_init = 0.01\n",
    "* R_init = 0\n",
    "\n",
    "Parameters:\n",
    "* beta = 0.5\n",
    "* gamma = 0.2\n",
    "* MaxTime = 100\n",
    "\n",
    "*Advanced*: Try it out by writing the equations by yourself\n"
   ]
  },
  {
   "cell_type": "code",
   "execution_count": null,
   "metadata": {
    "id": "q1eBt7QQ0bp9"
   },
   "outputs": [],
   "source": [
    "### This is where you can write your answer to the check in\n",
    "\n",
    "\n",
    "\n",
    "\n",
    "\n",
    "\n",
    "\n",
    "\n",
    "\n",
    "\n",
    "\n",
    "\n",
    "\n",
    "\n"
   ]
  },
  {
   "cell_type": "markdown",
   "metadata": {
    "id": "mg8NlMan0kGl"
   },
   "source": [
    "### 13.1 Check in equations\n"
   ]
  },
  {
   "cell_type": "code",
   "execution_count": null,
   "metadata": {
    "id": "TX3-6HTW0oHk"
   },
   "outputs": [],
   "source": [
    "for i in range(1,MaxTime,1): \n",
    "    S[i] = S[i-1] - beta*S[i-1]*I[i-1] # susceptible equation\n",
    "    I[i] = I[i-1] + beta*S[i-1]*I[i-1] - gamma*I[i-1] # infected equation\n",
    "    R[i] = R[i-1] + gamma*I[i-1]"
   ]
  },
  {
   "cell_type": "markdown",
   "metadata": {
    "id": "Vizgtnid0utH"
   },
   "source": [
    "### 13.2 Check in answer"
   ]
  },
  {
   "cell_type": "code",
   "execution_count": null,
   "metadata": {
    "executionInfo": {
     "elapsed": 82,
     "status": "ok",
     "timestamp": 1625758585808,
     "user": {
      "displayName": "Jess Senger",
      "photoUrl": "",
      "userId": "08376289370634799181"
     },
     "user_tz": 300
    },
    "id": "OmDK1TedZoPp"
   },
   "outputs": [],
   "source": [
    "def plot_SIR(Init_S, Init_I, Init_R, beta, gamma, MaxTime):\n",
    "\n",
    "    S = [0]*MaxTime # initialize a vector that is 200 elements long of zeros\n",
    "    I = [0]*MaxTime\n",
    "    R = [0]*MaxTime\n",
    "\n",
    "    S[0] = Init_S # setting the first value to the initial conditions\n",
    "    I[0] = Init_I\n",
    "    R[0] = Init_R\n",
    "\n",
    "    for i in range(1,MaxTime,1): \n",
    "        S[i] = S[i-1] - beta*S[i-1]*I[i-1] # susceptible equation\n",
    "        I[i] = I[i-1] + beta*S[i-1]*I[i-1] - gamma*I[i-1] # infected equation\n",
    "        R[i] = R[i-1] + gamma*I[i-1]\n",
    "\n",
    "    fig, ax = plt.subplots()\n",
    "    ax.plot(S, label = \"Susceptible\")\n",
    "    ax.plot(I, label = \"Infected\")\n",
    "    ax.plot(R, label = \"Recovered\")\n",
    "\n",
    "    ax.set_xlabel(\"Time\", fontsize = 15)\n",
    "    ax.set_ylabel(\"Proportion of population\", fontsize = 15)\n",
    "    ax.legend()\n",
    "\n",
    "    plt.show()"
   ]
  },
  {
   "cell_type": "code",
   "execution_count": null,
   "metadata": {
    "colab": {
     "base_uri": "https://localhost:8080/",
     "height": 284
    },
    "executionInfo": {
     "elapsed": 190,
     "status": "ok",
     "timestamp": 1625758588815,
     "user": {
      "displayName": "Jess Senger",
      "photoUrl": "",
      "userId": "08376289370634799181"
     },
     "user_tz": 300
    },
    "id": "kXxHcxykbkGm",
    "outputId": "9474d777-4055-4afb-cc09-4e80364d0b13"
   },
   "outputs": [],
   "source": [
    "\n",
    "params_set1 = {\"Init_S\": 0.99, \"Init_I\": 0.01, \"Init_R\":0, \"beta\":0.8, \"gamma\":0.1, \"MaxTime\":100}\n",
    "plot_SIR(**params_set1)"
   ]
  },
  {
   "cell_type": "markdown",
   "metadata": {
    "id": "Fd8vOXg83AxI"
   },
   "source": [
    "## Appendix 1: Resources- things that are not Matplotlib\n",
    "\n",
    "There are lots of other types of plots you can do in `Matplotlib`, here is a [sample](https://matplotlib.org/3.3.1/tutorials/introductory/sample_plots.html#sphx-glr-tutorials-introductory-sample-plots-py) of other options for you to look at. "
   ]
  },
  {
   "cell_type": "markdown",
   "metadata": {
    "id": "eQB9drVn4zct"
   },
   "source": [
    "## Altair for cool, fancy plots\n",
    "\n",
    "One of the other common plotting packages is `Altair`. We can import simple datasets from `vega_datasets`, just to get an idea of what is possible. Later in the course, we will be going over more complex plotting with `pandas` dataframes."
   ]
  },
  {
   "cell_type": "code",
   "execution_count": null,
   "metadata": {
    "id": "SQC5Ycg5q150"
   },
   "outputs": [],
   "source": [
    "pip install vega_datasets"
   ]
  },
  {
   "cell_type": "code",
   "execution_count": null,
   "metadata": {
    "id": "zNoNMJqKqe6s"
   },
   "outputs": [],
   "source": [
    "pip install altair vega_datasets"
   ]
  },
  {
   "cell_type": "code",
   "execution_count": null,
   "metadata": {
    "id": "mJM0zNNY4Ar4"
   },
   "outputs": [],
   "source": [
    "from vega_datasets import data as vgd\n",
    "import altair as alt"
   ]
  },
  {
   "cell_type": "markdown",
   "metadata": {
    "id": "m22-WnBZpG1Y"
   },
   "source": [
    "This is an example that takes stock information from `vega_datasets` and plots it on a simple interactive plot."
   ]
  },
  {
   "cell_type": "code",
   "execution_count": null,
   "metadata": {
    "colab": {
     "base_uri": "https://localhost:8080/",
     "height": 368
    },
    "executionInfo": {
     "elapsed": 221,
     "status": "ok",
     "timestamp": 1625169844201,
     "user": {
      "displayName": "Jess Senger",
      "photoUrl": "",
      "userId": "08376289370634799181"
     },
     "user_tz": 300
    },
    "id": "aE5m4OtiQAyb",
    "outputId": "8be9c214-39ef-4e1a-a2d5-cd0f98a19785"
   },
   "outputs": [],
   "source": [
    "stocks = vgd.stocks()\n",
    "### Time series plot\n",
    "alt.Chart(stocks).mark_line().encode(\n",
    "    x = 'date:T',   # :T encodes this as a 'temporal' data. :N == discrete unordered, :Q == continous, :O == discrete ordered !!! Encodings affect plot aesthetics !!!\n",
    "    y = 'price',\n",
    "    color = 'symbol'\n",
    ").interactive()"
   ]
  },
  {
   "cell_type": "markdown",
   "metadata": {
    "id": "tymip7g-pNUY"
   },
   "source": [
    "Here's an example of plotting seattle weather data."
   ]
  },
  {
   "cell_type": "code",
   "execution_count": null,
   "metadata": {
    "colab": {
     "base_uri": "https://localhost:8080/",
     "height": 541
    },
    "executionInfo": {
     "elapsed": 397,
     "status": "ok",
     "timestamp": 1625169849516,
     "user": {
      "displayName": "Jess Senger",
      "photoUrl": "",
      "userId": "08376289370634799181"
     },
     "user_tz": 300
    },
    "id": "jFrGlApB65z1",
    "outputId": "c0fe6865-52f9-4b13-ff19-02a914e81c52"
   },
   "outputs": [],
   "source": [
    "### complicated example ###\n",
    "source = vgd.seattle_weather()\n",
    "\n",
    "scale = alt.Scale(domain=['sun', 'fog', 'drizzle', 'rain', 'snow'],\n",
    "                  range=['#e7ba52', '#a7a7a7', '#aec7e8', '#1f77b4', '#9467bd'])\n",
    "color = alt.Color('weather:N', scale=scale)\n",
    "\n",
    "# We create two selections:\n",
    "# - a brush that is active on the top panel\n",
    "# - a multi-click that is active on the bottom panel\n",
    "brush = alt.selection_interval(encodings=['x'])\n",
    "click = alt.selection_multi(encodings=['color'])\n",
    "\n",
    "# Top panel is scatter plot of temperature vs time\n",
    "points = alt.Chart().mark_point().encode(\n",
    "    alt.X('monthdate(date):T', title='Date'),\n",
    "    alt.Y('temp_max:Q',\n",
    "        title='Maximum Daily Temperature (C)',\n",
    "        scale=alt.Scale(domain=[-5, 40])\n",
    "    ),\n",
    "    color=alt.condition(brush, color, alt.value('lightgray')),\n",
    "    size=alt.Size('precipitation:Q', scale=alt.Scale(range=[5, 200]))\n",
    ").properties(\n",
    "    width=550,\n",
    "    height=300\n",
    ").add_selection(\n",
    "    brush\n",
    ").transform_filter(\n",
    "    click\n",
    ").interactive()\n",
    "\n",
    "# Bottom panel is a bar chart of weather type\n",
    "bars = alt.Chart().mark_bar().encode(\n",
    "    x='count()',\n",
    "    y='weather:N',\n",
    "    color=alt.condition(click, color, alt.value('lightgray')),\n",
    ").transform_filter(\n",
    "    brush\n",
    ").properties(\n",
    "    width=550,\n",
    ").add_selection(\n",
    "    click\n",
    ")\n",
    "\n",
    "alt.vconcat(\n",
    "    points,\n",
    "    bars,\n",
    "    data=source,\n",
    "    title=\"Seattle Weather: 2012-2015\"\n",
    ")"
   ]
  },
  {
   "cell_type": "code",
   "execution_count": null,
   "metadata": {
    "colab": {
     "base_uri": "https://localhost:8080/",
     "height": 419
    },
    "executionInfo": {
     "elapsed": 109,
     "status": "ok",
     "timestamp": 1625169853878,
     "user": {
      "displayName": "Jess Senger",
      "photoUrl": "",
      "userId": "08376289370634799181"
     },
     "user_tz": 300
    },
    "id": "IjjulUtNQbGS",
    "outputId": "a2bc3bab-5dd3-4665-c145-7897590f92c6"
   },
   "outputs": [],
   "source": [
    "stocks"
   ]
  },
  {
   "cell_type": "markdown",
   "metadata": {},
   "source": [
    "# Answers to the coding check ins"
   ]
  },
  {
   "cell_type": "markdown",
   "metadata": {},
   "source": [
    "### 2.1 Coding check in answer"
   ]
  },
  {
   "cell_type": "code",
   "execution_count": null,
   "metadata": {},
   "outputs": [],
   "source": [
    "# set up our basic plot\n",
    "fig, ax = plt.subplots()\n",
    "ax.plot(time, log_growth,  'orange', linewidth = 3)\n",
    "\n",
    "# set up our axes and title\n",
    "ax.set_title(\"Exploring logistic growth\", fontsize = 24) # adds a title\n",
    "ax.set_xlabel(\"Time\", fontsize = 14) # adds x label\n",
    "ax.set_ylabel(\"Population size\", fontsize = 14) # adds y label\n",
    "\n",
    "ax.tick_params(axis = \"both\", labelsize = 14) # increases font size for both axes\n",
    "\n",
    "plt.show()"
   ]
  },
  {
   "cell_type": "markdown",
   "metadata": {
    "id": "D0bADGnfVoC2"
   },
   "source": [
    "### 4.1 Coding check in answer "
   ]
  },
  {
   "cell_type": "code",
   "execution_count": null,
   "metadata": {
    "id": "e-9OKpIpQ8DK",
    "scrolled": true
   },
   "outputs": [],
   "source": [
    "x = np.linspace(0,20,60)\n",
    "y = np.sin(x)\n",
    "\n",
    "fig, ax = plt.subplots()\n",
    "ax.plot(x,y, 'red', linewidth = 3, label = \"sine\")\n",
    "\n",
    "ax.set_xlabel(\"Time in quarantine\", fontsize = 15)\n",
    "ax.set_ylabel(\"My mood\", fontsize = 15)\n",
    "\n",
    "ax.tick_params(axis = \"both\", labelsize = 15) # increases font size for both axes\n",
    "ax.legend() # adding the legend\n",
    "\n",
    "\n",
    "plt.show()"
   ]
  },
  {
   "cell_type": "markdown",
   "metadata": {
    "id": "GJkzkD7ZeXEt"
   },
   "source": [
    "### 4.2 Advanced coding check in answer"
   ]
  },
  {
   "cell_type": "code",
   "execution_count": null,
   "metadata": {
    "colab": {
     "base_uri": "https://localhost:8080/",
     "height": 289
    },
    "executionInfo": {
     "elapsed": 898,
     "status": "ok",
     "timestamp": 1599581226586,
     "user": {
      "displayName": "Katherine Dixon",
      "photoUrl": "",
      "userId": "15494218692838460261"
     },
     "user_tz": 300
    },
    "id": "XrvmtZD-eOWm",
    "outputId": "5e8b2c60-94c7-4d57-a009-0f54d1b1e928",
    "scrolled": true
   },
   "outputs": [],
   "source": [
    "x = np.linspace(0,20,60)\n",
    "y1 = np.sin(x)\n",
    "y2 = np.cos(x)\n",
    "\n",
    "fig, ax = plt.subplots()\n",
    "ax.plot(x,y1, 'red', linewidth = 3, label = \"sine\")\n",
    "ax.plot(x,y2, 'blue', linewidth = 3, label = \"cosine\")\n",
    "\n",
    "ax.set_xlabel(\"Time in quarantine\", fontsize = 15)\n",
    "ax.set_ylabel(\"My mood\", fontsize = 15)\n",
    "\n",
    "ax.tick_params(axis = \"both\", labelsize = 15) # increases font size for both axes\n",
    "ax.legend()\n",
    "\n",
    "plt.show()"
   ]
  }
 ],
 "metadata": {
  "colab": {
   "collapsed_sections": [
    "87CUAhZkWU78",
    "UHDqU08oK8HX",
    "D0bADGnfVoC2",
    "cVci0AMh2HZ3",
    "lT3Gx38DbeNO",
    "4jkjaJcvaT0O",
    "HaIQcta2NcW4",
    "XmuMsq1DHVw2",
    "wf8g2SAXMl9K",
    "SZsqeAoyJPfS",
    "eQB9drVn4zct"
   ],
   "name": "Day6-Intro_plotting.ipynb",
   "provenance": [
    {
     "file_id": "1DE8uqmrr18Aq-wmVB8haa974fBTyy_j0",
     "timestamp": 1618586184059
    }
   ]
  },
  "kernelspec": {
   "display_name": "Python 3",
   "language": "python",
   "name": "python3"
  },
  "language_info": {
   "codemirror_mode": {
    "name": "ipython",
    "version": 3
   },
   "file_extension": ".py",
   "mimetype": "text/x-python",
   "name": "python",
   "nbconvert_exporter": "python",
   "pygments_lexer": "ipython3",
   "version": "3.7.1"
  }
 },
 "nbformat": 4,
 "nbformat_minor": 1
}
