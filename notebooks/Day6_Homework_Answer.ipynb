{
 "cells": [
  {
   "cell_type": "markdown",
   "metadata": {},
   "source": [
    "## 13 Homework challenge\n",
    "\n",
    "The goal is to recreate the google converter for measurements. We can use a function with nested if statements to take in three arguements for our function. The arguments are `value` which is the amount we want to convert, `from_unit` which is the unit we want to convert from, and `to_unit` which is the unit we want to convert to. Use an `f-string` to print out what the conversion is (ex. 8 gallons is 32 quarts). \n",
    "\n",
    "Your function should be able to take in either gallon, quart, pint, or cup and convert to either gallon, quart, pint or cup. Here are \n",
    "\n",
    "* 1 gallon is 4 quarts\n",
    "* 1 gallon is 8 pints\n",
    "* 1 gallon is 16 cups\n",
    "\n",
    "Be sure to check your answers to see if you're using your nested if statements correctly."
   ]
  },
  {
   "cell_type": "code",
   "execution_count": null,
   "metadata": {},
   "outputs": [],
   "source": [
    "def convert_measurements(value, from_unit, to_unit):\n",
    "    \n",
    "    if (from_unit == 'gallon'):\n",
    "        if (to_unit == 'quart'):\n",
    "            answer = value * 4\n",
    "        elif (to_unit == 'pint'):\n",
    "            answer = value * 8\n",
    "        elif (to_unit == 'cup'):\n",
    "            answer = value * 16\n",
    "\n",
    "    elif (from_unit == 'quart'):\n",
    "        if (to_unit == 'gallon'):\n",
    "            answer = value * (1/4)\n",
    "        elif (to_unit == 'pint'):\n",
    "            answer = value * 2\n",
    "        elif (to_unit == 'cup'):\n",
    "            answer = value * 4\n",
    "            \n",
    "    elif (from_unit == 'pint'):\n",
    "        if (to_unit == 'gallon'):\n",
    "            answer = value * (1/8)\n",
    "        elif (to_unit == 'quart'):\n",
    "            answer = value * (1/2)\n",
    "        elif (to_unit == 'cup'):\n",
    "            answer = value * 2\n",
    "            \n",
    "    elif (from_unit == 'cup'):\n",
    "        if (to_unit == 'gallon'):\n",
    "            answer = value * (1/16)\n",
    "        elif (to_unit == 'quart'):\n",
    "            answer = value * (1/4)\n",
    "        elif (to_unit == 'cup'):\n",
    "            answer = value * (1/2)\n",
    "            \n",
    "    print(f'{value} {from_unit}s = {answer} {to_unit}s')\n",
    "            "
   ]
  },
  {
   "cell_type": "code",
   "execution_count": null,
   "metadata": {},
   "outputs": [],
   "source": [
    "convert_measurements(value = 10, from_unit = 'cup', to_unit = 'gallon')"
   ]
  },
  {
   "cell_type": "code",
   "execution_count": null,
   "metadata": {},
   "outputs": [],
   "source": [
    "unit_dict = {'value' : 20, 'from_unit' : 'quart', 'to_unit' : 'cup'}\n",
    "convert_measurements(**unit_dict)"
   ]
  },
  {
   "cell_type": "code",
   "execution_count": null,
   "metadata": {},
   "outputs": [],
   "source": []
  }
 ],
 "metadata": {
  "kernelspec": {
   "display_name": "Python 3",
   "language": "python",
   "name": "python3"
  },
  "language_info": {
   "codemirror_mode": {
    "name": "ipython",
    "version": 3
   },
   "file_extension": ".py",
   "mimetype": "text/x-python",
   "name": "python",
   "nbconvert_exporter": "python",
   "pygments_lexer": "ipython3",
   "version": "3.7.1"
  }
 },
 "nbformat": 4,
 "nbformat_minor": 2
}
