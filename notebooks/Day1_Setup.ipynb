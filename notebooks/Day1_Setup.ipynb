{
 "cells": [
  {
   "cell_type": "markdown",
   "id": "described-march",
   "metadata": {},
   "source": [
    "# Welcome to Intro to Scientific Programming!\n",
    "\n",
    "Run the below cells to make sure your setup worked. You can do this by clicking on the cell and then pressing `Shift+Enter`. If you don't get any errors, that means your setup worked. If you do, post in the slack and go to office hours."
   ]
  },
  {
   "cell_type": "code",
   "execution_count": 1,
   "id": "fresh-beads",
   "metadata": {},
   "outputs": [],
   "source": [
    "import numpy as np\n",
    "import matplotlib.pyplot as plt\n",
    "import pandas as pd"
   ]
  },
  {
   "cell_type": "code",
   "execution_count": 2,
   "id": "narrow-oxide",
   "metadata": {},
   "outputs": [],
   "source": [
    "data = np.loadtxt('../data/star_formation_rate_MD.csv', delimiter=',')"
   ]
  }
 ],
 "metadata": {
  "kernelspec": {
   "display_name": "basic_plotting",
   "language": "python",
   "name": "basic_plotting"
  },
  "language_info": {
   "codemirror_mode": {
    "name": "ipython",
    "version": 3
   },
   "file_extension": ".py",
   "mimetype": "text/x-python",
   "name": "python",
   "nbconvert_exporter": "python",
   "pygments_lexer": "ipython3",
   "version": "3.8.8"
  }
 },
 "nbformat": 4,
 "nbformat_minor": 5
}
