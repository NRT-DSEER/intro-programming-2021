{
 "cells": [
  {
   "cell_type": "markdown",
   "metadata": {
    "id": "PCDxL2QE2Iwy"
   },
   "source": [
    "# Day 2: Introduction to Data Types and Storage\n",
    "\n",
    "Today, we will be going over the fundamentals of coding. These fundamentals are often very similar across coding languages, so those of you who have coded before may recognize the patterns.\n",
    "\n",
    "We will start at the beginning with variables and work our way up to strings. This will be very helpful as we move onto writing functions, loops, and working with data in subsequent lessons. \n",
    "\n",
    "\n",
    "Goals for the day:\n",
    "* Being able to do simple math or print in a cell\n",
    "* Understand variables and data types\n",
    "* Understand Booleans\n",
    "* Begin using lists and indexing \n",
    "* Understand strings and string manipulation\n",
    "* Begin using dictionaries\n",
    "* Go over built in python functions\n",
    "* HAVE FUN\n"
   ]
  },
  {
   "cell_type": "markdown",
   "metadata": {
    "id": "e5g-nsF1KzKZ"
   },
   "source": [
    "## 1.0 Simple math and printing in a cell"
   ]
  },
  {
   "cell_type": "markdown",
   "metadata": {
    "id": "n9DuBHFT1Hem"
   },
   "source": [
    "In our **coding cell** we can type out some operations and see the results in the line below. You can run a cell by pressing **Shift + Enter** or **Ctrl + Enter**. I use **Shift + Enter** because it will bring your cursor onto the next line of code to be run. \n",
    "\n",
    "Some of the more complex math symbols are:\n",
    "\n",
    "* `**` for exponentiation\n",
    "* `//` for integer division\n",
    "* `%`  for modulo operator\n"
   ]
  },
  {
   "cell_type": "code",
   "execution_count": null,
   "metadata": {
    "colab": {
     "base_uri": "https://localhost:8080/"
    },
    "executionInfo": {
     "elapsed": 13,
     "status": "ok",
     "timestamp": 1625069147201,
     "user": {
      "displayName": "Jess Senger",
      "photoUrl": "",
      "userId": "08376289370634799181"
     },
     "user_tz": 300
    },
    "id": "KC7sECKM0kXY",
    "outputId": "caa4a2a3-fcd7-49d8-e808-55e6b62deb65"
   },
   "outputs": [],
   "source": [
    "2 + 4/7"
   ]
  },
  {
   "cell_type": "code",
   "execution_count": null,
   "metadata": {
    "colab": {
     "base_uri": "https://localhost:8080/"
    },
    "executionInfo": {
     "elapsed": 299,
     "status": "ok",
     "timestamp": 1625069149575,
     "user": {
      "displayName": "Jess Senger",
      "photoUrl": "",
      "userId": "08376289370634799181"
     },
     "user_tz": 300
    },
    "id": "yUMcA4nW5JFb",
    "outputId": "9b3f65be-b586-42e3-844f-12dccffe931c"
   },
   "outputs": [],
   "source": [
    "5*4 + 20"
   ]
  },
  {
   "cell_type": "code",
   "execution_count": null,
   "metadata": {
    "colab": {
     "base_uri": "https://localhost:8080/"
    },
    "executionInfo": {
     "elapsed": 288,
     "status": "ok",
     "timestamp": 1625069152288,
     "user": {
      "displayName": "Jess Senger",
      "photoUrl": "",
      "userId": "08376289370634799181"
     },
     "user_tz": 300
    },
    "id": "hxSiM0w_LD_4",
    "outputId": "a5528be7-ea91-421e-c74a-83b67ec0cf85"
   },
   "outputs": [],
   "source": [
    "3**2"
   ]
  },
  {
   "cell_type": "markdown",
   "metadata": {
    "id": "hZyR2R-k5KBF"
   },
   "source": [
    "We can print a sentence to the console:"
   ]
  },
  {
   "cell_type": "code",
   "execution_count": null,
   "metadata": {
    "colab": {
     "base_uri": "https://localhost:8080/"
    },
    "executionInfo": {
     "elapsed": 278,
     "status": "ok",
     "timestamp": 1625069156603,
     "user": {
      "displayName": "Jess Senger",
      "photoUrl": "",
      "userId": "08376289370634799181"
     },
     "user_tz": 300
    },
    "id": "PRCf9kfe4Lxb",
    "outputId": "64355076-fe45-4b14-8e7b-5420e7e4794c"
   },
   "outputs": [],
   "source": [
    "print(\"Hello World!\")"
   ]
  },
  {
   "cell_type": "markdown",
   "metadata": {
    "id": "h-N1kmUW0yzQ"
   },
   "source": [
    "## 2.0 Variables"
   ]
  },
  {
   "cell_type": "markdown",
   "metadata": {
    "id": "CnYcmmGf5shk"
   },
   "source": [
    "This is fun, but doesn't get us very far unless you're trying to calculate a tip for your pizza delivery driver. When we want to work with data or start doing some calculations, we need to assign values to variables. \n",
    "\n",
    "Variables can be described as 'boxes' you assign a value to, or a reference to a certain value. This variable is then stored in the memory of Python for later use.\n",
    "\n",
    "It's best practice to assign values to short and descriptive variables, and python has rules about naming.\n",
    "\n",
    "\n",
    "\n",
    "*   Can contain only numbers, letters, and underscores. Must begin with a letter or underscore\n",
    "*   Spaces are not allowed in variable names\n",
    "*   Variable names are case sensitive\n",
    "*   The code will not catch your spelling errors\n"
   ]
  },
  {
   "cell_type": "code",
   "execution_count": null,
   "metadata": {
    "id": "AYPQgmYj4dFY"
   },
   "outputs": [],
   "source": [
    "temp_c = 40"
   ]
  },
  {
   "cell_type": "markdown",
   "metadata": {
    "id": "ppdot0CB98FZ"
   },
   "source": [
    "Notice how when we ran that line, nothing showed up. That's because it's being stored in the memory. We can `print` the variable using Python's built in function `print` to see the output:"
   ]
  },
  {
   "cell_type": "code",
   "execution_count": null,
   "metadata": {
    "colab": {
     "base_uri": "https://localhost:8080/"
    },
    "executionInfo": {
     "elapsed": 289,
     "status": "ok",
     "timestamp": 1625069197156,
     "user": {
      "displayName": "Jess Senger",
      "photoUrl": "",
      "userId": "08376289370634799181"
     },
     "user_tz": 300
    },
    "id": "CKffOeBw-rzA",
    "outputId": "730c4dbf-b8fe-4027-847b-943790a96f65"
   },
   "outputs": [],
   "source": [
    "print(temp_c)"
   ]
  },
  {
   "cell_type": "markdown",
   "metadata": {
    "id": "qGB3dCRK-uOj"
   },
   "source": [
    "We can also change the variable to be something else, and it will overwrite the previous value:"
   ]
  },
  {
   "cell_type": "code",
   "execution_count": null,
   "metadata": {
    "colab": {
     "base_uri": "https://localhost:8080/"
    },
    "executionInfo": {
     "elapsed": 267,
     "status": "ok",
     "timestamp": 1625069209207,
     "user": {
      "displayName": "Jess Senger",
      "photoUrl": "",
      "userId": "08376289370634799181"
     },
     "user_tz": 300
    },
    "id": "arbThut6-tRd",
    "outputId": "b7e07414-9173-47bc-c4cf-877fe55f3c0b"
   },
   "outputs": [],
   "source": [
    "temp_c = 125\n",
    "print(temp_c)"
   ]
  },
  {
   "cell_type": "markdown",
   "metadata": {
    "id": "KwkzRiF9_EHX"
   },
   "source": [
    "Python knows various types of data, the commonly used ones are:\n",
    "*   Integer numbers\n",
    "*   Floating point numbers\n",
    "*   Strings\n",
    "\n",
    "We just saw integer numbers where there is no decimal after `125`. This is an example of a floating point number"
   ]
  },
  {
   "cell_type": "code",
   "execution_count": null,
   "metadata": {
    "colab": {
     "base_uri": "https://localhost:8080/"
    },
    "executionInfo": {
     "elapsed": 254,
     "status": "ok",
     "timestamp": 1625069214369,
     "user": {
      "displayName": "Jess Senger",
      "photoUrl": "",
      "userId": "08376289370634799181"
     },
     "user_tz": 300
    },
    "id": "xle17WUs_dYW",
    "outputId": "9a654a14-a183-42c6-e50f-e2b0de74bec5"
   },
   "outputs": [],
   "source": [
    "temp_c = 15.5\n",
    "print(temp_c)"
   ]
  },
  {
   "cell_type": "markdown",
   "metadata": {
    "id": "zP6KuXTK0InI"
   },
   "source": [
    "This is an example of a string:"
   ]
  },
  {
   "cell_type": "code",
   "execution_count": null,
   "metadata": {
    "colab": {
     "base_uri": "https://localhost:8080/"
    },
    "executionInfo": {
     "elapsed": 292,
     "status": "ok",
     "timestamp": 1625069227064,
     "user": {
      "displayName": "Jess Senger",
      "photoUrl": "",
      "userId": "08376289370634799181"
     },
     "user_tz": 300
    },
    "id": "-gemOIrK-8NA",
    "outputId": "316faaa4-ef67-4693-cb6c-7a64c4f252bd"
   },
   "outputs": [],
   "source": [
    "temp_c_text = 'temperature in celcius:'\n",
    "print(temp_c_text)"
   ]
  },
  {
   "cell_type": "markdown",
   "metadata": {
    "id": "61A3DNMiKaVx"
   },
   "source": [
    "## 3.0 Commenting your code\n",
    "\n",
    "Best practices when coding is leaving descriptive comments for yourself or collaborators. This becomes incredibly helpful when you have to come back to a script years later and you've forgotten completely what you've done. \n",
    "\n",
    "Using the notebook style for code can be helpful, but when you are building more complicated scripts it can get too messy. So we can comment code by putting a `#` symbol and Python will ignore anything after that"
   ]
  },
  {
   "cell_type": "code",
   "execution_count": null,
   "metadata": {
    "colab": {
     "base_uri": "https://localhost:8080/"
    },
    "executionInfo": {
     "elapsed": 260,
     "status": "ok",
     "timestamp": 1625069275390,
     "user": {
      "displayName": "Jess Senger",
      "photoUrl": "",
      "userId": "08376289370634799181"
     },
     "user_tz": 300
    },
    "id": "47kLJk-_Lmk9",
    "outputId": "0e0572fd-9a63-4c13-db18-f6c030a2b0fe"
   },
   "outputs": [],
   "source": [
    "temp_c = 100.0 # temperature in celcius\n",
    "print(temp_c) # printing the temperature in celcius\n",
    "\n",
    "# you can also take notes in your own code during this lesson\n",
    "\n",
    "# it's best practice "
   ]
  },
  {
   "cell_type": "markdown",
   "metadata": {
    "id": "EIwNEczo_uSN"
   },
   "source": [
    "## 4.0 Manipulating variables in Python\n",
    "\n",
    "We can print multiple variables together:"
   ]
  },
  {
   "cell_type": "code",
   "execution_count": null,
   "metadata": {
    "colab": {
     "base_uri": "https://localhost:8080/"
    },
    "executionInfo": {
     "elapsed": 265,
     "status": "ok",
     "timestamp": 1625069279466,
     "user": {
      "displayName": "Jess Senger",
      "photoUrl": "",
      "userId": "08376289370634799181"
     },
     "user_tz": 300
    },
    "id": "fME9r-BlAvK7",
    "outputId": "abcef001-380f-481f-efc0-d6a2e78f3bbc"
   },
   "outputs": [],
   "source": [
    "print(temp_c_text, temp_c)"
   ]
  },
  {
   "cell_type": "markdown",
   "metadata": {
    "id": "fcjJ66rdA0He"
   },
   "source": [
    "We can do arithmetic on the variable and assign it to a new variable: "
   ]
  },
  {
   "cell_type": "code",
   "execution_count": null,
   "metadata": {
    "colab": {
     "base_uri": "https://localhost:8080/"
    },
    "executionInfo": {
     "elapsed": 257,
     "status": "ok",
     "timestamp": 1625069288244,
     "user": {
      "displayName": "Jess Senger",
      "photoUrl": "",
      "userId": "08376289370634799181"
     },
     "user_tz": 300
    },
    "id": "TnDKL343Azjb",
    "outputId": "7abc21d8-5fa3-46dc-cd24-efbceadc3e21"
   },
   "outputs": [],
   "source": [
    "temp_f = temp_c * (9/5) + 32 # converting temperature in celcius to fahrenheit\n",
    "print(temp_c, temp_f)\n"
   ]
  },
  {
   "cell_type": "markdown",
   "metadata": {
    "id": "KML99MgbEgkQ"
   },
   "source": [
    "You can assign multiple variables using multiple assignment:"
   ]
  },
  {
   "cell_type": "code",
   "execution_count": null,
   "metadata": {
    "colab": {
     "base_uri": "https://localhost:8080/"
    },
    "executionInfo": {
     "elapsed": 265,
     "status": "ok",
     "timestamp": 1625069296528,
     "user": {
      "displayName": "Jess Senger",
      "photoUrl": "",
      "userId": "08376289370634799181"
     },
     "user_tz": 300
    },
    "id": "995FtbeaBVIX",
    "outputId": "5c4d5774-da8b-47b6-cb96-f145b116071f"
   },
   "outputs": [],
   "source": [
    "temp1, temp2, temp3 = 10,20,35 # setting the values for three different temperatures\n",
    "print(temp3,temp2,temp1)"
   ]
  },
  {
   "cell_type": "markdown",
   "metadata": {
    "id": "8KvRFpHS3BI4"
   },
   "source": [
    "### 4.1 Coding is weird\n",
    "\n",
    "So when coding, you can do a weird thing that doesn't work in math, where you can update a variable using that variable. For example, if I am trying to update a variable `x` to be `x+1`, I can write it as follows:\n",
    "\n",
    "Note: I can do this all in one coding cell. So far we have only seen very short lines of code in one cell, but you can write big blocks of code and run it all together. \n",
    "\n",
    "I'm also using print() here multiple times so that I can show what the value of `x` as it gets updated in the cell"
   ]
  },
  {
   "cell_type": "code",
   "execution_count": null,
   "metadata": {
    "colab": {
     "base_uri": "https://localhost:8080/"
    },
    "executionInfo": {
     "elapsed": 269,
     "status": "ok",
     "timestamp": 1625069313188,
     "user": {
      "displayName": "Jess Senger",
      "photoUrl": "",
      "userId": "08376289370634799181"
     },
     "user_tz": 300
    },
    "id": "xFQEETaJ3SUz",
    "outputId": "73df5afb-2501-414b-9a17-b2ccc8421a8c"
   },
   "outputs": [],
   "source": [
    "x = 5\n",
    "print(x)\n",
    "\n",
    "x = x + 1 \n",
    "print(x)\n",
    "\n",
    "x = x + 1\n",
    "print(x)"
   ]
  },
  {
   "cell_type": "markdown",
   "metadata": {
    "id": "8uzOie8eTlGD"
   },
   "source": [
    "## 5.0 Coding check in \n",
    "\n",
    "Imagine you're at the gym and you are doing your bench press with weights in kilograms, but you want to write down your sets in lbs. Set three variables of weights in kg (ex. 5, 10, 25) and then convert it to weight in lbs (1 kg = 2.2 lbs). \n",
    "\n",
    "Note: you will convert them all separately.\n",
    "\n",
    "Tip: If you are stuck, try with one weight first\n",
    "\n",
    "*Note*: there are often several ways you can accomplish a task in coding, and there are many correct ways of doing things! If your code looks different from mine but you still get the right answer, that's great!"
   ]
  },
  {
   "cell_type": "code",
   "execution_count": null,
   "metadata": {
    "id": "Ixuy7L2Hpapm"
   },
   "outputs": [],
   "source": [
    "# empty cell for you to type in the coding check in\n",
    "\n",
    "# 1. set three weights in kg using different variable names\n",
    "\n",
    "\n",
    "# 2. convert the weight in kg to lbs\n",
    "\n",
    "\n",
    "\n",
    "# 3. print out the weight in lbs\n",
    "\n",
    "\n",
    "\n"
   ]
  },
  {
   "cell_type": "markdown",
   "metadata": {
    "id": "Zmd945awEFBj"
   },
   "source": [
    "## 6.0 Boolean variables\n",
    "\n",
    "These are binary variables, which can be either true or false. We can use this as a tool to interrogate Python about our variables, and later we can use them in more complex ways (with `if statements` for example). \n",
    "\n",
    "There are several different tests we can do. These are including: \n",
    "\n",
    "* `==` if something is equal to\n",
    "* `>` greater than\n",
    "* `>=` greater than or equal to\n",
    "* `<` less than\n",
    "* `<=` less than or equal to\n",
    "* `!=` not equal to\n",
    "\n",
    "Let's set a temperature value and use Python to interrogate it! "
   ]
  },
  {
   "cell_type": "code",
   "execution_count": null,
   "metadata": {
    "colab": {
     "base_uri": "https://localhost:8080/"
    },
    "executionInfo": {
     "elapsed": 347,
     "status": "ok",
     "timestamp": 1625069357514,
     "user": {
      "displayName": "Jess Senger",
      "photoUrl": "",
      "userId": "08376289370634799181"
     },
     "user_tz": 300
    },
    "id": "-u8ULYs6BxWY",
    "outputId": "15aafb16-4dee-486d-f010-90ca101da533"
   },
   "outputs": [],
   "source": [
    "temp1 = 10\n",
    "\n",
    "print(temp1)"
   ]
  },
  {
   "cell_type": "markdown",
   "metadata": {
    "id": "VFTq0YVCopTQ"
   },
   "source": [
    "Now we can ask if temp1 is greater than 0, to see what type of jacket we need to go outside in:"
   ]
  },
  {
   "cell_type": "code",
   "execution_count": null,
   "metadata": {
    "colab": {
     "base_uri": "https://localhost:8080/"
    },
    "executionInfo": {
     "elapsed": 257,
     "status": "ok",
     "timestamp": 1625069361101,
     "user": {
      "displayName": "Jess Senger",
      "photoUrl": "",
      "userId": "08376289370634799181"
     },
     "user_tz": 300
    },
    "id": "XZKO54kkFbEK",
    "outputId": "f076188c-805e-46ce-9197-271875dbecf4"
   },
   "outputs": [],
   "source": [
    "temp1 > 0\n"
   ]
  },
  {
   "cell_type": "markdown",
   "metadata": {
    "id": "OekRWFm3Fgda"
   },
   "source": [
    "We can ask if a certain value is **exactly equivalent** to some value using two equal signs. Notice this is different than our normal assignment operator, as it's like asking the question \"is this equal to that\":"
   ]
  },
  {
   "cell_type": "code",
   "execution_count": null,
   "metadata": {
    "colab": {
     "base_uri": "https://localhost:8080/"
    },
    "executionInfo": {
     "elapsed": 336,
     "status": "ok",
     "timestamp": 1625069380494,
     "user": {
      "displayName": "Jess Senger",
      "photoUrl": "",
      "userId": "08376289370634799181"
     },
     "user_tz": 300
    },
    "id": "x8Ob0JHEFdc-",
    "outputId": "35dcee0b-04de-479b-fd3d-bfd8479a8368"
   },
   "outputs": [],
   "source": [
    "temp1 == 20"
   ]
  },
  {
   "cell_type": "markdown",
   "metadata": {
    "id": "Te8mhqHbJdAd"
   },
   "source": [
    "Let's try with another temperature variable, `temp5`, to see if this is above zero:"
   ]
  },
  {
   "cell_type": "code",
   "execution_count": null,
   "metadata": {
    "colab": {
     "base_uri": "https://localhost:8080/",
     "height": 164
    },
    "executionInfo": {
     "elapsed": 265,
     "status": "error",
     "timestamp": 1625069391496,
     "user": {
      "displayName": "Jess Senger",
      "photoUrl": "",
      "userId": "08376289370634799181"
     },
     "user_tz": 300
    },
    "id": "wNeOAYe5IvKD",
    "outputId": "a8e937e6-76d9-4438-ad32-f52f017bfe9c"
   },
   "outputs": [],
   "source": [
    "temp5 > 0 # we are expecting an error, don't panic!"
   ]
  },
  {
   "cell_type": "markdown",
   "metadata": {
    "id": "rLrMdbC8IjUC"
   },
   "source": [
    "When we tried to interrogate `temp5`, notice we get the error: 'temp5' is not defined. That's because we've never defined temp5 to be anything. This is to give you an idea of the kinds of errors Python will give you. \n",
    "\n",
    "To see all the variables (and functions) you've created during this session, you can use the built in function `who`:"
   ]
  },
  {
   "cell_type": "code",
   "execution_count": null,
   "metadata": {
    "colab": {
     "base_uri": "https://localhost:8080/"
    },
    "executionInfo": {
     "elapsed": 264,
     "status": "ok",
     "timestamp": 1625069404117,
     "user": {
      "displayName": "Jess Senger",
      "photoUrl": "",
      "userId": "08376289370634799181"
     },
     "user_tz": 300
    },
    "id": "vrgwb4k4IhiI",
    "outputId": "0283275b-a8cd-48f2-f67c-0ba305d2a991"
   },
   "outputs": [],
   "source": [
    "who"
   ]
  },
  {
   "cell_type": "markdown",
   "metadata": {
    "id": "i8Xti1JnBV-B"
   },
   "source": [
    "## 7.0 Strings\n",
    "\n",
    "There are a lot of built in ways to manipulate strings, which will come in very handy when working with data. We can get the length of the string, we can manipulate it, etc.\n",
    "\n"
   ]
  },
  {
   "cell_type": "code",
   "execution_count": null,
   "metadata": {
    "colab": {
     "base_uri": "https://localhost:8080/"
    },
    "executionInfo": {
     "elapsed": 257,
     "status": "ok",
     "timestamp": 1625069426060,
     "user": {
      "displayName": "Jess Senger",
      "photoUrl": "",
      "userId": "08376289370634799181"
     },
     "user_tz": 300
    },
    "id": "nl3nvB3zMs24",
    "outputId": "f1da85e8-c22c-4c66-b4ed-e629489f9c11"
   },
   "outputs": [],
   "source": [
    "my_string = \"This is my string\"\n",
    "print(my_string)"
   ]
  },
  {
   "cell_type": "markdown",
   "metadata": {
    "id": "t9xMkYDtLv_H"
   },
   "source": [
    "The first thing we can do is to get the length of the string using the built in function `len`:"
   ]
  },
  {
   "cell_type": "code",
   "execution_count": null,
   "metadata": {
    "colab": {
     "base_uri": "https://localhost:8080/"
    },
    "executionInfo": {
     "elapsed": 281,
     "status": "ok",
     "timestamp": 1625069428699,
     "user": {
      "displayName": "Jess Senger",
      "photoUrl": "",
      "userId": "08376289370634799181"
     },
     "user_tz": 300
    },
    "id": "oHL2dYNhMzAo",
    "outputId": "a6295a03-80b1-4eee-8ce8-411463b1ec07"
   },
   "outputs": [],
   "source": [
    "len(my_string) # prints the length"
   ]
  },
  {
   "cell_type": "markdown",
   "metadata": {
    "id": "D5erwEt3L5t3"
   },
   "source": [
    "Next, we can append a string onto another one by using a `+`:"
   ]
  },
  {
   "cell_type": "code",
   "execution_count": null,
   "metadata": {
    "colab": {
     "base_uri": "https://localhost:8080/",
     "height": 35
    },
    "executionInfo": {
     "elapsed": 320,
     "status": "ok",
     "timestamp": 1625069431739,
     "user": {
      "displayName": "Jess Senger",
      "photoUrl": "",
      "userId": "08376289370634799181"
     },
     "user_tz": 300
    },
    "id": "myUOCiE0M3fR",
    "outputId": "a0576dbb-6a11-4184-916d-10d296da4184"
   },
   "outputs": [],
   "source": [
    "length_info = ' and it is long' # the space is important!\n",
    "my_string + length_info"
   ]
  },
  {
   "cell_type": "markdown",
   "metadata": {
    "id": "jVmUYo2cNYG_"
   },
   "source": [
    "We can do more complex string manipulation using built in methods. These methods are attached to a certain type of object and can change the original object. The following methods only work on strings, for example.  In python, you can use a method by including a period after the object you want to run the method on, then the method `replace` and parentheses afterwards:\n",
    "So the anatomy of how this will work is:\n",
    "\n",
    "`object.method(arguments)`\n"
   ]
  },
  {
   "cell_type": "code",
   "execution_count": null,
   "metadata": {
    "colab": {
     "base_uri": "https://localhost:8080/",
     "height": 35
    },
    "executionInfo": {
     "elapsed": 277,
     "status": "ok",
     "timestamp": 1625069475594,
     "user": {
      "displayName": "Jess Senger",
      "photoUrl": "",
      "userId": "08376289370634799181"
     },
     "user_tz": 300
    },
    "id": "gCfaBfgRNLQ8",
    "outputId": "9c856d66-2646-47ad-e379-1d39ca1fe3fe"
   },
   "outputs": [],
   "source": [
    "my_string.replace(\"string\", \"sentence\") # replace one word with another\n",
    "\n",
    "# object is my_string\n",
    "# method is replace\n",
    "# arguments are to replace \"string\" with \"sentence\""
   ]
  },
  {
   "cell_type": "markdown",
   "metadata": {
    "id": "xnS0N0f82naf"
   },
   "source": [
    "That last command printed out the new string, but now we want to permanently change it to be the new one, so we update our variable `my_string` using `replace`"
   ]
  },
  {
   "cell_type": "code",
   "execution_count": null,
   "metadata": {},
   "outputs": [],
   "source": [
    "print(my_string)"
   ]
  },
  {
   "cell_type": "code",
   "execution_count": null,
   "metadata": {
    "colab": {
     "base_uri": "https://localhost:8080/"
    },
    "executionInfo": {
     "elapsed": 313,
     "status": "ok",
     "timestamp": 1625069482095,
     "user": {
      "displayName": "Jess Senger",
      "photoUrl": "",
      "userId": "08376289370634799181"
     },
     "user_tz": 300
    },
    "id": "8aVf2qBIMnf-",
    "outputId": "f797e7be-f020-4548-8948-c2c9069b2a60"
   },
   "outputs": [],
   "source": [
    "my_string = my_string.replace(\"string\",\"sentence\")\n",
    "print(my_string)"
   ]
  },
  {
   "cell_type": "markdown",
   "metadata": {},
   "source": [
    "We can also split our string into several shorter ones, the defaul is to split it based on the spaces. This returns a list of four separate strings, and we will learn about lists after the check in!\n",
    "\n"
   ]
  },
  {
   "cell_type": "code",
   "execution_count": null,
   "metadata": {
    "colab": {
     "base_uri": "https://localhost:8080/"
    },
    "executionInfo": {
     "elapsed": 373,
     "status": "ok",
     "timestamp": 1625069505950,
     "user": {
      "displayName": "Jess Senger",
      "photoUrl": "",
      "userId": "08376289370634799181"
     },
     "user_tz": 300
    },
    "id": "60gUj2v3NRYV",
    "outputId": "1d6c04db-25a4-4ee1-963a-8ea10ce2b8b9"
   },
   "outputs": [],
   "source": [
    "my_string.split() # split a longer string into several shorter ones"
   ]
  },
  {
   "cell_type": "markdown",
   "metadata": {},
   "source": [
    "We can also make the string all upper case, lower case, or just the first letter of each word capitalized.\n",
    "\n",
    "These can be very handy tools when you're working on data that has had many different people inputing information, who may be using different styles."
   ]
  },
  {
   "cell_type": "code",
   "execution_count": null,
   "metadata": {
    "colab": {
     "base_uri": "https://localhost:8080/"
    },
    "executionInfo": {
     "elapsed": 326,
     "status": "ok",
     "timestamp": 1625069508613,
     "user": {
      "displayName": "Jess Senger",
      "photoUrl": "",
      "userId": "08376289370634799181"
     },
     "user_tz": 300
    },
    "id": "knCcVkeJNvAz",
    "outputId": "9cb31a5b-b299-47e8-e3c1-4eeb64a7a04a"
   },
   "outputs": [],
   "source": [
    "print(my_string.upper()) # replace with all uppercase\n",
    "print(my_string.lower()) # replace with all lowercase"
   ]
  },
  {
   "cell_type": "code",
   "execution_count": null,
   "metadata": {
    "colab": {
     "base_uri": "https://localhost:8080/",
     "height": 35
    },
    "executionInfo": {
     "elapsed": 731,
     "status": "ok",
     "timestamp": 1625069512311,
     "user": {
      "displayName": "Jess Senger",
      "photoUrl": "",
      "userId": "08376289370634799181"
     },
     "user_tz": 300
    },
    "id": "FiPcE-qQwBjx",
    "outputId": "6a022a89-f9ee-4e56-a151-0395374b3ca4"
   },
   "outputs": [],
   "source": [
    "my_string.title() # capitalizes the first letter of each word"
   ]
  },
  {
   "cell_type": "markdown",
   "metadata": {
    "id": "IFVX9BBhuQuo"
   },
   "source": [
    "## 8.0 Coding check in\n",
    "\n",
    "Create two strings with your name set up as \"My name is [first name]\" and \" [last name]\". Create a new string with them together together, then replace the last name to the celebrity crush of your choice, then print them out all caps.\n",
    "\n",
    "I will be using Zac Efron for my celebrity crush (and I'm not afraid to admit it)"
   ]
  },
  {
   "cell_type": "code",
   "execution_count": null,
   "metadata": {
    "id": "7hdnwRWfwHiq"
   },
   "outputs": [],
   "source": [
    "## where you can put your coding check in code\n",
    "\n",
    "# first string\n",
    "\n",
    "\n",
    "# second string\n",
    "\n",
    "\n",
    "# add them together\n",
    "\n",
    "\n",
    "# replace last name and update the string\n",
    "\n",
    "\n",
    "# yell it to the world in all caps!\n",
    "\n",
    "\n"
   ]
  },
  {
   "cell_type": "markdown",
   "metadata": {
    "id": "Pnke_GxwJwk5"
   },
   "source": [
    "## 9.0 Lists and indexing\n",
    "\n",
    "### 9.1 What is a list?\n",
    "\n",
    "Lists are ordered collections of values, which are separated by a comma. You can make lists of numbers, letters of the alphabet, booleans, or strings. The strings can include multiple different data types as well. First, let's make a list of animals:\n",
    "\n"
   ]
  },
  {
   "cell_type": "code",
   "execution_count": null,
   "metadata": {
    "colab": {
     "base_uri": "https://localhost:8080/"
    },
    "executionInfo": {
     "elapsed": 381,
     "status": "ok",
     "timestamp": 1625069538514,
     "user": {
      "displayName": "Jess Senger",
      "photoUrl": "",
      "userId": "08376289370634799181"
     },
     "user_tz": 300
    },
    "id": "gEnSywefIUPO",
    "outputId": "fde9d2a6-6637-458a-d6ad-47bbcccee43e"
   },
   "outputs": [],
   "source": [
    "animals = ['cat', 'dog', 'squid', 'moose', 'falcon']\n",
    "print(animals)"
   ]
  },
  {
   "cell_type": "markdown",
   "metadata": {
    "id": "xOSa3ZjuSAsm"
   },
   "source": [
    "We can get the elements of the list through indexing, which starts at 0 and is limited by the length of the string. This is different from some other langages (e.g. R) which starts at 1."
   ]
  },
  {
   "cell_type": "code",
   "execution_count": null,
   "metadata": {
    "colab": {
     "base_uri": "https://localhost:8080/",
     "height": 35
    },
    "executionInfo": {
     "elapsed": 364,
     "status": "ok",
     "timestamp": 1625069544455,
     "user": {
      "displayName": "Jess Senger",
      "photoUrl": "",
      "userId": "08376289370634799181"
     },
     "user_tz": 300
    },
    "id": "kiVCSOoiSHhY",
    "outputId": "7788e146-4254-4576-f46a-b88734702a09"
   },
   "outputs": [],
   "source": [
    "animals[0]"
   ]
  },
  {
   "cell_type": "code",
   "execution_count": null,
   "metadata": {
    "colab": {
     "base_uri": "https://localhost:8080/",
     "height": 164
    },
    "executionInfo": {
     "elapsed": 267,
     "status": "error",
     "timestamp": 1625069548801,
     "user": {
      "displayName": "Jess Senger",
      "photoUrl": "",
      "userId": "08376289370634799181"
     },
     "user_tz": 300
    },
    "id": "HCzeHK26SUZ5",
    "outputId": "28a2ea9e-e50d-4446-c4d8-d2136dd24f59"
   },
   "outputs": [],
   "source": [
    "animals[5] # there will be an error"
   ]
  },
  {
   "cell_type": "markdown",
   "metadata": {
    "id": "6tvTsA3k9Wsf"
   },
   "source": [
    "We can also select certain elements of a list by using a colon `:`. The syntax is start:stop and does not include the stop value. So, if we do 1:5, we get index 1,2,3, and 4."
   ]
  },
  {
   "cell_type": "code",
   "execution_count": null,
   "metadata": {
    "colab": {
     "base_uri": "https://localhost:8080/"
    },
    "executionInfo": {
     "elapsed": 1141,
     "status": "ok",
     "timestamp": 1625069556112,
     "user": {
      "displayName": "Jess Senger",
      "photoUrl": "",
      "userId": "08376289370634799181"
     },
     "user_tz": 300
    },
    "id": "cPm8hec-T6Ck",
    "outputId": "e4e4cb42-c426-4262-c534-a987452f8c89"
   },
   "outputs": [],
   "source": [
    "animals[2:5] # slicing the index 2 through 5 to get 2,3,4"
   ]
  },
  {
   "cell_type": "markdown",
   "metadata": {
    "id": "rT5SfXMjHio6"
   },
   "source": [
    "We can also do it so that we have either `start:` or `:end` where we don't specify the other value.\n",
    "* `start:` all elements including and after this starting point\n",
    "* `:end` all elements before this ending point "
   ]
  },
  {
   "cell_type": "code",
   "execution_count": null,
   "metadata": {
    "colab": {
     "base_uri": "https://localhost:8080/"
    },
    "executionInfo": {
     "elapsed": 297,
     "status": "ok",
     "timestamp": 1625069560003,
     "user": {
      "displayName": "Jess Senger",
      "photoUrl": "",
      "userId": "08376289370634799181"
     },
     "user_tz": 300
    },
    "id": "LF6oaXhVHfV3",
    "outputId": "ce193cda-c1a6-4e4b-ae53-8062d961cc25"
   },
   "outputs": [],
   "source": [
    "animals[2:] # index 2 and on"
   ]
  },
  {
   "cell_type": "code",
   "execution_count": null,
   "metadata": {
    "colab": {
     "base_uri": "https://localhost:8080/"
    },
    "executionInfo": {
     "elapsed": 364,
     "status": "ok",
     "timestamp": 1625069564011,
     "user": {
      "displayName": "Jess Senger",
      "photoUrl": "",
      "userId": "08376289370634799181"
     },
     "user_tz": 300
    },
    "id": "gRMXHE24IL_z",
    "outputId": "a688776f-a809-453e-cb20-5f8896610b74"
   },
   "outputs": [],
   "source": [
    "animals[:2] # everything before index 2"
   ]
  },
  {
   "cell_type": "markdown",
   "metadata": {
    "id": "vhWBHLbBS9YS"
   },
   "source": [
    "We can get the last element of the list by using -1:"
   ]
  },
  {
   "cell_type": "code",
   "execution_count": null,
   "metadata": {
    "colab": {
     "base_uri": "https://localhost:8080/",
     "height": 35
    },
    "executionInfo": {
     "elapsed": 254,
     "status": "ok",
     "timestamp": 1625069569209,
     "user": {
      "displayName": "Jess Senger",
      "photoUrl": "",
      "userId": "08376289370634799181"
     },
     "user_tz": 300
    },
    "id": "Hi89NS2rSbfD",
    "outputId": "36d39182-cddb-4278-9545-d5ca6e73966c"
   },
   "outputs": [],
   "source": [
    "animals[-1]"
   ]
  },
  {
   "cell_type": "markdown",
   "metadata": {
    "id": "wk108EgvTCAc"
   },
   "source": [
    "List are also 'mutable', which means we can change elements of the list without impacting the others:"
   ]
  },
  {
   "cell_type": "code",
   "execution_count": null,
   "metadata": {
    "colab": {
     "base_uri": "https://localhost:8080/"
    },
    "executionInfo": {
     "elapsed": 264,
     "status": "ok",
     "timestamp": 1625069576546,
     "user": {
      "displayName": "Jess Senger",
      "photoUrl": "",
      "userId": "08376289370634799181"
     },
     "user_tz": 300
    },
    "id": "CVGgc3YTTUxx",
    "outputId": "7d8c9173-5c04-4a24-cf3e-852e10daa1d0"
   },
   "outputs": [],
   "source": [
    "print(animals) # printing to remember what they are\n",
    "animals[1] = 'wolf' # changing the first index of the list\n",
    "print(animals)"
   ]
  },
  {
   "cell_type": "markdown",
   "metadata": {
    "id": "oMI-R0OcUCcU"
   },
   "source": [
    "#### 9.2 Adding lists together\n",
    "\n",
    "We can create a second list (of more animals) and then combine them using a `+`\n"
   ]
  },
  {
   "cell_type": "code",
   "execution_count": null,
   "metadata": {
    "colab": {
     "base_uri": "https://localhost:8080/"
    },
    "executionInfo": {
     "elapsed": 314,
     "status": "ok",
     "timestamp": 1625070118207,
     "user": {
      "displayName": "Jess Senger",
      "photoUrl": "",
      "userId": "08376289370634799181"
     },
     "user_tz": 300
    },
    "id": "VO2ZcarqUH5Q",
    "outputId": "f6cf44d7-65a3-4017-9045-ae4f9cbcb075"
   },
   "outputs": [],
   "source": [
    "animals2 = ['spider', 'orca', 'squid']\n",
    "my_favorite = animals + animals2\n",
    "print(my_favorite)"
   ]
  },
  {
   "cell_type": "markdown",
   "metadata": {
    "id": "HB24FCpxx2ED"
   },
   "source": [
    "We can add elements to the list using the method `append`"
   ]
  },
  {
   "cell_type": "code",
   "execution_count": null,
   "metadata": {
    "colab": {
     "base_uri": "https://localhost:8080/"
    },
    "executionInfo": {
     "elapsed": 290,
     "status": "ok",
     "timestamp": 1625070121357,
     "user": {
      "displayName": "Jess Senger",
      "photoUrl": "",
      "userId": "08376289370634799181"
     },
     "user_tz": 300
    },
    "id": "_S9AGoJgU-Po",
    "outputId": "ee92e3a9-18aa-4f58-912b-821d355f532d"
   },
   "outputs": [],
   "source": [
    "my_favorite.append('llama')\n",
    "print(my_favorite)"
   ]
  },
  {
   "cell_type": "markdown",
   "metadata": {
    "id": "k0l9cSPRx5W_"
   },
   "source": [
    "We can get the index (aka position) of an element in the string using `index`:"
   ]
  },
  {
   "cell_type": "code",
   "execution_count": null,
   "metadata": {
    "colab": {
     "base_uri": "https://localhost:8080/"
    },
    "executionInfo": {
     "elapsed": 316,
     "status": "ok",
     "timestamp": 1625070128245,
     "user": {
      "displayName": "Jess Senger",
      "photoUrl": "",
      "userId": "08376289370634799181"
     },
     "user_tz": 300
    },
    "id": "NRtdvnvnVJFK",
    "outputId": "5b669e62-4c7d-4db4-c512-d1f726fc884d"
   },
   "outputs": [],
   "source": [
    "my_favorite.index('moose') # getting the index of the value"
   ]
  },
  {
   "cell_type": "markdown",
   "metadata": {
    "id": "BG8nT7MQyBHw"
   },
   "source": [
    "We can count the number of times a number or string is in the list using `count`"
   ]
  },
  {
   "cell_type": "code",
   "execution_count": null,
   "metadata": {
    "colab": {
     "base_uri": "https://localhost:8080/"
    },
    "executionInfo": {
     "elapsed": 334,
     "status": "ok",
     "timestamp": 1625070132031,
     "user": {
      "displayName": "Jess Senger",
      "photoUrl": "",
      "userId": "08376289370634799181"
     },
     "user_tz": 300
    },
    "id": "IS3YxOokVqGR",
    "outputId": "969afbc1-50a1-433f-e891-9ed26d932ce7"
   },
   "outputs": [],
   "source": [
    "my_favorite.count('squid') # the number of occurances of the value in parentheses"
   ]
  },
  {
   "cell_type": "markdown",
   "metadata": {
    "id": "sIV-3pZdyKRw"
   },
   "source": [
    "We can reverse the string using `reverse`"
   ]
  },
  {
   "cell_type": "code",
   "execution_count": null,
   "metadata": {
    "colab": {
     "base_uri": "https://localhost:8080/"
    },
    "executionInfo": {
     "elapsed": 300,
     "status": "ok",
     "timestamp": 1625070134689,
     "user": {
      "displayName": "Jess Senger",
      "photoUrl": "",
      "userId": "08376289370634799181"
     },
     "user_tz": 300
    },
    "id": "oL9AvcCzdRDO",
    "outputId": "5e9d061b-8eb8-465a-af3a-7c760977d060"
   },
   "outputs": [],
   "source": [
    "my_favorite.reverse() # this permanently reverses it\n",
    "print(my_favorite)"
   ]
  },
  {
   "cell_type": "markdown",
   "metadata": {
    "id": "ODBu4DVRxwlM"
   },
   "source": [
    "We can also do some subsetting at a small scale, and Amanda and Maria will give you better ways to do this later on! We can take different elements and make them into a new list.\n",
    "\n",
    "*Note*: This new variable is called a `tuple` and is not allowed to be changed. Google list vs. tuple if you want more information"
   ]
  },
  {
   "cell_type": "code",
   "execution_count": null,
   "metadata": {
    "colab": {
     "base_uri": "https://localhost:8080/"
    },
    "executionInfo": {
     "elapsed": 295,
     "status": "ok",
     "timestamp": 1625070138483,
     "user": {
      "displayName": "Jess Senger",
      "photoUrl": "",
      "userId": "08376289370634799181"
     },
     "user_tz": 300
    },
    "id": "WJZE3c1eyYdC",
    "outputId": "22c24385-b0e1-4cd6-b8da-a171a4e8986c"
   },
   "outputs": [],
   "source": [
    "ocean_animals = my_favorite[1], my_favorite[2]\n",
    "print(ocean_animals)"
   ]
  },
  {
   "cell_type": "markdown",
   "metadata": {
    "id": "b0FLh_zlsN_A"
   },
   "source": [
    "### 9.3 Coding check in (is it lunch yet?)\n",
    "\n",
    "* Make a list of 5 foods. \n",
    "* Add another food to the end of the list\n",
    "* Change the fifth food in the list to be something else\n",
    "* Call up the first and last element and make a new variable with these in it."
   ]
  },
  {
   "cell_type": "code",
   "execution_count": null,
   "metadata": {
    "id": "Z7QdsyMWywOu"
   },
   "outputs": [],
   "source": [
    "## where you can put your coding check in code\n",
    "\n",
    "\n",
    "\n",
    "\n",
    "\n",
    "\n",
    "\n",
    "\n",
    "\n"
   ]
  },
  {
   "cell_type": "markdown",
   "metadata": {
    "id": "IgXm7CJC7s_N"
   },
   "source": [
    "## 10.0 Dictionaries!\n",
    "\n"
   ]
  },
  {
   "cell_type": "markdown",
   "metadata": {
    "id": "9tLRJNBuNjTf"
   },
   "source": [
    "Dictionaries are unique data structures, which maps a key to a related values. So you can look for a key and get a value, this is useful for functions, reading in data, dataframe manipulation, and so much more. We might want to link together several values, and we can use the function `dict` and `zip` to combine them together:"
   ]
  },
  {
   "cell_type": "code",
   "execution_count": null,
   "metadata": {
    "colab": {
     "base_uri": "https://localhost:8080/"
    },
    "executionInfo": {
     "elapsed": 304,
     "status": "ok",
     "timestamp": 1625070189069,
     "user": {
      "displayName": "Jess Senger",
      "photoUrl": "",
      "userId": "08376289370634799181"
     },
     "user_tz": 300
    },
    "id": "BZS9HFxyNzJO",
    "outputId": "c6b0075f-3a26-4305-f0d4-46a15e3bc4fa"
   },
   "outputs": [],
   "source": [
    "# list of keys\n",
    "my_keys=['a','b','c']\n",
    "\n",
    "# list of values \n",
    "my_values=[1,2,3]\n",
    "\n",
    "#join the list using zip\n",
    "alpha_num_dict=dict(zip(my_keys,my_values))\n",
    "\n",
    "print(alpha_num_dict)"
   ]
  },
  {
   "cell_type": "markdown",
   "metadata": {
    "id": "l9KAtmyKOHMx"
   },
   "source": [
    "So now we have each key mapped to a value, so `a` is mapped to `1`, etc. We can also do this in fewer lines (if we don't have that much to write):"
   ]
  },
  {
   "cell_type": "code",
   "execution_count": null,
   "metadata": {
    "colab": {
     "base_uri": "https://localhost:8080/"
    },
    "executionInfo": {
     "elapsed": 359,
     "status": "ok",
     "timestamp": 1625070191630,
     "user": {
      "displayName": "Jess Senger",
      "photoUrl": "",
      "userId": "08376289370634799181"
     },
     "user_tz": 300
    },
    "id": "djKZUrGs7u3a",
    "outputId": "24bf4d3b-b4c1-4e38-9a94-6220fbf16393"
   },
   "outputs": [],
   "source": [
    "### Dictionaries relate keys to values, you look for a key and get a value\n",
    "## manually enter the keys and values to dict directly \n",
    "alpha_num_dict2=dict([('a',1),('b',2),('c',3)])\n",
    "print(alpha_num_dict2)\n"
   ]
  },
  {
   "cell_type": "markdown",
   "metadata": {
    "id": "da24zWzjOSmi"
   },
   "source": [
    "This is useful because we can then use the key to call up a value using the method `get`:"
   ]
  },
  {
   "cell_type": "code",
   "execution_count": null,
   "metadata": {
    "colab": {
     "base_uri": "https://localhost:8080/"
    },
    "executionInfo": {
     "elapsed": 414,
     "status": "ok",
     "timestamp": 1625070196953,
     "user": {
      "displayName": "Jess Senger",
      "photoUrl": "",
      "userId": "08376289370634799181"
     },
     "user_tz": 300
    },
    "id": "JSqjusx-767p",
    "outputId": "5b3bbdad-d7f2-4c74-80b4-11b8dafb69e3"
   },
   "outputs": [],
   "source": [
    "alpha_num_dict2.get('b')"
   ]
  },
  {
   "cell_type": "markdown",
   "metadata": {
    "id": "7jC9rBdtOetk"
   },
   "source": [
    "## 11.0 Coding check in\n",
    "\n",
    "Write a dictionary linking together your four closest friends and their favorite animals. You can do so by making a list of friends and a list of animals and then zipping them together. Then call up one of their favorite animals using their name!"
   ]
  },
  {
   "cell_type": "code",
   "execution_count": null,
   "metadata": {
    "id": "ZfwljdSjPcPq"
   },
   "outputs": [],
   "source": [
    "## here is where you can write your code for the coding check in\n",
    "\n",
    "\n",
    "\n",
    "\n",
    "\n",
    "\n",
    "\n"
   ]
  },
  {
   "cell_type": "markdown",
   "metadata": {
    "id": "3Wn2DHyIa8f-"
   },
   "source": [
    "## 12.0 Built in functions\n",
    "\n",
    "Some functions are already built into python, others you will have to load using packages. A function in mathematics, is an expression, rule, or law that defines a relationship between one variable (the independent variable) and another variable (the dependent variable).\n",
    "\n",
    "In coding, the definition is similar. Functions are \"self contained\" modules of code that accomplish a specific task. Functions usually \"take in\" data, process it, and \"return\" a result.\n",
    "\n",
    "\n",
    "\n",
    "You may have noticed that we are using the built in function `print` a lot. The `print` function is self contained code, that takes in `arguments` and returns the result. It's a pretty simple one that just returns the given input.\n",
    "\n",
    "There are many vastly more complicated functions, which can be downloaded as packages, which we will go into far greater depth in future lessons!\n",
    "\n",
    "We can use the `?` to ask Python to give us some more information on a function:"
   ]
  },
  {
   "cell_type": "code",
   "execution_count": null,
   "metadata": {},
   "outputs": [],
   "source": [
    "?print"
   ]
  },
  {
   "cell_type": "markdown",
   "metadata": {},
   "source": [
    "When using markdown/ notebook formats, the cell will only return the last action, so if you use several functions that return values, like `min` or `max`, it will only return the most recent one. By doing `print` it will print multiple things to the command line, to illustrate the answer. "
   ]
  },
  {
   "cell_type": "code",
   "execution_count": null,
   "metadata": {
    "colab": {
     "base_uri": "https://localhost:8080/"
    },
    "executionInfo": {
     "elapsed": 295,
     "status": "ok",
     "timestamp": 1625070215798,
     "user": {
      "displayName": "Jess Senger",
      "photoUrl": "",
      "userId": "08376289370634799181"
     },
     "user_tz": 300
    },
    "id": "nbxyIAxMP29q",
    "outputId": "87cbc04d-9b3f-48ed-f1d2-b4100bd9122f"
   },
   "outputs": [],
   "source": [
    "y = -15.75\n",
    "\n",
    "abs(y) # this function takes in the value and returns the absolute value\n",
    "round(y,1) # this function rounds y to 1st digit after the decimal. \n",
    "\n",
    "# This value 1 is a second argument to the function that says\n",
    "# the number of digits you want after the decimal\n",
    "\n",
    "# only returns the last thing we did, which was rounding"
   ]
  },
  {
   "cell_type": "code",
   "execution_count": null,
   "metadata": {
    "colab": {
     "base_uri": "https://localhost:8080/"
    },
    "executionInfo": {
     "elapsed": 271,
     "status": "ok",
     "timestamp": 1625070221093,
     "user": {
      "displayName": "Jess Senger",
      "photoUrl": "",
      "userId": "08376289370634799181"
     },
     "user_tz": 300
    },
    "id": "YNv-5w84QkNf",
    "outputId": "a5816b1f-e3f6-4ce2-da6d-9b1f64b01656"
   },
   "outputs": [],
   "source": [
    "y = -15.75\n",
    "\n",
    "print(abs(y))\n",
    "print(round(y,1))\n",
    "\n",
    "# now we will see both answers"
   ]
  },
  {
   "cell_type": "markdown",
   "metadata": {},
   "source": [
    "Lets try giving different arguments to the `round` function"
   ]
  },
  {
   "cell_type": "code",
   "execution_count": null,
   "metadata": {},
   "outputs": [],
   "source": [
    "y = -15.75\n",
    "\n",
    "print(round(y,0))\n",
    "print(round(y,1))\n",
    "print(round(y,2))\n",
    "print(round(y,3))\n",
    "print(round(y,-1)) # this means rounding to the tens place!"
   ]
  },
  {
   "cell_type": "markdown",
   "metadata": {
    "id": "cvoGzcNNQ0Hj"
   },
   "source": [
    "We can also use certain functions to perfom actions on a list of values:"
   ]
  },
  {
   "cell_type": "code",
   "execution_count": null,
   "metadata": {
    "colab": {
     "base_uri": "https://localhost:8080/"
    },
    "executionInfo": {
     "elapsed": 314,
     "status": "ok",
     "timestamp": 1625070229476,
     "user": {
      "displayName": "Jess Senger",
      "photoUrl": "",
      "userId": "08376289370634799181"
     },
     "user_tz": 300
    },
    "id": "VtYRrX7Ia7rB",
    "outputId": "97e75acc-8ac0-4239-c683-54a0c98e0129"
   },
   "outputs": [],
   "source": [
    "# for a list of numeric values, will not return anything useful for strings\n",
    "x = [5,4,10,3,100]\n",
    "print(max(x)) # largest value (input string, list, set, tuple, ...)\n",
    "print(min(x)) # smallest value\n",
    "print(sum(x)) # sum all values\n",
    "print(len(x)) # length of list"
   ]
  },
  {
   "cell_type": "markdown",
   "metadata": {
    "id": "j03kofGabgvZ"
   },
   "source": [
    "Getting the length of a list is very important, and we will touch on it later when doing `for` loops! We can also perform examples of casting, which means to change the data type from one to another. We start with our value 5.5."
   ]
  },
  {
   "cell_type": "markdown",
   "metadata": {
    "id": "vgA_jAw8bbFn"
   },
   "source": [
    "Examples of casting, which means changing the data type from one to another:"
   ]
  },
  {
   "cell_type": "code",
   "execution_count": null,
   "metadata": {
    "colab": {
     "base_uri": "https://localhost:8080/"
    },
    "executionInfo": {
     "elapsed": 251,
     "status": "ok",
     "timestamp": 1625070242470,
     "user": {
      "displayName": "Jess Senger",
      "photoUrl": "",
      "userId": "08376289370634799181"
     },
     "user_tz": 300
    },
    "id": "ieea9JmNbjqN",
    "outputId": "359f62d2-0bd4-4f34-e0ba-36dee8f4ab03"
   },
   "outputs": [],
   "source": [
    "x = 5.5\n",
    "\n",
    "print(bool(x)) # to Boolean\n",
    "print(complex(x)) # to complex number\n",
    "print(float(x)) # to floating point\n",
    "print(int(x)) # to integer\n",
    "print(str(x)) # to string"
   ]
  },
  {
   "cell_type": "markdown",
   "metadata": {
    "id": "vq0V9XfRRlwo"
   },
   "source": [
    "The Boolean value means almost nothing and you can't really tell the last one is a string, but this can be very useful in your research, especially if your data gets read in as the wrong format (this definitely happens!)\n",
    "\n",
    "Here is how to check the structure of a variable:"
   ]
  },
  {
   "cell_type": "code",
   "execution_count": null,
   "metadata": {
    "colab": {
     "base_uri": "https://localhost:8080/"
    },
    "executionInfo": {
     "elapsed": 262,
     "status": "ok",
     "timestamp": 1625070254520,
     "user": {
      "displayName": "Jess Senger",
      "photoUrl": "",
      "userId": "08376289370634799181"
     },
     "user_tz": 300
    },
    "id": "U-rnyLJGT0Xa",
    "outputId": "6c974bf8-4748-409b-b2c4-7aa02ecee093"
   },
   "outputs": [],
   "source": [
    "# the first is a float value (a number)\n",
    "print(type(x))\n",
    "\n",
    "# we will now make it a string using str\n",
    "y = str(x)\n",
    "print(type(y))\n",
    "\n",
    "print(y)"
   ]
  },
  {
   "cell_type": "markdown",
   "metadata": {
    "id": "qBuLKw5FUHo4"
   },
   "source": [
    "Most of these only work on numeric variables, but Python can also cast strings that include numbers to numeric values:"
   ]
  },
  {
   "cell_type": "code",
   "execution_count": null,
   "metadata": {
    "colab": {
     "base_uri": "https://localhost:8080/"
    },
    "executionInfo": {
     "elapsed": 346,
     "status": "ok",
     "timestamp": 1625070267713,
     "user": {
      "displayName": "Jess Senger",
      "photoUrl": "",
      "userId": "08376289370634799181"
     },
     "user_tz": 300
    },
    "id": "Z_2nGY9kSEDF",
    "outputId": "41382ad1-890d-4fd7-a6dc-2e9524cb6d31"
   },
   "outputs": [],
   "source": [
    "x = \"5.5\"\n",
    "print(type(x)) # checking the type of x\n",
    "\n",
    "z = float(x)\n",
    "print(type(z)) # checking the type of x after we hopefully converted it "
   ]
  },
  {
   "cell_type": "markdown",
   "metadata": {
    "id": "8ljBzHtxZSaO"
   },
   "source": [
    "## 13 Coding check in\n",
    "\n",
    "I'll provide you with a list of heights. Find the max and the min for the list of heights. Then, see if you can find the mean value. There isn't a built in function for mean, but you have all you need with `sum` and `len`. \n",
    "\n",
    "Mutate the 3rd index to be someone very tall (85 inches?). How does that change the mean?"
   ]
  },
  {
   "cell_type": "code",
   "execution_count": null,
   "metadata": {
    "id": "MUtRYT4fWaDD"
   },
   "outputs": [],
   "source": [
    "### space to write check in\n",
    "\n",
    "heights_inches = [59, 80, 64, 55, 74, 70, 45, 66, 54, 64, 60, 61, 70]\n",
    "\n",
    "\n",
    "\n",
    "\n",
    "\n",
    "\n",
    "\n",
    "\n",
    "\n",
    "\n",
    "\n"
   ]
  },
  {
   "cell_type": "markdown",
   "metadata": {},
   "source": [
    "# Answers to the coding check ins\n",
    "\n",
    "Don't look at these until I give you the answer! It really helps to try your best during the check ins and think the problem through on your own!\n",
    "\n",
    "*Note*: there are often several ways you can accomplish a task in coding, and there are many correct ways of doing things! If your code looks different from mine but you still get the right answer, that's great!"
   ]
  },
  {
   "cell_type": "markdown",
   "metadata": {
    "id": "B686yN8vpnFj"
   },
   "source": [
    "### 5.1 Answer"
   ]
  },
  {
   "cell_type": "code",
   "execution_count": null,
   "metadata": {
    "colab": {
     "base_uri": "https://localhost:8080/"
    },
    "executionInfo": {
     "elapsed": 261,
     "status": "ok",
     "timestamp": 1625069332841,
     "user": {
      "displayName": "Jess Senger",
      "photoUrl": "",
      "userId": "08376289370634799181"
     },
     "user_tz": 300
    },
    "id": "wgE-uePgm-AD",
    "outputId": "1f115783-8e1d-49f5-c650-631877b5091b"
   },
   "outputs": [],
   "source": [
    "## NOTE: there are several ways you could have accomplished this\n",
    "## everyones code always looks different, this is normal\n",
    "\n",
    "weight1, weight2, weight3 = 5,10,25 # setting the value for three weights\n",
    "\n",
    "conversion = 2.2 # I'm using a variable as a conversion to make sure I don't do a typo later\n",
    "\n",
    "weight_lbs_1 = weight1*conversion # converting the weights from kg to lbs\n",
    "weight_lbs_2 = weight2*conversion\n",
    "weight_lbs_3 = weight3*conversion\n",
    "\n",
    "print(weight_lbs_1, weight_lbs_2, weight_lbs_3) # printing out the weights"
   ]
  },
  {
   "cell_type": "markdown",
   "metadata": {
    "id": "jG-1dWVvM_cs"
   },
   "source": [
    "### 8.1 Answer "
   ]
  },
  {
   "cell_type": "code",
   "execution_count": null,
   "metadata": {
    "colab": {
     "base_uri": "https://localhost:8080/",
     "height": 69
    },
    "executionInfo": {
     "elapsed": 311,
     "status": "ok",
     "timestamp": 1625069524694,
     "user": {
      "displayName": "Jess Senger",
      "photoUrl": "",
      "userId": "08376289370634799181"
     },
     "user_tz": 300
    },
    "id": "6LwvfpcMwKUX",
    "outputId": "0249ad74-1700-4bad-87f2-562f3dad2e00"
   },
   "outputs": [],
   "source": [
    "name1 = 'My name is Katie ' # have to add the space after Katie\n",
    "name2 = 'Dixon' # my last name\n",
    "\n",
    "myname = name1 + name2 # adding my strings together\n",
    "print(myname) \n",
    "\n",
    "myname = myname.replace('Dixon','Efron') # replacing my name with Efron in my string\n",
    "print(myname)\n",
    "\n"
   ]
  },
  {
   "cell_type": "markdown",
   "metadata": {
    "id": "C8_Adu7nyyZp"
   },
   "source": [
    "### 9.4 Answer to coding check in"
   ]
  },
  {
   "cell_type": "code",
   "execution_count": null,
   "metadata": {
    "colab": {
     "base_uri": "https://localhost:8080/"
    },
    "executionInfo": {
     "elapsed": 271,
     "status": "ok",
     "timestamp": 1625070148126,
     "user": {
      "displayName": "Jess Senger",
      "photoUrl": "",
      "userId": "08376289370634799181"
     },
     "user_tz": 300
    },
    "id": "Oyq5F0fPuxnT",
    "outputId": "535e7e7d-551f-4624-a8a6-82ebf7d092a3"
   },
   "outputs": [],
   "source": [
    "## coding check in here!\n",
    "\n",
    "foods = ['cheese','lettuce','onion','bread','ham'] # my string of foods\n",
    "print(foods)\n",
    "\n",
    "foods.append('pickle') # adding lettuce to the end of the list\n",
    "print(foods)\n",
    "\n",
    "foods[4] = 'turkey' # replacing the 5th item in the list with turkey\n",
    "print(foods)\n",
    "\n",
    "favorite_foods = foods[0], foods[5] # collecting the first and last item in the list\n",
    "print(favorite_foods)"
   ]
  },
  {
   "cell_type": "markdown",
   "metadata": {
    "id": "3cj-aUJaPgHd"
   },
   "source": [
    "### 11.1 Answer (don't check until you've tried)"
   ]
  },
  {
   "cell_type": "code",
   "execution_count": null,
   "metadata": {
    "colab": {
     "base_uri": "https://localhost:8080/",
     "height": 35
    },
    "executionInfo": {
     "elapsed": 375,
     "status": "ok",
     "timestamp": 1625070206133,
     "user": {
      "displayName": "Jess Senger",
      "photoUrl": "",
      "userId": "08376289370634799181"
     },
     "user_tz": 300
    },
    "id": "AeWmpbXPOv--",
    "outputId": "47443012-b004-48cb-9cd7-2e2f634c9109"
   },
   "outputs": [],
   "source": [
    "# creating a list of people and a list of animals\n",
    "friends = [\"Katie\", \"Alex\", \"Maria\", \"Amanda\"]\n",
    "animals = [\"Cheetah\", \"Falcon\", \"Penguin\", \"Dolphin\"]\n",
    "\n",
    "# zipping the two lists together to create a dictionary\n",
    "animal_dictionary = dict(zip(friends,animals))\n",
    "\n",
    "# get Maria's favorite animal\n",
    "animal_dictionary.get('Maria')"
   ]
  },
  {
   "cell_type": "markdown",
   "metadata": {
    "id": "Bf4WbkSoWgGP"
   },
   "source": [
    "## 13.1 Check in answer"
   ]
  },
  {
   "cell_type": "code",
   "execution_count": null,
   "metadata": {
    "colab": {
     "base_uri": "https://localhost:8080/"
    },
    "executionInfo": {
     "elapsed": 311,
     "status": "ok",
     "timestamp": 1625070273549,
     "user": {
      "displayName": "Jess Senger",
      "photoUrl": "",
      "userId": "08376289370634799181"
     },
     "user_tz": 300
    },
    "id": "zegwl7ESRWBo",
    "outputId": "b7b99979-54b9-48ee-dd7f-2f1d2d89844c"
   },
   "outputs": [],
   "source": [
    "heights_inches = [59, 80, 64, 55, 74, 70, 45, 66, 54, 64, 60, 61, 70]\n",
    "\n",
    "print(max(heights_inches)) # printing the max\n",
    "print(min(heights_inches)) # the min\n",
    "\n",
    "sum_heights = sum(heights_inches) # getting the sum of the heights\n",
    "len_heights = len(heights_inches) # getting the number of heights\n",
    "\n",
    "print(sum_heights/len_heights) # printing the mean \n",
    "\n",
    "heights_inches[3] = 85\n",
    "\n",
    "# getting the mean again, don't need to update the length because we didn't change it\n",
    "\n",
    "sum_heights = sum(heights_inches) # getting the sum of the heights\n",
    "print(sum_heights/len_heights) # printing the mean \n",
    "\n"
   ]
  }
 ],
 "metadata": {
  "colab": {
   "collapsed_sections": [],
   "name": "Day2_Data_and_Storage.ipynb",
   "provenance": [
    {
     "file_id": "1hORhzlOr40UCRemsLrW8yCgGaSp4tZ6j",
     "timestamp": 1618585499503
    }
   ]
  },
  "kernelspec": {
   "display_name": "Python 3",
   "language": "python",
   "name": "python3"
  },
  "language_info": {
   "codemirror_mode": {
    "name": "ipython",
    "version": 3
   },
   "file_extension": ".py",
   "mimetype": "text/x-python",
   "name": "python",
   "nbconvert_exporter": "python",
   "pygments_lexer": "ipython3",
   "version": "3.7.1"
  }
 },
 "nbformat": 4,
 "nbformat_minor": 1
}
